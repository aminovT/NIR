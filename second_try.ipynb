{
 "cells": [
  {
   "cell_type": "code",
   "execution_count": 1,
   "metadata": {},
   "outputs": [],
   "source": [
    "from sklearn.linear_model import LogisticRegression\n",
    "from sklearn.metrics import roc_curve, auc, precision_recall_curve, average_precision_score,classification_report,f1_score\n",
    "from sklearn.model_selection import train_test_split, GridSearchCV\n",
    "import numpy as np\n",
    "import pandas as pd\n",
    "from sklearn.datasets import load_breast_cancer \n",
    "from sklearn.preprocessing import StandardScaler\n",
    "import matplotlib.pyplot as plt \n",
    "\n",
    "import math\n",
    "import torch\n",
    "from torch import nn\n",
    "from torch import optim\n",
    "from torchvision.datasets import MNIST\n",
    "from torch.utils.data import TensorDataset, DataLoader"
   ]
  },
  {
   "cell_type": "code",
   "execution_count": 2,
   "metadata": {},
   "outputs": [],
   "source": [
    "def answer_one(): \n",
    "    \n",
    "    cancer = load_breast_cancer()     \n",
    "    data = np.c_[cancer.data, cancer.target]\n",
    "    columns = np.append(cancer.feature_names, [\"target\"])\n",
    "    return pd.DataFrame(data, columns=columns)\n"
   ]
  },
  {
   "cell_type": "code",
   "execution_count": 3,
   "metadata": {},
   "outputs": [],
   "source": [
    "all_data = answer_one()"
   ]
  },
  {
   "cell_type": "code",
   "execution_count": 4,
   "metadata": {},
   "outputs": [
    {
     "data": {
      "text/html": [
       "<div>\n",
       "<style scoped>\n",
       "    .dataframe tbody tr th:only-of-type {\n",
       "        vertical-align: middle;\n",
       "    }\n",
       "\n",
       "    .dataframe tbody tr th {\n",
       "        vertical-align: top;\n",
       "    }\n",
       "\n",
       "    .dataframe thead th {\n",
       "        text-align: right;\n",
       "    }\n",
       "</style>\n",
       "<table border=\"1\" class=\"dataframe\">\n",
       "  <thead>\n",
       "    <tr style=\"text-align: right;\">\n",
       "      <th></th>\n",
       "      <th>mean radius</th>\n",
       "      <th>mean texture</th>\n",
       "      <th>mean perimeter</th>\n",
       "      <th>mean area</th>\n",
       "      <th>mean smoothness</th>\n",
       "      <th>mean compactness</th>\n",
       "      <th>mean concavity</th>\n",
       "      <th>mean concave points</th>\n",
       "      <th>mean symmetry</th>\n",
       "      <th>mean fractal dimension</th>\n",
       "      <th>...</th>\n",
       "      <th>worst texture</th>\n",
       "      <th>worst perimeter</th>\n",
       "      <th>worst area</th>\n",
       "      <th>worst smoothness</th>\n",
       "      <th>worst compactness</th>\n",
       "      <th>worst concavity</th>\n",
       "      <th>worst concave points</th>\n",
       "      <th>worst symmetry</th>\n",
       "      <th>worst fractal dimension</th>\n",
       "      <th>target</th>\n",
       "    </tr>\n",
       "  </thead>\n",
       "  <tbody>\n",
       "    <tr>\n",
       "      <th>count</th>\n",
       "      <td>569.000000</td>\n",
       "      <td>569.000000</td>\n",
       "      <td>569.000000</td>\n",
       "      <td>569.000000</td>\n",
       "      <td>569.000000</td>\n",
       "      <td>569.000000</td>\n",
       "      <td>569.000000</td>\n",
       "      <td>569.000000</td>\n",
       "      <td>569.000000</td>\n",
       "      <td>569.000000</td>\n",
       "      <td>...</td>\n",
       "      <td>569.000000</td>\n",
       "      <td>569.000000</td>\n",
       "      <td>569.000000</td>\n",
       "      <td>569.000000</td>\n",
       "      <td>569.000000</td>\n",
       "      <td>569.000000</td>\n",
       "      <td>569.000000</td>\n",
       "      <td>569.000000</td>\n",
       "      <td>569.000000</td>\n",
       "      <td>569.000000</td>\n",
       "    </tr>\n",
       "    <tr>\n",
       "      <th>mean</th>\n",
       "      <td>14.127292</td>\n",
       "      <td>19.289649</td>\n",
       "      <td>91.969033</td>\n",
       "      <td>654.889104</td>\n",
       "      <td>0.096360</td>\n",
       "      <td>0.104341</td>\n",
       "      <td>0.088799</td>\n",
       "      <td>0.048919</td>\n",
       "      <td>0.181162</td>\n",
       "      <td>0.062798</td>\n",
       "      <td>...</td>\n",
       "      <td>25.677223</td>\n",
       "      <td>107.261213</td>\n",
       "      <td>880.583128</td>\n",
       "      <td>0.132369</td>\n",
       "      <td>0.254265</td>\n",
       "      <td>0.272188</td>\n",
       "      <td>0.114606</td>\n",
       "      <td>0.290076</td>\n",
       "      <td>0.083946</td>\n",
       "      <td>0.627417</td>\n",
       "    </tr>\n",
       "    <tr>\n",
       "      <th>std</th>\n",
       "      <td>3.524049</td>\n",
       "      <td>4.301036</td>\n",
       "      <td>24.298981</td>\n",
       "      <td>351.914129</td>\n",
       "      <td>0.014064</td>\n",
       "      <td>0.052813</td>\n",
       "      <td>0.079720</td>\n",
       "      <td>0.038803</td>\n",
       "      <td>0.027414</td>\n",
       "      <td>0.007060</td>\n",
       "      <td>...</td>\n",
       "      <td>6.146258</td>\n",
       "      <td>33.602542</td>\n",
       "      <td>569.356993</td>\n",
       "      <td>0.022832</td>\n",
       "      <td>0.157336</td>\n",
       "      <td>0.208624</td>\n",
       "      <td>0.065732</td>\n",
       "      <td>0.061867</td>\n",
       "      <td>0.018061</td>\n",
       "      <td>0.483918</td>\n",
       "    </tr>\n",
       "    <tr>\n",
       "      <th>min</th>\n",
       "      <td>6.981000</td>\n",
       "      <td>9.710000</td>\n",
       "      <td>43.790000</td>\n",
       "      <td>143.500000</td>\n",
       "      <td>0.052630</td>\n",
       "      <td>0.019380</td>\n",
       "      <td>0.000000</td>\n",
       "      <td>0.000000</td>\n",
       "      <td>0.106000</td>\n",
       "      <td>0.049960</td>\n",
       "      <td>...</td>\n",
       "      <td>12.020000</td>\n",
       "      <td>50.410000</td>\n",
       "      <td>185.200000</td>\n",
       "      <td>0.071170</td>\n",
       "      <td>0.027290</td>\n",
       "      <td>0.000000</td>\n",
       "      <td>0.000000</td>\n",
       "      <td>0.156500</td>\n",
       "      <td>0.055040</td>\n",
       "      <td>0.000000</td>\n",
       "    </tr>\n",
       "    <tr>\n",
       "      <th>25%</th>\n",
       "      <td>11.700000</td>\n",
       "      <td>16.170000</td>\n",
       "      <td>75.170000</td>\n",
       "      <td>420.300000</td>\n",
       "      <td>0.086370</td>\n",
       "      <td>0.064920</td>\n",
       "      <td>0.029560</td>\n",
       "      <td>0.020310</td>\n",
       "      <td>0.161900</td>\n",
       "      <td>0.057700</td>\n",
       "      <td>...</td>\n",
       "      <td>21.080000</td>\n",
       "      <td>84.110000</td>\n",
       "      <td>515.300000</td>\n",
       "      <td>0.116600</td>\n",
       "      <td>0.147200</td>\n",
       "      <td>0.114500</td>\n",
       "      <td>0.064930</td>\n",
       "      <td>0.250400</td>\n",
       "      <td>0.071460</td>\n",
       "      <td>0.000000</td>\n",
       "    </tr>\n",
       "    <tr>\n",
       "      <th>50%</th>\n",
       "      <td>13.370000</td>\n",
       "      <td>18.840000</td>\n",
       "      <td>86.240000</td>\n",
       "      <td>551.100000</td>\n",
       "      <td>0.095870</td>\n",
       "      <td>0.092630</td>\n",
       "      <td>0.061540</td>\n",
       "      <td>0.033500</td>\n",
       "      <td>0.179200</td>\n",
       "      <td>0.061540</td>\n",
       "      <td>...</td>\n",
       "      <td>25.410000</td>\n",
       "      <td>97.660000</td>\n",
       "      <td>686.500000</td>\n",
       "      <td>0.131300</td>\n",
       "      <td>0.211900</td>\n",
       "      <td>0.226700</td>\n",
       "      <td>0.099930</td>\n",
       "      <td>0.282200</td>\n",
       "      <td>0.080040</td>\n",
       "      <td>1.000000</td>\n",
       "    </tr>\n",
       "    <tr>\n",
       "      <th>75%</th>\n",
       "      <td>15.780000</td>\n",
       "      <td>21.800000</td>\n",
       "      <td>104.100000</td>\n",
       "      <td>782.700000</td>\n",
       "      <td>0.105300</td>\n",
       "      <td>0.130400</td>\n",
       "      <td>0.130700</td>\n",
       "      <td>0.074000</td>\n",
       "      <td>0.195700</td>\n",
       "      <td>0.066120</td>\n",
       "      <td>...</td>\n",
       "      <td>29.720000</td>\n",
       "      <td>125.400000</td>\n",
       "      <td>1084.000000</td>\n",
       "      <td>0.146000</td>\n",
       "      <td>0.339100</td>\n",
       "      <td>0.382900</td>\n",
       "      <td>0.161400</td>\n",
       "      <td>0.317900</td>\n",
       "      <td>0.092080</td>\n",
       "      <td>1.000000</td>\n",
       "    </tr>\n",
       "    <tr>\n",
       "      <th>max</th>\n",
       "      <td>28.110000</td>\n",
       "      <td>39.280000</td>\n",
       "      <td>188.500000</td>\n",
       "      <td>2501.000000</td>\n",
       "      <td>0.163400</td>\n",
       "      <td>0.345400</td>\n",
       "      <td>0.426800</td>\n",
       "      <td>0.201200</td>\n",
       "      <td>0.304000</td>\n",
       "      <td>0.097440</td>\n",
       "      <td>...</td>\n",
       "      <td>49.540000</td>\n",
       "      <td>251.200000</td>\n",
       "      <td>4254.000000</td>\n",
       "      <td>0.222600</td>\n",
       "      <td>1.058000</td>\n",
       "      <td>1.252000</td>\n",
       "      <td>0.291000</td>\n",
       "      <td>0.663800</td>\n",
       "      <td>0.207500</td>\n",
       "      <td>1.000000</td>\n",
       "    </tr>\n",
       "  </tbody>\n",
       "</table>\n",
       "<p>8 rows × 31 columns</p>\n",
       "</div>"
      ],
      "text/plain": [
       "       mean radius  mean texture  mean perimeter    mean area  \\\n",
       "count   569.000000    569.000000      569.000000   569.000000   \n",
       "mean     14.127292     19.289649       91.969033   654.889104   \n",
       "std       3.524049      4.301036       24.298981   351.914129   \n",
       "min       6.981000      9.710000       43.790000   143.500000   \n",
       "25%      11.700000     16.170000       75.170000   420.300000   \n",
       "50%      13.370000     18.840000       86.240000   551.100000   \n",
       "75%      15.780000     21.800000      104.100000   782.700000   \n",
       "max      28.110000     39.280000      188.500000  2501.000000   \n",
       "\n",
       "       mean smoothness  mean compactness  mean concavity  mean concave points  \\\n",
       "count       569.000000        569.000000      569.000000           569.000000   \n",
       "mean          0.096360          0.104341        0.088799             0.048919   \n",
       "std           0.014064          0.052813        0.079720             0.038803   \n",
       "min           0.052630          0.019380        0.000000             0.000000   \n",
       "25%           0.086370          0.064920        0.029560             0.020310   \n",
       "50%           0.095870          0.092630        0.061540             0.033500   \n",
       "75%           0.105300          0.130400        0.130700             0.074000   \n",
       "max           0.163400          0.345400        0.426800             0.201200   \n",
       "\n",
       "       mean symmetry  mean fractal dimension     ...      worst texture  \\\n",
       "count     569.000000              569.000000     ...         569.000000   \n",
       "mean        0.181162                0.062798     ...          25.677223   \n",
       "std         0.027414                0.007060     ...           6.146258   \n",
       "min         0.106000                0.049960     ...          12.020000   \n",
       "25%         0.161900                0.057700     ...          21.080000   \n",
       "50%         0.179200                0.061540     ...          25.410000   \n",
       "75%         0.195700                0.066120     ...          29.720000   \n",
       "max         0.304000                0.097440     ...          49.540000   \n",
       "\n",
       "       worst perimeter   worst area  worst smoothness  worst compactness  \\\n",
       "count       569.000000   569.000000        569.000000         569.000000   \n",
       "mean        107.261213   880.583128          0.132369           0.254265   \n",
       "std          33.602542   569.356993          0.022832           0.157336   \n",
       "min          50.410000   185.200000          0.071170           0.027290   \n",
       "25%          84.110000   515.300000          0.116600           0.147200   \n",
       "50%          97.660000   686.500000          0.131300           0.211900   \n",
       "75%         125.400000  1084.000000          0.146000           0.339100   \n",
       "max         251.200000  4254.000000          0.222600           1.058000   \n",
       "\n",
       "       worst concavity  worst concave points  worst symmetry  \\\n",
       "count       569.000000            569.000000      569.000000   \n",
       "mean          0.272188              0.114606        0.290076   \n",
       "std           0.208624              0.065732        0.061867   \n",
       "min           0.000000              0.000000        0.156500   \n",
       "25%           0.114500              0.064930        0.250400   \n",
       "50%           0.226700              0.099930        0.282200   \n",
       "75%           0.382900              0.161400        0.317900   \n",
       "max           1.252000              0.291000        0.663800   \n",
       "\n",
       "       worst fractal dimension      target  \n",
       "count               569.000000  569.000000  \n",
       "mean                  0.083946    0.627417  \n",
       "std                   0.018061    0.483918  \n",
       "min                   0.055040    0.000000  \n",
       "25%                   0.071460    0.000000  \n",
       "50%                   0.080040    1.000000  \n",
       "75%                   0.092080    1.000000  \n",
       "max                   0.207500    1.000000  \n",
       "\n",
       "[8 rows x 31 columns]"
      ]
     },
     "execution_count": 4,
     "metadata": {},
     "output_type": "execute_result"
    }
   ],
   "source": [
    "all_data.describe()"
   ]
  },
  {
   "cell_type": "code",
   "execution_count": 5,
   "metadata": {},
   "outputs": [
    {
     "data": {
      "text/html": [
       "<div>\n",
       "<style scoped>\n",
       "    .dataframe tbody tr th:only-of-type {\n",
       "        vertical-align: middle;\n",
       "    }\n",
       "\n",
       "    .dataframe tbody tr th {\n",
       "        vertical-align: top;\n",
       "    }\n",
       "\n",
       "    .dataframe thead th {\n",
       "        text-align: right;\n",
       "    }\n",
       "</style>\n",
       "<table border=\"1\" class=\"dataframe\">\n",
       "  <thead>\n",
       "    <tr style=\"text-align: right;\">\n",
       "      <th></th>\n",
       "      <th>mean radius</th>\n",
       "      <th>mean texture</th>\n",
       "      <th>mean perimeter</th>\n",
       "      <th>mean area</th>\n",
       "      <th>mean smoothness</th>\n",
       "      <th>mean compactness</th>\n",
       "      <th>mean concavity</th>\n",
       "      <th>mean concave points</th>\n",
       "      <th>mean symmetry</th>\n",
       "      <th>mean fractal dimension</th>\n",
       "      <th>...</th>\n",
       "      <th>worst texture</th>\n",
       "      <th>worst perimeter</th>\n",
       "      <th>worst area</th>\n",
       "      <th>worst smoothness</th>\n",
       "      <th>worst compactness</th>\n",
       "      <th>worst concavity</th>\n",
       "      <th>worst concave points</th>\n",
       "      <th>worst symmetry</th>\n",
       "      <th>worst fractal dimension</th>\n",
       "      <th>target</th>\n",
       "    </tr>\n",
       "  </thead>\n",
       "  <tbody>\n",
       "    <tr>\n",
       "      <th>0</th>\n",
       "      <td>17.99</td>\n",
       "      <td>10.38</td>\n",
       "      <td>122.80</td>\n",
       "      <td>1001.0</td>\n",
       "      <td>0.11840</td>\n",
       "      <td>0.27760</td>\n",
       "      <td>0.3001</td>\n",
       "      <td>0.14710</td>\n",
       "      <td>0.2419</td>\n",
       "      <td>0.07871</td>\n",
       "      <td>...</td>\n",
       "      <td>17.33</td>\n",
       "      <td>184.60</td>\n",
       "      <td>2019.0</td>\n",
       "      <td>0.1622</td>\n",
       "      <td>0.6656</td>\n",
       "      <td>0.7119</td>\n",
       "      <td>0.2654</td>\n",
       "      <td>0.4601</td>\n",
       "      <td>0.11890</td>\n",
       "      <td>0.0</td>\n",
       "    </tr>\n",
       "    <tr>\n",
       "      <th>1</th>\n",
       "      <td>20.57</td>\n",
       "      <td>17.77</td>\n",
       "      <td>132.90</td>\n",
       "      <td>1326.0</td>\n",
       "      <td>0.08474</td>\n",
       "      <td>0.07864</td>\n",
       "      <td>0.0869</td>\n",
       "      <td>0.07017</td>\n",
       "      <td>0.1812</td>\n",
       "      <td>0.05667</td>\n",
       "      <td>...</td>\n",
       "      <td>23.41</td>\n",
       "      <td>158.80</td>\n",
       "      <td>1956.0</td>\n",
       "      <td>0.1238</td>\n",
       "      <td>0.1866</td>\n",
       "      <td>0.2416</td>\n",
       "      <td>0.1860</td>\n",
       "      <td>0.2750</td>\n",
       "      <td>0.08902</td>\n",
       "      <td>0.0</td>\n",
       "    </tr>\n",
       "    <tr>\n",
       "      <th>2</th>\n",
       "      <td>19.69</td>\n",
       "      <td>21.25</td>\n",
       "      <td>130.00</td>\n",
       "      <td>1203.0</td>\n",
       "      <td>0.10960</td>\n",
       "      <td>0.15990</td>\n",
       "      <td>0.1974</td>\n",
       "      <td>0.12790</td>\n",
       "      <td>0.2069</td>\n",
       "      <td>0.05999</td>\n",
       "      <td>...</td>\n",
       "      <td>25.53</td>\n",
       "      <td>152.50</td>\n",
       "      <td>1709.0</td>\n",
       "      <td>0.1444</td>\n",
       "      <td>0.4245</td>\n",
       "      <td>0.4504</td>\n",
       "      <td>0.2430</td>\n",
       "      <td>0.3613</td>\n",
       "      <td>0.08758</td>\n",
       "      <td>0.0</td>\n",
       "    </tr>\n",
       "    <tr>\n",
       "      <th>3</th>\n",
       "      <td>11.42</td>\n",
       "      <td>20.38</td>\n",
       "      <td>77.58</td>\n",
       "      <td>386.1</td>\n",
       "      <td>0.14250</td>\n",
       "      <td>0.28390</td>\n",
       "      <td>0.2414</td>\n",
       "      <td>0.10520</td>\n",
       "      <td>0.2597</td>\n",
       "      <td>0.09744</td>\n",
       "      <td>...</td>\n",
       "      <td>26.50</td>\n",
       "      <td>98.87</td>\n",
       "      <td>567.7</td>\n",
       "      <td>0.2098</td>\n",
       "      <td>0.8663</td>\n",
       "      <td>0.6869</td>\n",
       "      <td>0.2575</td>\n",
       "      <td>0.6638</td>\n",
       "      <td>0.17300</td>\n",
       "      <td>0.0</td>\n",
       "    </tr>\n",
       "    <tr>\n",
       "      <th>4</th>\n",
       "      <td>20.29</td>\n",
       "      <td>14.34</td>\n",
       "      <td>135.10</td>\n",
       "      <td>1297.0</td>\n",
       "      <td>0.10030</td>\n",
       "      <td>0.13280</td>\n",
       "      <td>0.1980</td>\n",
       "      <td>0.10430</td>\n",
       "      <td>0.1809</td>\n",
       "      <td>0.05883</td>\n",
       "      <td>...</td>\n",
       "      <td>16.67</td>\n",
       "      <td>152.20</td>\n",
       "      <td>1575.0</td>\n",
       "      <td>0.1374</td>\n",
       "      <td>0.2050</td>\n",
       "      <td>0.4000</td>\n",
       "      <td>0.1625</td>\n",
       "      <td>0.2364</td>\n",
       "      <td>0.07678</td>\n",
       "      <td>0.0</td>\n",
       "    </tr>\n",
       "  </tbody>\n",
       "</table>\n",
       "<p>5 rows × 31 columns</p>\n",
       "</div>"
      ],
      "text/plain": [
       "   mean radius  mean texture  mean perimeter  mean area  mean smoothness  \\\n",
       "0        17.99         10.38          122.80     1001.0          0.11840   \n",
       "1        20.57         17.77          132.90     1326.0          0.08474   \n",
       "2        19.69         21.25          130.00     1203.0          0.10960   \n",
       "3        11.42         20.38           77.58      386.1          0.14250   \n",
       "4        20.29         14.34          135.10     1297.0          0.10030   \n",
       "\n",
       "   mean compactness  mean concavity  mean concave points  mean symmetry  \\\n",
       "0           0.27760          0.3001              0.14710         0.2419   \n",
       "1           0.07864          0.0869              0.07017         0.1812   \n",
       "2           0.15990          0.1974              0.12790         0.2069   \n",
       "3           0.28390          0.2414              0.10520         0.2597   \n",
       "4           0.13280          0.1980              0.10430         0.1809   \n",
       "\n",
       "   mean fractal dimension   ...    worst texture  worst perimeter  worst area  \\\n",
       "0                 0.07871   ...            17.33           184.60      2019.0   \n",
       "1                 0.05667   ...            23.41           158.80      1956.0   \n",
       "2                 0.05999   ...            25.53           152.50      1709.0   \n",
       "3                 0.09744   ...            26.50            98.87       567.7   \n",
       "4                 0.05883   ...            16.67           152.20      1575.0   \n",
       "\n",
       "   worst smoothness  worst compactness  worst concavity  worst concave points  \\\n",
       "0            0.1622             0.6656           0.7119                0.2654   \n",
       "1            0.1238             0.1866           0.2416                0.1860   \n",
       "2            0.1444             0.4245           0.4504                0.2430   \n",
       "3            0.2098             0.8663           0.6869                0.2575   \n",
       "4            0.1374             0.2050           0.4000                0.1625   \n",
       "\n",
       "   worst symmetry  worst fractal dimension  target  \n",
       "0          0.4601                  0.11890     0.0  \n",
       "1          0.2750                  0.08902     0.0  \n",
       "2          0.3613                  0.08758     0.0  \n",
       "3          0.6638                  0.17300     0.0  \n",
       "4          0.2364                  0.07678     0.0  \n",
       "\n",
       "[5 rows x 31 columns]"
      ]
     },
     "execution_count": 5,
     "metadata": {},
     "output_type": "execute_result"
    }
   ],
   "source": [
    "all_data.head()"
   ]
  },
  {
   "cell_type": "markdown",
   "metadata": {},
   "source": [
    "# РАЗБИЕНИЕ И НОРМАЛИЗАЦИЯ"
   ]
  },
  {
   "cell_type": "code",
   "execution_count": 6,
   "metadata": {},
   "outputs": [],
   "source": [
    "labels = all_data['target'].values\n",
    "feature_matrix = all_data[all_data.columns[:-1]].values\n",
    "\n",
    "\n",
    "train_feature_matrix, test_feature_matrix, train_labels, test_labels = train_test_split(\n",
    "    feature_matrix, labels, test_size=0.33, random_state=42)"
   ]
  },
  {
   "cell_type": "code",
   "execution_count": 7,
   "metadata": {},
   "outputs": [],
   "source": [
    "scaler = StandardScaler()\n",
    "train_feature_matrix = scaler.fit_transform(train_feature_matrix)\n",
    "test_feature_matrix = scaler.transform(test_feature_matrix)"
   ]
  },
  {
   "cell_type": "code",
   "execution_count": 8,
   "metadata": {},
   "outputs": [
    {
     "data": {
      "text/plain": [
       "array([ 1.,  1.,  1.,  1.,  1.,  1.,  1.,  1.,  1.,  1.,  1.,  1.,  1.,\n",
       "        1.,  1.,  1.,  1.,  1.,  1.,  1.,  1.,  1.,  1.,  1.,  1.,  1.,\n",
       "        1.,  1.,  1.,  1.])"
      ]
     },
     "execution_count": 8,
     "metadata": {},
     "output_type": "execute_result"
    }
   ],
   "source": [
    "train_feature_matrix.std(axis = 0)"
   ]
  },
  {
   "cell_type": "code",
   "execution_count": 9,
   "metadata": {},
   "outputs": [
    {
     "data": {
      "text/plain": [
       "array([ 0.94847778,  1.03882945,  0.95909168,  0.89150423,  1.05370404,\n",
       "        1.06359776,  1.02778598,  1.04503941,  1.03026447,  0.91102514,\n",
       "        0.81605275,  1.14171936,  0.81440503,  0.71352996,  0.84159987,\n",
       "        0.94794124,  0.95892352,  0.91998125,  1.05119653,  0.94711349,\n",
       "        0.98027353,  1.04951402,  1.003868  ,  0.94611676,  0.95446426,\n",
       "        1.12609781,  1.13432764,  1.03727774,  0.92772254,  1.06399677])"
      ]
     },
     "execution_count": 9,
     "metadata": {},
     "output_type": "execute_result"
    }
   ],
   "source": [
    "test_feature_matrix.std(axis = 0)"
   ]
  },
  {
   "cell_type": "markdown",
   "metadata": {},
   "source": [
    "# ЛОГИСТИЧЕСКАЯ РЕГРЕСИЯ"
   ]
  },
  {
   "cell_type": "code",
   "execution_count": 10,
   "metadata": {},
   "outputs": [
    {
     "name": "stdout",
     "output_type": "stream",
     "text": [
      "Fitting 5 folds for each of 22 candidates, totalling 110 fits\n"
     ]
    },
    {
     "name": "stderr",
     "output_type": "stream",
     "text": [
      "[Parallel(n_jobs=4)]: Using backend LokyBackend with 4 concurrent workers.\n",
      "[Parallel(n_jobs=4)]: Done   5 tasks      | elapsed:    3.5s\n",
      "[Parallel(n_jobs=4)]: Done  10 tasks      | elapsed:    3.6s\n",
      "[Parallel(n_jobs=4)]: Done  17 tasks      | elapsed:    3.7s\n",
      "[Parallel(n_jobs=4)]: Done  24 tasks      | elapsed:    3.9s\n",
      "[Parallel(n_jobs=4)]: Done  33 tasks      | elapsed:    4.2s\n",
      "[Parallel(n_jobs=4)]: Done  42 tasks      | elapsed:    4.6s\n",
      "[Parallel(n_jobs=4)]: Done  53 tasks      | elapsed:    5.3s\n",
      "[Parallel(n_jobs=4)]: Done  64 tasks      | elapsed:    6.1s\n",
      "[Parallel(n_jobs=4)]: Done  77 tasks      | elapsed:    6.6s\n",
      "[Parallel(n_jobs=4)]: Done  90 tasks      | elapsed:    8.2s\n",
      "[Parallel(n_jobs=4)]: Done 110 out of 110 | elapsed:   11.5s finished\n",
      "C:\\Apps\\anaconda3\\lib\\site-packages\\sklearn\\linear_model\\logistic.py:432: FutureWarning: Default solver will be changed to 'lbfgs' in 0.22. Specify a solver to silence this warning.\n",
      "  FutureWarning)\n"
     ]
    },
    {
     "data": {
      "text/plain": [
       "GridSearchCV(cv=5, error_score='raise-deprecating',\n",
       "             estimator=LogisticRegression(C=1.0, class_weight=None, dual=False,\n",
       "                                          fit_intercept=True,\n",
       "                                          intercept_scaling=1, l1_ratio=None,\n",
       "                                          max_iter=1000, multi_class='warn',\n",
       "                                          n_jobs=None, penalty='l2',\n",
       "                                          random_state=None, solver='warn',\n",
       "                                          tol=0.0001, verbose=0,\n",
       "                                          warm_start=False),\n",
       "             iid='warn', n_jobs=4,\n",
       "             param_grid=[{'C': array([  6.73794700e-03,   1.83156389e-02,   4.97870684e-02,\n",
       "         1.35335283e-01,   3.67879441e-01,   1.00000000e+00,\n",
       "         2.71828183e+00,   7.38905610e+00,   2.00855369e+01,\n",
       "         5.45981500e+01,   1.48413159e+02]),\n",
       "                          'penalty': ['l1', 'l2']}],\n",
       "             pre_dispatch='2*n_jobs', refit=True, return_train_score=False,\n",
       "             scoring=None, verbose=10)"
      ]
     },
     "execution_count": 10,
     "metadata": {},
     "output_type": "execute_result"
    }
   ],
   "source": [
    "\n",
    "\n",
    "lp = np.exp(np.linspace(-5, 5, 11))\n",
    "\n",
    "lr_clf = LogisticRegression(max_iter=1000)\n",
    "param_grid = [{'penalty': ['l1', 'l2'],\n",
    "               'C': lp,\n",
    "            \n",
    "              }]\n",
    "\n",
    "searcher = GridSearchCV(lr_clf, param_grid, cv=5,  verbose=10, n_jobs = 4)\n",
    "searcher.fit(feature_matrix, labels)"
   ]
  },
  {
   "cell_type": "code",
   "execution_count": 11,
   "metadata": {},
   "outputs": [
    {
     "data": {
      "text/plain": [
       "0.96836555360281196"
      ]
     },
     "execution_count": 11,
     "metadata": {},
     "output_type": "execute_result"
    }
   ],
   "source": [
    "searcher.best_score_"
   ]
  },
  {
   "cell_type": "code",
   "execution_count": 12,
   "metadata": {},
   "outputs": [
    {
     "data": {
      "text/plain": [
       "{'C': 148.4131591025766, 'penalty': 'l1'}"
      ]
     },
     "execution_count": 12,
     "metadata": {},
     "output_type": "execute_result"
    }
   ],
   "source": [
    "searcher.best_params_"
   ]
  },
  {
   "cell_type": "code",
   "execution_count": 13,
   "metadata": {},
   "outputs": [
    {
     "name": "stdout",
     "output_type": "stream",
     "text": [
      "              precision    recall  f1-score   support\n",
      "\n",
      "         0.0       0.82      0.91      0.87        67\n",
      "         1.0       0.95      0.89      0.92       121\n",
      "\n",
      "    accuracy                           0.90       188\n",
      "   macro avg       0.89      0.90      0.89       188\n",
      "weighted avg       0.90      0.90      0.90       188\n",
      "\n"
     ]
    }
   ],
   "source": [
    "\n",
    "y_ans = searcher.best_estimator_.predict(test_feature_matrix)\n",
    "print(classification_report(test_labels , y_ans))"
   ]
  },
  {
   "cell_type": "code",
   "execution_count": 14,
   "metadata": {},
   "outputs": [
    {
     "name": "stderr",
     "output_type": "stream",
     "text": [
      "C:\\Apps\\anaconda3\\lib\\site-packages\\sklearn\\linear_model\\logistic.py:432: FutureWarning: Default solver will be changed to 'lbfgs' in 0.22. Specify a solver to silence this warning.\n",
      "  FutureWarning)\n"
     ]
    },
    {
     "name": "stdout",
     "output_type": "stream",
     "text": [
      "              precision    recall  f1-score   support\n",
      "\n",
      "         0.0       0.96      0.99      0.97        67\n",
      "         1.0       0.99      0.98      0.98       121\n",
      "\n",
      "    accuracy                           0.98       188\n",
      "   macro avg       0.97      0.98      0.98       188\n",
      "weighted avg       0.98      0.98      0.98       188\n",
      "\n"
     ]
    }
   ],
   "source": [
    "clf = LogisticRegression(max_iter=1000)\n",
    "\n",
    "clf.fit(train_feature_matrix, train_labels)\n",
    "y_ans = clf.predict(test_feature_matrix)\n",
    "print(classification_report(test_labels , y_ans))"
   ]
  },
  {
   "cell_type": "markdown",
   "metadata": {},
   "source": [
    "# PYTORCH"
   ]
  },
  {
   "cell_type": "markdown",
   "metadata": {},
   "source": [
    "## without prior"
   ]
  },
  {
   "cell_type": "code",
   "execution_count": 19,
   "metadata": {},
   "outputs": [],
   "source": [
    "import torch\n",
    "import torch.nn as nn\n",
    "import torch.nn.functional as F\n",
    "import torch.optim as optim\n",
    "import torchvision\n",
    "from torch.autograd import Variable\n",
    "from torchvision import datasets, transforms\n",
    "import torch.utils.data as utils\n",
    "from torch.optim import Adam "
   ]
  },
  {
   "cell_type": "code",
   "execution_count": null,
   "metadata": {},
   "outputs": [],
   "source": []
  },
  {
   "cell_type": "code",
   "execution_count": 20,
   "metadata": {},
   "outputs": [],
   "source": [
    "class Net(nn.Module):\n",
    "    def __init__(self):\n",
    "        super(Net, self).__init__()\n",
    "        \n",
    "        self.fc = nn.Linear(30, 2)\n",
    "        \n",
    "\n",
    "    def forward(self, x):\n",
    "        \n",
    "        x = self.fc(x)\n",
    "        return nn.Sigmoid(x)"
   ]
  },
  {
   "cell_type": "code",
   "execution_count": 45,
   "metadata": {},
   "outputs": [],
   "source": [
    "model = Net()"
   ]
  },
  {
   "cell_type": "code",
   "execution_count": 46,
   "metadata": {},
   "outputs": [
    {
     "name": "stdout",
     "output_type": "stream",
     "text": [
      "Weight shapes: [torch.Size([2, 30]), torch.Size([2])]\n"
     ]
    }
   ],
   "source": [
    "print(\"Weight shapes:\", [w.shape for w in model.parameters()])"
   ]
  },
  {
   "cell_type": "code",
   "execution_count": 47,
   "metadata": {},
   "outputs": [],
   "source": [
    "x = torch.tensor(train_feature_matrix[:1], dtype=torch.float32)\n",
    "y = torch.tensor(train_labels[:3], dtype=torch.float32)"
   ]
  },
  {
   "cell_type": "code",
   "execution_count": 48,
   "metadata": {},
   "outputs": [
    {
     "ename": "TypeError",
     "evalue": "__init__() takes 1 positional argument but 2 were given",
     "output_type": "error",
     "traceback": [
      "\u001b[1;31m---------------------------------------------------------------------------\u001b[0m",
      "\u001b[1;31mTypeError\u001b[0m                                 Traceback (most recent call last)",
      "\u001b[1;32m<ipython-input-48-37d6bccf55a8>\u001b[0m in \u001b[0;36m<module>\u001b[1;34m\u001b[0m\n\u001b[1;32m----> 1\u001b[1;33m \u001b[0my_predicted\u001b[0m \u001b[1;33m=\u001b[0m \u001b[0mmodel\u001b[0m\u001b[1;33m(\u001b[0m\u001b[0mx\u001b[0m\u001b[1;33m)\u001b[0m\u001b[1;33m\u001b[0m\u001b[1;33m\u001b[0m\u001b[0m\n\u001b[0m",
      "\u001b[1;32mC:\\Apps\\anaconda3\\lib\\site-packages\\torch\\nn\\modules\\module.py\u001b[0m in \u001b[0;36m__call__\u001b[1;34m(self, *input, **kwargs)\u001b[0m\n\u001b[0;32m    545\u001b[0m             \u001b[0mresult\u001b[0m \u001b[1;33m=\u001b[0m \u001b[0mself\u001b[0m\u001b[1;33m.\u001b[0m\u001b[0m_slow_forward\u001b[0m\u001b[1;33m(\u001b[0m\u001b[1;33m*\u001b[0m\u001b[0minput\u001b[0m\u001b[1;33m,\u001b[0m \u001b[1;33m**\u001b[0m\u001b[0mkwargs\u001b[0m\u001b[1;33m)\u001b[0m\u001b[1;33m\u001b[0m\u001b[1;33m\u001b[0m\u001b[0m\n\u001b[0;32m    546\u001b[0m         \u001b[1;32melse\u001b[0m\u001b[1;33m:\u001b[0m\u001b[1;33m\u001b[0m\u001b[1;33m\u001b[0m\u001b[0m\n\u001b[1;32m--> 547\u001b[1;33m             \u001b[0mresult\u001b[0m \u001b[1;33m=\u001b[0m \u001b[0mself\u001b[0m\u001b[1;33m.\u001b[0m\u001b[0mforward\u001b[0m\u001b[1;33m(\u001b[0m\u001b[1;33m*\u001b[0m\u001b[0minput\u001b[0m\u001b[1;33m,\u001b[0m \u001b[1;33m**\u001b[0m\u001b[0mkwargs\u001b[0m\u001b[1;33m)\u001b[0m\u001b[1;33m\u001b[0m\u001b[1;33m\u001b[0m\u001b[0m\n\u001b[0m\u001b[0;32m    548\u001b[0m         \u001b[1;32mfor\u001b[0m \u001b[0mhook\u001b[0m \u001b[1;32min\u001b[0m \u001b[0mself\u001b[0m\u001b[1;33m.\u001b[0m\u001b[0m_forward_hooks\u001b[0m\u001b[1;33m.\u001b[0m\u001b[0mvalues\u001b[0m\u001b[1;33m(\u001b[0m\u001b[1;33m)\u001b[0m\u001b[1;33m:\u001b[0m\u001b[1;33m\u001b[0m\u001b[1;33m\u001b[0m\u001b[0m\n\u001b[0;32m    549\u001b[0m             \u001b[0mhook_result\u001b[0m \u001b[1;33m=\u001b[0m \u001b[0mhook\u001b[0m\u001b[1;33m(\u001b[0m\u001b[0mself\u001b[0m\u001b[1;33m,\u001b[0m \u001b[0minput\u001b[0m\u001b[1;33m,\u001b[0m \u001b[0mresult\u001b[0m\u001b[1;33m)\u001b[0m\u001b[1;33m\u001b[0m\u001b[1;33m\u001b[0m\u001b[0m\n",
      "\u001b[1;32m<ipython-input-20-99bb8e6e387b>\u001b[0m in \u001b[0;36mforward\u001b[1;34m(self, x)\u001b[0m\n\u001b[0;32m      9\u001b[0m \u001b[1;33m\u001b[0m\u001b[0m\n\u001b[0;32m     10\u001b[0m         \u001b[0mx\u001b[0m \u001b[1;33m=\u001b[0m \u001b[0mself\u001b[0m\u001b[1;33m.\u001b[0m\u001b[0mfc\u001b[0m\u001b[1;33m(\u001b[0m\u001b[0mx\u001b[0m\u001b[1;33m)\u001b[0m\u001b[1;33m\u001b[0m\u001b[1;33m\u001b[0m\u001b[0m\n\u001b[1;32m---> 11\u001b[1;33m         \u001b[1;32mreturn\u001b[0m \u001b[0mnn\u001b[0m\u001b[1;33m.\u001b[0m\u001b[0mSigmoid\u001b[0m\u001b[1;33m(\u001b[0m\u001b[0mx\u001b[0m\u001b[1;33m)\u001b[0m\u001b[1;33m\u001b[0m\u001b[1;33m\u001b[0m\u001b[0m\n\u001b[0m",
      "\u001b[1;31mTypeError\u001b[0m: __init__() takes 1 positional argument but 2 were given"
     ]
    }
   ],
   "source": [
    "y_predicted = model(x)"
   ]
  },
  {
   "cell_type": "code",
   "execution_count": 49,
   "metadata": {},
   "outputs": [
    {
     "ename": "NameError",
     "evalue": "name 'y_predicted' is not defined",
     "output_type": "error",
     "traceback": [
      "\u001b[1;31m---------------------------------------------------------------------------\u001b[0m",
      "\u001b[1;31mNameError\u001b[0m                                 Traceback (most recent call last)",
      "\u001b[1;32m<ipython-input-49-9810194b0189>\u001b[0m in \u001b[0;36m<module>\u001b[1;34m\u001b[0m\n\u001b[1;32m----> 1\u001b[1;33m \u001b[0my_predicted\u001b[0m\u001b[1;33m\u001b[0m\u001b[1;33m\u001b[0m\u001b[0m\n\u001b[0m",
      "\u001b[1;31mNameError\u001b[0m: name 'y_predicted' is not defined"
     ]
    }
   ],
   "source": [
    "y_predicted"
   ]
  },
  {
   "cell_type": "code",
   "execution_count": 25,
   "metadata": {},
   "outputs": [
    {
     "ename": "NameError",
     "evalue": "name 'model' is not defined",
     "output_type": "error",
     "traceback": [
      "\u001b[1;31m---------------------------------------------------------------------------\u001b[0m",
      "\u001b[1;31mNameError\u001b[0m                                 Traceback (most recent call last)",
      "\u001b[1;32m<ipython-input-25-32441d5fcd63>\u001b[0m in \u001b[0;36m<module>\u001b[1;34m\u001b[0m\n\u001b[0;32m      1\u001b[0m \u001b[0mparam\u001b[0m \u001b[1;33m=\u001b[0m \u001b[1;33m[\u001b[0m\u001b[1;33m]\u001b[0m\u001b[1;33m\u001b[0m\u001b[1;33m\u001b[0m\u001b[0m\n\u001b[1;32m----> 2\u001b[1;33m \u001b[1;32mfor\u001b[0m \u001b[0mi\u001b[0m \u001b[1;32min\u001b[0m \u001b[0mmodel\u001b[0m\u001b[1;33m.\u001b[0m\u001b[0mparameters\u001b[0m\u001b[1;33m(\u001b[0m\u001b[1;33m)\u001b[0m\u001b[1;33m:\u001b[0m\u001b[1;33m\u001b[0m\u001b[1;33m\u001b[0m\u001b[0m\n\u001b[0m\u001b[0;32m      3\u001b[0m     \u001b[0mparam\u001b[0m\u001b[1;33m.\u001b[0m\u001b[0mappend\u001b[0m\u001b[1;33m(\u001b[0m\u001b[0mi\u001b[0m\u001b[1;33m[\u001b[0m\u001b[1;36m0\u001b[0m\u001b[1;33m]\u001b[0m\u001b[1;33m)\u001b[0m\u001b[1;33m\u001b[0m\u001b[1;33m\u001b[0m\u001b[0m\n",
      "\u001b[1;31mNameError\u001b[0m: name 'model' is not defined"
     ]
    }
   ],
   "source": [
    "param = []\n",
    "for i in model.parameters():\n",
    "    param.append(i[0])"
   ]
  },
  {
   "cell_type": "code",
   "execution_count": 26,
   "metadata": {},
   "outputs": [
    {
     "ename": "IndexError",
     "evalue": "list index out of range",
     "output_type": "error",
     "traceback": [
      "\u001b[1;31m---------------------------------------------------------------------------\u001b[0m",
      "\u001b[1;31mIndexError\u001b[0m                                Traceback (most recent call last)",
      "\u001b[1;32m<ipython-input-26-f4019d022ff0>\u001b[0m in \u001b[0;36m<module>\u001b[1;34m\u001b[0m\n\u001b[1;32m----> 1\u001b[1;33m \u001b[0mparam\u001b[0m\u001b[1;33m[\u001b[0m\u001b[1;36m0\u001b[0m\u001b[1;33m]\u001b[0m\u001b[1;33m\u001b[0m\u001b[1;33m\u001b[0m\u001b[0m\n\u001b[0m",
      "\u001b[1;31mIndexError\u001b[0m: list index out of range"
     ]
    }
   ],
   "source": [
    "param[0]"
   ]
  },
  {
   "cell_type": "code",
   "execution_count": 27,
   "metadata": {},
   "outputs": [
    {
     "ename": "NameError",
     "evalue": "name 'y_predicted' is not defined",
     "output_type": "error",
     "traceback": [
      "\u001b[1;31m---------------------------------------------------------------------------\u001b[0m",
      "\u001b[1;31mNameError\u001b[0m                                 Traceback (most recent call last)",
      "\u001b[1;32m<ipython-input-27-bdb1fafcbece>\u001b[0m in \u001b[0;36m<module>\u001b[1;34m\u001b[0m\n\u001b[1;32m----> 1\u001b[1;33m \u001b[0mcrossentropy\u001b[0m \u001b[1;33m=\u001b[0m \u001b[1;33m-\u001b[0m\u001b[1;33m(\u001b[0m\u001b[0my\u001b[0m\u001b[1;33m*\u001b[0m\u001b[0my_predicted\u001b[0m\u001b[1;33m.\u001b[0m\u001b[0mlog\u001b[0m\u001b[1;33m(\u001b[0m\u001b[1;33m)\u001b[0m \u001b[1;33m+\u001b[0m \u001b[1;33m(\u001b[0m\u001b[1;36m1\u001b[0m\u001b[1;33m-\u001b[0m\u001b[0my\u001b[0m\u001b[1;33m)\u001b[0m\u001b[1;33m*\u001b[0m\u001b[0mtorch\u001b[0m\u001b[1;33m.\u001b[0m\u001b[0mlog\u001b[0m\u001b[1;33m(\u001b[0m\u001b[1;36m1\u001b[0m\u001b[1;33m-\u001b[0m\u001b[0my_predicted\u001b[0m\u001b[1;33m)\u001b[0m\u001b[1;33m)\u001b[0m\u001b[1;33m\u001b[0m\u001b[1;33m\u001b[0m\u001b[0m\n\u001b[0m\u001b[0;32m      2\u001b[0m \u001b[0mloss\u001b[0m \u001b[1;33m=\u001b[0m \u001b[0mcrossentropy\u001b[0m\u001b[1;33m.\u001b[0m\u001b[0mmean\u001b[0m\u001b[1;33m(\u001b[0m\u001b[1;33m)\u001b[0m\u001b[1;33m.\u001b[0m\u001b[0munsqueeze\u001b[0m\u001b[1;33m(\u001b[0m\u001b[1;36m0\u001b[0m\u001b[1;33m)\u001b[0m\u001b[1;33m\u001b[0m\u001b[1;33m\u001b[0m\u001b[0m\n",
      "\u001b[1;31mNameError\u001b[0m: name 'y_predicted' is not defined"
     ]
    }
   ],
   "source": [
    "crossentropy = -(y*y_predicted.log() + (1-y)*torch.log(1-y_predicted))\n",
    "loss = crossentropy.mean().unsqueeze(0)"
   ]
  },
  {
   "cell_type": "code",
   "execution_count": 34,
   "metadata": {},
   "outputs": [],
   "source": [
    "model = nn.Sequential()\n",
    "model.add_module('l1', nn.Linear(30, 1))\n",
    "model.add_module('l2', nn.Sigmoid())"
   ]
  },
  {
   "cell_type": "code",
   "execution_count": 35,
   "metadata": {},
   "outputs": [],
   "source": [
    "X_test = torch.tensor(test_feature_matrix, dtype=torch.float32)\n",
    "y_test = torch.tensor(test_labels, dtype=torch.float32)"
   ]
  },
  {
   "cell_type": "code",
   "execution_count": 36,
   "metadata": {},
   "outputs": [],
   "source": [
    "opt = torch.optim.Adam(model.parameters(), lr=3e-4)"
   ]
  },
  {
   "cell_type": "code",
   "execution_count": 37,
   "metadata": {},
   "outputs": [],
   "source": [
    "def train_model(model ,train_feature_matrix , train_labels , X_test , y_test ):\n",
    "    history = []\n",
    "    test_loss = []\n",
    "    opt = torch.optim.Adam(model.parameters(), lr=3e-4)\n",
    "    criterion = nn.CrossEntropyLoss()\n",
    "    for i in range(1000):\n",
    "\n",
    "        # sample 256 random images\n",
    "        ix = np.random.randint(0, len(train_feature_matrix), 64)\n",
    "        x_batch = torch.tensor(train_feature_matrix[ix], dtype=torch.float32)\n",
    "        y_batch = torch.tensor(train_labels[ix], dtype=torch.float32)\n",
    "\n",
    "        # predict probabilities\n",
    "        y_predicted = model(x_batch)[:,0]\n",
    "\n",
    "\n",
    "\n",
    "        # compute loss on train\n",
    "        #crossentropy = -(y_batch*y_predicted.log() + (1-y_batch)*torch.log(1-y_predicted))\n",
    "        #loss = crossentropy.sum().unsqueeze(0)\n",
    "        loss = criterion(y_predicted, y_batch).item()\n",
    "\n",
    "\n",
    "\n",
    "        loss.backward()\n",
    "        opt.step()\n",
    "        opt.zero_grad() \n",
    "\n",
    "        history.append(loss.data.numpy())\n",
    "\n",
    "        #loss on test\n",
    "        #y_pre = model(X_test)[:,0]\n",
    "        \n",
    "        #cros = -(y_test*y_pre.log() + (1-y_test)*torch.log(1-y_pre))\n",
    "        with torch.no_grad():\n",
    "            y_pre = model(X_test)\n",
    "            cros = criterion(y_pre , y_test ).item()\n",
    "            test_loss.append(cros.mean().unsqueeze(0).data.numpy())\n",
    "            if i % 200 == 0:\n",
    "                print(\"step #%i | mean loss = %.3f\" % (i, np.mean(test_loss[-1:])))\n",
    "    return {\n",
    "        'model': model,\n",
    "        'history': history,\n",
    "        'test_loss': test_loss\n",
    "    }"
   ]
  },
  {
   "cell_type": "code",
   "execution_count": 38,
   "metadata": {},
   "outputs": [],
   "source": [
    "\n",
    "def plot_res(history , test_loss):\n",
    "    plt.figure(figsize=(8,5))\n",
    "    plt.plot(history)\n",
    "    plt.plot(test_loss)\n",
    "    plt.grid()\n",
    "    plt.xlabel('Number of iteration')\n",
    "    plt.ylabel('LOSS')\n",
    "    plt.show()"
   ]
  },
  {
   "cell_type": "code",
   "execution_count": 39,
   "metadata": {},
   "outputs": [],
   "source": [
    "def acc(model , test_feature_matrix , test_labels):\n",
    "    predicted_y_test = model(torch.tensor(test_feature_matrix, dtype=torch.float32))\n",
    "    predicted_y_test = np.array(predicted_y_test > 0.5).astype('int').reshape(-1)\n",
    "    accuracy = np.mean(predicted_y_test == test_labels)\n",
    "    print(accuracy)\n",
    "    print(classification_report(test_labels , predicted_y_test))"
   ]
  },
  {
   "cell_type": "code",
   "execution_count": 40,
   "metadata": {},
   "outputs": [],
   "source": [
    "def test(model , train_feature_matrix , train_labels , test_feature_matrix , test_labels):\n",
    "    X_test = torch.tensor(test_feature_matrix, dtype=torch.float32)\n",
    "    y_test = torch.tensor(test_labels, dtype=torch.float32)\n",
    "    m = train_model(model ,train_feature_matrix, train_labels , X_test , y_test )\n",
    "    plot_res(m['history'] , m['test_loss'])\n",
    "    acc(m['model'] ,test_feature_matrix ,  test_labels)\n",
    "    return m"
   ]
  },
  {
   "cell_type": "code",
   "execution_count": 41,
   "metadata": {},
   "outputs": [],
   "source": [
    "model = nn.Sequential()\n",
    "model.add_module('l1', nn.Linear(30, 1))\n",
    "model.add_module('l2', nn.Sigmoid())"
   ]
  },
  {
   "cell_type": "code",
   "execution_count": 42,
   "metadata": {},
   "outputs": [
    {
     "ename": "IndexError",
     "evalue": "Dimension out of range (expected to be in range of [-1, 0], but got 1)",
     "output_type": "error",
     "traceback": [
      "\u001b[1;31m---------------------------------------------------------------------------\u001b[0m",
      "\u001b[1;31mIndexError\u001b[0m                                Traceback (most recent call last)",
      "\u001b[1;32m<ipython-input-42-67854e625a34>\u001b[0m in \u001b[0;36m<module>\u001b[1;34m\u001b[0m\n\u001b[1;32m----> 1\u001b[1;33m \u001b[0mm\u001b[0m \u001b[1;33m=\u001b[0m \u001b[0mtest\u001b[0m\u001b[1;33m(\u001b[0m\u001b[0mmodel\u001b[0m \u001b[1;33m,\u001b[0m \u001b[0mtrain_feature_matrix\u001b[0m \u001b[1;33m,\u001b[0m \u001b[0mtrain_labels\u001b[0m \u001b[1;33m,\u001b[0m \u001b[0mtest_feature_matrix\u001b[0m \u001b[1;33m,\u001b[0m \u001b[0mtest_labels\u001b[0m\u001b[1;33m)\u001b[0m\u001b[1;33m\u001b[0m\u001b[1;33m\u001b[0m\u001b[0m\n\u001b[0m",
      "\u001b[1;32m<ipython-input-40-70ec2cf59379>\u001b[0m in \u001b[0;36mtest\u001b[1;34m(model, train_feature_matrix, train_labels, test_feature_matrix, test_labels)\u001b[0m\n\u001b[0;32m      2\u001b[0m     \u001b[0mX_test\u001b[0m \u001b[1;33m=\u001b[0m \u001b[0mtorch\u001b[0m\u001b[1;33m.\u001b[0m\u001b[0mtensor\u001b[0m\u001b[1;33m(\u001b[0m\u001b[0mtest_feature_matrix\u001b[0m\u001b[1;33m,\u001b[0m \u001b[0mdtype\u001b[0m\u001b[1;33m=\u001b[0m\u001b[0mtorch\u001b[0m\u001b[1;33m.\u001b[0m\u001b[0mfloat32\u001b[0m\u001b[1;33m)\u001b[0m\u001b[1;33m\u001b[0m\u001b[1;33m\u001b[0m\u001b[0m\n\u001b[0;32m      3\u001b[0m     \u001b[0my_test\u001b[0m \u001b[1;33m=\u001b[0m \u001b[0mtorch\u001b[0m\u001b[1;33m.\u001b[0m\u001b[0mtensor\u001b[0m\u001b[1;33m(\u001b[0m\u001b[0mtest_labels\u001b[0m\u001b[1;33m,\u001b[0m \u001b[0mdtype\u001b[0m\u001b[1;33m=\u001b[0m\u001b[0mtorch\u001b[0m\u001b[1;33m.\u001b[0m\u001b[0mfloat32\u001b[0m\u001b[1;33m)\u001b[0m\u001b[1;33m\u001b[0m\u001b[1;33m\u001b[0m\u001b[0m\n\u001b[1;32m----> 4\u001b[1;33m     \u001b[0mm\u001b[0m \u001b[1;33m=\u001b[0m \u001b[0mtrain_model\u001b[0m\u001b[1;33m(\u001b[0m\u001b[0mmodel\u001b[0m \u001b[1;33m,\u001b[0m\u001b[0mtrain_feature_matrix\u001b[0m\u001b[1;33m,\u001b[0m \u001b[0mtrain_labels\u001b[0m \u001b[1;33m,\u001b[0m \u001b[0mX_test\u001b[0m \u001b[1;33m,\u001b[0m \u001b[0my_test\u001b[0m \u001b[1;33m)\u001b[0m\u001b[1;33m\u001b[0m\u001b[1;33m\u001b[0m\u001b[0m\n\u001b[0m\u001b[0;32m      5\u001b[0m     \u001b[0mplot_res\u001b[0m\u001b[1;33m(\u001b[0m\u001b[0mm\u001b[0m\u001b[1;33m[\u001b[0m\u001b[1;34m'history'\u001b[0m\u001b[1;33m]\u001b[0m \u001b[1;33m,\u001b[0m \u001b[0mm\u001b[0m\u001b[1;33m[\u001b[0m\u001b[1;34m'test_loss'\u001b[0m\u001b[1;33m]\u001b[0m\u001b[1;33m)\u001b[0m\u001b[1;33m\u001b[0m\u001b[1;33m\u001b[0m\u001b[0m\n\u001b[0;32m      6\u001b[0m     \u001b[0macc\u001b[0m\u001b[1;33m(\u001b[0m\u001b[0mm\u001b[0m\u001b[1;33m[\u001b[0m\u001b[1;34m'model'\u001b[0m\u001b[1;33m]\u001b[0m \u001b[1;33m,\u001b[0m\u001b[0mtest_feature_matrix\u001b[0m \u001b[1;33m,\u001b[0m  \u001b[0mtest_labels\u001b[0m\u001b[1;33m)\u001b[0m\u001b[1;33m\u001b[0m\u001b[1;33m\u001b[0m\u001b[0m\n",
      "\u001b[1;32m<ipython-input-37-12908ef70700>\u001b[0m in \u001b[0;36mtrain_model\u001b[1;34m(model, train_feature_matrix, train_labels, X_test, y_test)\u001b[0m\n\u001b[0;32m     19\u001b[0m         \u001b[1;31m#crossentropy = -(y_batch*y_predicted.log() + (1-y_batch)*torch.log(1-y_predicted))\u001b[0m\u001b[1;33m\u001b[0m\u001b[1;33m\u001b[0m\u001b[1;33m\u001b[0m\u001b[0m\n\u001b[0;32m     20\u001b[0m         \u001b[1;31m#loss = crossentropy.sum().unsqueeze(0)\u001b[0m\u001b[1;33m\u001b[0m\u001b[1;33m\u001b[0m\u001b[1;33m\u001b[0m\u001b[0m\n\u001b[1;32m---> 21\u001b[1;33m         \u001b[0mloss\u001b[0m \u001b[1;33m=\u001b[0m \u001b[0mcriterion\u001b[0m\u001b[1;33m(\u001b[0m\u001b[0my_predicted\u001b[0m\u001b[1;33m,\u001b[0m \u001b[0my_batch\u001b[0m\u001b[1;33m)\u001b[0m\u001b[1;33m.\u001b[0m\u001b[0mitem\u001b[0m\u001b[1;33m(\u001b[0m\u001b[1;33m)\u001b[0m\u001b[1;33m\u001b[0m\u001b[1;33m\u001b[0m\u001b[0m\n\u001b[0m\u001b[0;32m     22\u001b[0m \u001b[1;33m\u001b[0m\u001b[0m\n\u001b[0;32m     23\u001b[0m \u001b[1;33m\u001b[0m\u001b[0m\n",
      "\u001b[1;32mC:\\Apps\\anaconda3\\lib\\site-packages\\torch\\nn\\modules\\module.py\u001b[0m in \u001b[0;36m__call__\u001b[1;34m(self, *input, **kwargs)\u001b[0m\n\u001b[0;32m    545\u001b[0m             \u001b[0mresult\u001b[0m \u001b[1;33m=\u001b[0m \u001b[0mself\u001b[0m\u001b[1;33m.\u001b[0m\u001b[0m_slow_forward\u001b[0m\u001b[1;33m(\u001b[0m\u001b[1;33m*\u001b[0m\u001b[0minput\u001b[0m\u001b[1;33m,\u001b[0m \u001b[1;33m**\u001b[0m\u001b[0mkwargs\u001b[0m\u001b[1;33m)\u001b[0m\u001b[1;33m\u001b[0m\u001b[1;33m\u001b[0m\u001b[0m\n\u001b[0;32m    546\u001b[0m         \u001b[1;32melse\u001b[0m\u001b[1;33m:\u001b[0m\u001b[1;33m\u001b[0m\u001b[1;33m\u001b[0m\u001b[0m\n\u001b[1;32m--> 547\u001b[1;33m             \u001b[0mresult\u001b[0m \u001b[1;33m=\u001b[0m \u001b[0mself\u001b[0m\u001b[1;33m.\u001b[0m\u001b[0mforward\u001b[0m\u001b[1;33m(\u001b[0m\u001b[1;33m*\u001b[0m\u001b[0minput\u001b[0m\u001b[1;33m,\u001b[0m \u001b[1;33m**\u001b[0m\u001b[0mkwargs\u001b[0m\u001b[1;33m)\u001b[0m\u001b[1;33m\u001b[0m\u001b[1;33m\u001b[0m\u001b[0m\n\u001b[0m\u001b[0;32m    548\u001b[0m         \u001b[1;32mfor\u001b[0m \u001b[0mhook\u001b[0m \u001b[1;32min\u001b[0m \u001b[0mself\u001b[0m\u001b[1;33m.\u001b[0m\u001b[0m_forward_hooks\u001b[0m\u001b[1;33m.\u001b[0m\u001b[0mvalues\u001b[0m\u001b[1;33m(\u001b[0m\u001b[1;33m)\u001b[0m\u001b[1;33m:\u001b[0m\u001b[1;33m\u001b[0m\u001b[1;33m\u001b[0m\u001b[0m\n\u001b[0;32m    549\u001b[0m             \u001b[0mhook_result\u001b[0m \u001b[1;33m=\u001b[0m \u001b[0mhook\u001b[0m\u001b[1;33m(\u001b[0m\u001b[0mself\u001b[0m\u001b[1;33m,\u001b[0m \u001b[0minput\u001b[0m\u001b[1;33m,\u001b[0m \u001b[0mresult\u001b[0m\u001b[1;33m)\u001b[0m\u001b[1;33m\u001b[0m\u001b[1;33m\u001b[0m\u001b[0m\n",
      "\u001b[1;32mC:\\Apps\\anaconda3\\lib\\site-packages\\torch\\nn\\modules\\loss.py\u001b[0m in \u001b[0;36mforward\u001b[1;34m(self, input, target)\u001b[0m\n\u001b[0;32m    914\u001b[0m     \u001b[1;32mdef\u001b[0m \u001b[0mforward\u001b[0m\u001b[1;33m(\u001b[0m\u001b[0mself\u001b[0m\u001b[1;33m,\u001b[0m \u001b[0minput\u001b[0m\u001b[1;33m,\u001b[0m \u001b[0mtarget\u001b[0m\u001b[1;33m)\u001b[0m\u001b[1;33m:\u001b[0m\u001b[1;33m\u001b[0m\u001b[1;33m\u001b[0m\u001b[0m\n\u001b[0;32m    915\u001b[0m         return F.cross_entropy(input, target, weight=self.weight,\n\u001b[1;32m--> 916\u001b[1;33m                                ignore_index=self.ignore_index, reduction=self.reduction)\n\u001b[0m\u001b[0;32m    917\u001b[0m \u001b[1;33m\u001b[0m\u001b[0m\n\u001b[0;32m    918\u001b[0m \u001b[1;33m\u001b[0m\u001b[0m\n",
      "\u001b[1;32mC:\\Apps\\anaconda3\\lib\\site-packages\\torch\\nn\\functional.py\u001b[0m in \u001b[0;36mcross_entropy\u001b[1;34m(input, target, weight, size_average, ignore_index, reduce, reduction)\u001b[0m\n\u001b[0;32m   1993\u001b[0m     \u001b[1;32mif\u001b[0m \u001b[0msize_average\u001b[0m \u001b[1;32mis\u001b[0m \u001b[1;32mnot\u001b[0m \u001b[1;32mNone\u001b[0m \u001b[1;32mor\u001b[0m \u001b[0mreduce\u001b[0m \u001b[1;32mis\u001b[0m \u001b[1;32mnot\u001b[0m \u001b[1;32mNone\u001b[0m\u001b[1;33m:\u001b[0m\u001b[1;33m\u001b[0m\u001b[1;33m\u001b[0m\u001b[0m\n\u001b[0;32m   1994\u001b[0m         \u001b[0mreduction\u001b[0m \u001b[1;33m=\u001b[0m \u001b[0m_Reduction\u001b[0m\u001b[1;33m.\u001b[0m\u001b[0mlegacy_get_string\u001b[0m\u001b[1;33m(\u001b[0m\u001b[0msize_average\u001b[0m\u001b[1;33m,\u001b[0m \u001b[0mreduce\u001b[0m\u001b[1;33m)\u001b[0m\u001b[1;33m\u001b[0m\u001b[1;33m\u001b[0m\u001b[0m\n\u001b[1;32m-> 1995\u001b[1;33m     \u001b[1;32mreturn\u001b[0m \u001b[0mnll_loss\u001b[0m\u001b[1;33m(\u001b[0m\u001b[0mlog_softmax\u001b[0m\u001b[1;33m(\u001b[0m\u001b[0minput\u001b[0m\u001b[1;33m,\u001b[0m \u001b[1;36m1\u001b[0m\u001b[1;33m)\u001b[0m\u001b[1;33m,\u001b[0m \u001b[0mtarget\u001b[0m\u001b[1;33m,\u001b[0m \u001b[0mweight\u001b[0m\u001b[1;33m,\u001b[0m \u001b[1;32mNone\u001b[0m\u001b[1;33m,\u001b[0m \u001b[0mignore_index\u001b[0m\u001b[1;33m,\u001b[0m \u001b[1;32mNone\u001b[0m\u001b[1;33m,\u001b[0m \u001b[0mreduction\u001b[0m\u001b[1;33m)\u001b[0m\u001b[1;33m\u001b[0m\u001b[1;33m\u001b[0m\u001b[0m\n\u001b[0m\u001b[0;32m   1996\u001b[0m \u001b[1;33m\u001b[0m\u001b[0m\n\u001b[0;32m   1997\u001b[0m \u001b[1;33m\u001b[0m\u001b[0m\n",
      "\u001b[1;32mC:\\Apps\\anaconda3\\lib\\site-packages\\torch\\nn\\functional.py\u001b[0m in \u001b[0;36mlog_softmax\u001b[1;34m(input, dim, _stacklevel, dtype)\u001b[0m\n\u001b[0;32m   1314\u001b[0m         \u001b[0mdim\u001b[0m \u001b[1;33m=\u001b[0m \u001b[0m_get_softmax_dim\u001b[0m\u001b[1;33m(\u001b[0m\u001b[1;34m'log_softmax'\u001b[0m\u001b[1;33m,\u001b[0m \u001b[0minput\u001b[0m\u001b[1;33m.\u001b[0m\u001b[0mdim\u001b[0m\u001b[1;33m(\u001b[0m\u001b[1;33m)\u001b[0m\u001b[1;33m,\u001b[0m \u001b[0m_stacklevel\u001b[0m\u001b[1;33m)\u001b[0m\u001b[1;33m\u001b[0m\u001b[1;33m\u001b[0m\u001b[0m\n\u001b[0;32m   1315\u001b[0m     \u001b[1;32mif\u001b[0m \u001b[0mdtype\u001b[0m \u001b[1;32mis\u001b[0m \u001b[1;32mNone\u001b[0m\u001b[1;33m:\u001b[0m\u001b[1;33m\u001b[0m\u001b[1;33m\u001b[0m\u001b[0m\n\u001b[1;32m-> 1316\u001b[1;33m         \u001b[0mret\u001b[0m \u001b[1;33m=\u001b[0m \u001b[0minput\u001b[0m\u001b[1;33m.\u001b[0m\u001b[0mlog_softmax\u001b[0m\u001b[1;33m(\u001b[0m\u001b[0mdim\u001b[0m\u001b[1;33m)\u001b[0m\u001b[1;33m\u001b[0m\u001b[1;33m\u001b[0m\u001b[0m\n\u001b[0m\u001b[0;32m   1317\u001b[0m     \u001b[1;32melse\u001b[0m\u001b[1;33m:\u001b[0m\u001b[1;33m\u001b[0m\u001b[1;33m\u001b[0m\u001b[0m\n\u001b[0;32m   1318\u001b[0m         \u001b[0mret\u001b[0m \u001b[1;33m=\u001b[0m \u001b[0minput\u001b[0m\u001b[1;33m.\u001b[0m\u001b[0mlog_softmax\u001b[0m\u001b[1;33m(\u001b[0m\u001b[0mdim\u001b[0m\u001b[1;33m,\u001b[0m \u001b[0mdtype\u001b[0m\u001b[1;33m=\u001b[0m\u001b[0mdtype\u001b[0m\u001b[1;33m)\u001b[0m\u001b[1;33m\u001b[0m\u001b[1;33m\u001b[0m\u001b[0m\n",
      "\u001b[1;31mIndexError\u001b[0m: Dimension out of range (expected to be in range of [-1, 0], but got 1)"
     ]
    }
   ],
   "source": [
    "m = test(model , train_feature_matrix , train_labels , test_feature_matrix , test_labels)"
   ]
  },
  {
   "cell_type": "code",
   "execution_count": 43,
   "metadata": {},
   "outputs": [],
   "source": [
    "model = nn.Sequential()\n",
    "model.add_module('l1', nn.Linear(30, 10))\n",
    "model.add_module('l2', nn.ReLU())\n",
    "model.add_module('l3', nn.Linear(10, 1))\n",
    "model.add_module('l4', nn.Sigmoid())\n",
    "opt = torch.optim.Adam(model.parameters(), lr=3e-4)"
   ]
  },
  {
   "cell_type": "code",
   "execution_count": 44,
   "metadata": {},
   "outputs": [
    {
     "ename": "IndexError",
     "evalue": "Dimension out of range (expected to be in range of [-1, 0], but got 1)",
     "output_type": "error",
     "traceback": [
      "\u001b[1;31m---------------------------------------------------------------------------\u001b[0m",
      "\u001b[1;31mIndexError\u001b[0m                                Traceback (most recent call last)",
      "\u001b[1;32m<ipython-input-44-67854e625a34>\u001b[0m in \u001b[0;36m<module>\u001b[1;34m\u001b[0m\n\u001b[1;32m----> 1\u001b[1;33m \u001b[0mm\u001b[0m \u001b[1;33m=\u001b[0m \u001b[0mtest\u001b[0m\u001b[1;33m(\u001b[0m\u001b[0mmodel\u001b[0m \u001b[1;33m,\u001b[0m \u001b[0mtrain_feature_matrix\u001b[0m \u001b[1;33m,\u001b[0m \u001b[0mtrain_labels\u001b[0m \u001b[1;33m,\u001b[0m \u001b[0mtest_feature_matrix\u001b[0m \u001b[1;33m,\u001b[0m \u001b[0mtest_labels\u001b[0m\u001b[1;33m)\u001b[0m\u001b[1;33m\u001b[0m\u001b[1;33m\u001b[0m\u001b[0m\n\u001b[0m",
      "\u001b[1;32m<ipython-input-40-70ec2cf59379>\u001b[0m in \u001b[0;36mtest\u001b[1;34m(model, train_feature_matrix, train_labels, test_feature_matrix, test_labels)\u001b[0m\n\u001b[0;32m      2\u001b[0m     \u001b[0mX_test\u001b[0m \u001b[1;33m=\u001b[0m \u001b[0mtorch\u001b[0m\u001b[1;33m.\u001b[0m\u001b[0mtensor\u001b[0m\u001b[1;33m(\u001b[0m\u001b[0mtest_feature_matrix\u001b[0m\u001b[1;33m,\u001b[0m \u001b[0mdtype\u001b[0m\u001b[1;33m=\u001b[0m\u001b[0mtorch\u001b[0m\u001b[1;33m.\u001b[0m\u001b[0mfloat32\u001b[0m\u001b[1;33m)\u001b[0m\u001b[1;33m\u001b[0m\u001b[1;33m\u001b[0m\u001b[0m\n\u001b[0;32m      3\u001b[0m     \u001b[0my_test\u001b[0m \u001b[1;33m=\u001b[0m \u001b[0mtorch\u001b[0m\u001b[1;33m.\u001b[0m\u001b[0mtensor\u001b[0m\u001b[1;33m(\u001b[0m\u001b[0mtest_labels\u001b[0m\u001b[1;33m,\u001b[0m \u001b[0mdtype\u001b[0m\u001b[1;33m=\u001b[0m\u001b[0mtorch\u001b[0m\u001b[1;33m.\u001b[0m\u001b[0mfloat32\u001b[0m\u001b[1;33m)\u001b[0m\u001b[1;33m\u001b[0m\u001b[1;33m\u001b[0m\u001b[0m\n\u001b[1;32m----> 4\u001b[1;33m     \u001b[0mm\u001b[0m \u001b[1;33m=\u001b[0m \u001b[0mtrain_model\u001b[0m\u001b[1;33m(\u001b[0m\u001b[0mmodel\u001b[0m \u001b[1;33m,\u001b[0m\u001b[0mtrain_feature_matrix\u001b[0m\u001b[1;33m,\u001b[0m \u001b[0mtrain_labels\u001b[0m \u001b[1;33m,\u001b[0m \u001b[0mX_test\u001b[0m \u001b[1;33m,\u001b[0m \u001b[0my_test\u001b[0m \u001b[1;33m)\u001b[0m\u001b[1;33m\u001b[0m\u001b[1;33m\u001b[0m\u001b[0m\n\u001b[0m\u001b[0;32m      5\u001b[0m     \u001b[0mplot_res\u001b[0m\u001b[1;33m(\u001b[0m\u001b[0mm\u001b[0m\u001b[1;33m[\u001b[0m\u001b[1;34m'history'\u001b[0m\u001b[1;33m]\u001b[0m \u001b[1;33m,\u001b[0m \u001b[0mm\u001b[0m\u001b[1;33m[\u001b[0m\u001b[1;34m'test_loss'\u001b[0m\u001b[1;33m]\u001b[0m\u001b[1;33m)\u001b[0m\u001b[1;33m\u001b[0m\u001b[1;33m\u001b[0m\u001b[0m\n\u001b[0;32m      6\u001b[0m     \u001b[0macc\u001b[0m\u001b[1;33m(\u001b[0m\u001b[0mm\u001b[0m\u001b[1;33m[\u001b[0m\u001b[1;34m'model'\u001b[0m\u001b[1;33m]\u001b[0m \u001b[1;33m,\u001b[0m\u001b[0mtest_feature_matrix\u001b[0m \u001b[1;33m,\u001b[0m  \u001b[0mtest_labels\u001b[0m\u001b[1;33m)\u001b[0m\u001b[1;33m\u001b[0m\u001b[1;33m\u001b[0m\u001b[0m\n",
      "\u001b[1;32m<ipython-input-37-12908ef70700>\u001b[0m in \u001b[0;36mtrain_model\u001b[1;34m(model, train_feature_matrix, train_labels, X_test, y_test)\u001b[0m\n\u001b[0;32m     19\u001b[0m         \u001b[1;31m#crossentropy = -(y_batch*y_predicted.log() + (1-y_batch)*torch.log(1-y_predicted))\u001b[0m\u001b[1;33m\u001b[0m\u001b[1;33m\u001b[0m\u001b[1;33m\u001b[0m\u001b[0m\n\u001b[0;32m     20\u001b[0m         \u001b[1;31m#loss = crossentropy.sum().unsqueeze(0)\u001b[0m\u001b[1;33m\u001b[0m\u001b[1;33m\u001b[0m\u001b[1;33m\u001b[0m\u001b[0m\n\u001b[1;32m---> 21\u001b[1;33m         \u001b[0mloss\u001b[0m \u001b[1;33m=\u001b[0m \u001b[0mcriterion\u001b[0m\u001b[1;33m(\u001b[0m\u001b[0my_predicted\u001b[0m\u001b[1;33m,\u001b[0m \u001b[0my_batch\u001b[0m\u001b[1;33m)\u001b[0m\u001b[1;33m.\u001b[0m\u001b[0mitem\u001b[0m\u001b[1;33m(\u001b[0m\u001b[1;33m)\u001b[0m\u001b[1;33m\u001b[0m\u001b[1;33m\u001b[0m\u001b[0m\n\u001b[0m\u001b[0;32m     22\u001b[0m \u001b[1;33m\u001b[0m\u001b[0m\n\u001b[0;32m     23\u001b[0m \u001b[1;33m\u001b[0m\u001b[0m\n",
      "\u001b[1;32mC:\\Apps\\anaconda3\\lib\\site-packages\\torch\\nn\\modules\\module.py\u001b[0m in \u001b[0;36m__call__\u001b[1;34m(self, *input, **kwargs)\u001b[0m\n\u001b[0;32m    545\u001b[0m             \u001b[0mresult\u001b[0m \u001b[1;33m=\u001b[0m \u001b[0mself\u001b[0m\u001b[1;33m.\u001b[0m\u001b[0m_slow_forward\u001b[0m\u001b[1;33m(\u001b[0m\u001b[1;33m*\u001b[0m\u001b[0minput\u001b[0m\u001b[1;33m,\u001b[0m \u001b[1;33m**\u001b[0m\u001b[0mkwargs\u001b[0m\u001b[1;33m)\u001b[0m\u001b[1;33m\u001b[0m\u001b[1;33m\u001b[0m\u001b[0m\n\u001b[0;32m    546\u001b[0m         \u001b[1;32melse\u001b[0m\u001b[1;33m:\u001b[0m\u001b[1;33m\u001b[0m\u001b[1;33m\u001b[0m\u001b[0m\n\u001b[1;32m--> 547\u001b[1;33m             \u001b[0mresult\u001b[0m \u001b[1;33m=\u001b[0m \u001b[0mself\u001b[0m\u001b[1;33m.\u001b[0m\u001b[0mforward\u001b[0m\u001b[1;33m(\u001b[0m\u001b[1;33m*\u001b[0m\u001b[0minput\u001b[0m\u001b[1;33m,\u001b[0m \u001b[1;33m**\u001b[0m\u001b[0mkwargs\u001b[0m\u001b[1;33m)\u001b[0m\u001b[1;33m\u001b[0m\u001b[1;33m\u001b[0m\u001b[0m\n\u001b[0m\u001b[0;32m    548\u001b[0m         \u001b[1;32mfor\u001b[0m \u001b[0mhook\u001b[0m \u001b[1;32min\u001b[0m \u001b[0mself\u001b[0m\u001b[1;33m.\u001b[0m\u001b[0m_forward_hooks\u001b[0m\u001b[1;33m.\u001b[0m\u001b[0mvalues\u001b[0m\u001b[1;33m(\u001b[0m\u001b[1;33m)\u001b[0m\u001b[1;33m:\u001b[0m\u001b[1;33m\u001b[0m\u001b[1;33m\u001b[0m\u001b[0m\n\u001b[0;32m    549\u001b[0m             \u001b[0mhook_result\u001b[0m \u001b[1;33m=\u001b[0m \u001b[0mhook\u001b[0m\u001b[1;33m(\u001b[0m\u001b[0mself\u001b[0m\u001b[1;33m,\u001b[0m \u001b[0minput\u001b[0m\u001b[1;33m,\u001b[0m \u001b[0mresult\u001b[0m\u001b[1;33m)\u001b[0m\u001b[1;33m\u001b[0m\u001b[1;33m\u001b[0m\u001b[0m\n",
      "\u001b[1;32mC:\\Apps\\anaconda3\\lib\\site-packages\\torch\\nn\\modules\\loss.py\u001b[0m in \u001b[0;36mforward\u001b[1;34m(self, input, target)\u001b[0m\n\u001b[0;32m    914\u001b[0m     \u001b[1;32mdef\u001b[0m \u001b[0mforward\u001b[0m\u001b[1;33m(\u001b[0m\u001b[0mself\u001b[0m\u001b[1;33m,\u001b[0m \u001b[0minput\u001b[0m\u001b[1;33m,\u001b[0m \u001b[0mtarget\u001b[0m\u001b[1;33m)\u001b[0m\u001b[1;33m:\u001b[0m\u001b[1;33m\u001b[0m\u001b[1;33m\u001b[0m\u001b[0m\n\u001b[0;32m    915\u001b[0m         return F.cross_entropy(input, target, weight=self.weight,\n\u001b[1;32m--> 916\u001b[1;33m                                ignore_index=self.ignore_index, reduction=self.reduction)\n\u001b[0m\u001b[0;32m    917\u001b[0m \u001b[1;33m\u001b[0m\u001b[0m\n\u001b[0;32m    918\u001b[0m \u001b[1;33m\u001b[0m\u001b[0m\n",
      "\u001b[1;32mC:\\Apps\\anaconda3\\lib\\site-packages\\torch\\nn\\functional.py\u001b[0m in \u001b[0;36mcross_entropy\u001b[1;34m(input, target, weight, size_average, ignore_index, reduce, reduction)\u001b[0m\n\u001b[0;32m   1993\u001b[0m     \u001b[1;32mif\u001b[0m \u001b[0msize_average\u001b[0m \u001b[1;32mis\u001b[0m \u001b[1;32mnot\u001b[0m \u001b[1;32mNone\u001b[0m \u001b[1;32mor\u001b[0m \u001b[0mreduce\u001b[0m \u001b[1;32mis\u001b[0m \u001b[1;32mnot\u001b[0m \u001b[1;32mNone\u001b[0m\u001b[1;33m:\u001b[0m\u001b[1;33m\u001b[0m\u001b[1;33m\u001b[0m\u001b[0m\n\u001b[0;32m   1994\u001b[0m         \u001b[0mreduction\u001b[0m \u001b[1;33m=\u001b[0m \u001b[0m_Reduction\u001b[0m\u001b[1;33m.\u001b[0m\u001b[0mlegacy_get_string\u001b[0m\u001b[1;33m(\u001b[0m\u001b[0msize_average\u001b[0m\u001b[1;33m,\u001b[0m \u001b[0mreduce\u001b[0m\u001b[1;33m)\u001b[0m\u001b[1;33m\u001b[0m\u001b[1;33m\u001b[0m\u001b[0m\n\u001b[1;32m-> 1995\u001b[1;33m     \u001b[1;32mreturn\u001b[0m \u001b[0mnll_loss\u001b[0m\u001b[1;33m(\u001b[0m\u001b[0mlog_softmax\u001b[0m\u001b[1;33m(\u001b[0m\u001b[0minput\u001b[0m\u001b[1;33m,\u001b[0m \u001b[1;36m1\u001b[0m\u001b[1;33m)\u001b[0m\u001b[1;33m,\u001b[0m \u001b[0mtarget\u001b[0m\u001b[1;33m,\u001b[0m \u001b[0mweight\u001b[0m\u001b[1;33m,\u001b[0m \u001b[1;32mNone\u001b[0m\u001b[1;33m,\u001b[0m \u001b[0mignore_index\u001b[0m\u001b[1;33m,\u001b[0m \u001b[1;32mNone\u001b[0m\u001b[1;33m,\u001b[0m \u001b[0mreduction\u001b[0m\u001b[1;33m)\u001b[0m\u001b[1;33m\u001b[0m\u001b[1;33m\u001b[0m\u001b[0m\n\u001b[0m\u001b[0;32m   1996\u001b[0m \u001b[1;33m\u001b[0m\u001b[0m\n\u001b[0;32m   1997\u001b[0m \u001b[1;33m\u001b[0m\u001b[0m\n",
      "\u001b[1;32mC:\\Apps\\anaconda3\\lib\\site-packages\\torch\\nn\\functional.py\u001b[0m in \u001b[0;36mlog_softmax\u001b[1;34m(input, dim, _stacklevel, dtype)\u001b[0m\n\u001b[0;32m   1314\u001b[0m         \u001b[0mdim\u001b[0m \u001b[1;33m=\u001b[0m \u001b[0m_get_softmax_dim\u001b[0m\u001b[1;33m(\u001b[0m\u001b[1;34m'log_softmax'\u001b[0m\u001b[1;33m,\u001b[0m \u001b[0minput\u001b[0m\u001b[1;33m.\u001b[0m\u001b[0mdim\u001b[0m\u001b[1;33m(\u001b[0m\u001b[1;33m)\u001b[0m\u001b[1;33m,\u001b[0m \u001b[0m_stacklevel\u001b[0m\u001b[1;33m)\u001b[0m\u001b[1;33m\u001b[0m\u001b[1;33m\u001b[0m\u001b[0m\n\u001b[0;32m   1315\u001b[0m     \u001b[1;32mif\u001b[0m \u001b[0mdtype\u001b[0m \u001b[1;32mis\u001b[0m \u001b[1;32mNone\u001b[0m\u001b[1;33m:\u001b[0m\u001b[1;33m\u001b[0m\u001b[1;33m\u001b[0m\u001b[0m\n\u001b[1;32m-> 1316\u001b[1;33m         \u001b[0mret\u001b[0m \u001b[1;33m=\u001b[0m \u001b[0minput\u001b[0m\u001b[1;33m.\u001b[0m\u001b[0mlog_softmax\u001b[0m\u001b[1;33m(\u001b[0m\u001b[0mdim\u001b[0m\u001b[1;33m)\u001b[0m\u001b[1;33m\u001b[0m\u001b[1;33m\u001b[0m\u001b[0m\n\u001b[0m\u001b[0;32m   1317\u001b[0m     \u001b[1;32melse\u001b[0m\u001b[1;33m:\u001b[0m\u001b[1;33m\u001b[0m\u001b[1;33m\u001b[0m\u001b[0m\n\u001b[0;32m   1318\u001b[0m         \u001b[0mret\u001b[0m \u001b[1;33m=\u001b[0m \u001b[0minput\u001b[0m\u001b[1;33m.\u001b[0m\u001b[0mlog_softmax\u001b[0m\u001b[1;33m(\u001b[0m\u001b[0mdim\u001b[0m\u001b[1;33m,\u001b[0m \u001b[0mdtype\u001b[0m\u001b[1;33m=\u001b[0m\u001b[0mdtype\u001b[0m\u001b[1;33m)\u001b[0m\u001b[1;33m\u001b[0m\u001b[1;33m\u001b[0m\u001b[0m\n",
      "\u001b[1;31mIndexError\u001b[0m: Dimension out of range (expected to be in range of [-1, 0], but got 1)"
     ]
    }
   ],
   "source": [
    "m = test(model , train_feature_matrix , train_labels , test_feature_matrix , test_labels)"
   ]
  },
  {
   "cell_type": "code",
   "execution_count": null,
   "metadata": {},
   "outputs": [],
   "source": []
  },
  {
   "cell_type": "code",
   "execution_count": 423,
   "metadata": {},
   "outputs": [],
   "source": [
    "model = nn.Sequential()\n",
    "model.add_module('l1', nn.Linear(30, 100))\n",
    "model.add_module('l2', nn.ReLU())\n",
    "model.add_module('l3', nn.Linear(100, 1))\n",
    "model.add_module('l4', nn.Sigmoid())\n",
    "#opt = torch.optim.Adam(model.parameters(), lr=3e-4)"
   ]
  },
  {
   "cell_type": "code",
   "execution_count": 424,
   "metadata": {},
   "outputs": [
    {
     "name": "stdout",
     "output_type": "stream",
     "text": [
      "step #0 | mean loss = 42.999\n",
      "step #200 | mean loss = 11.288\n",
      "step #400 | mean loss = 5.853\n",
      "step #600 | mean loss = 5.024\n",
      "step #800 | mean loss = 3.920\n"
     ]
    },
    {
     "data": {
      "image/png": "[encoded data removed]",
      "text/plain": [
       "<Figure size 576x360 with 1 Axes>"
      ]
     },
     "metadata": {
      "needs_background": "light"
     },
     "output_type": "display_data"
    },
    {
     "name": "stdout",
     "output_type": "stream",
     "text": [
      "0.984042553191\n",
      "              precision    recall  f1-score   support\n",
      "\n",
      "         0.0       0.97      0.99      0.98        67\n",
      "         1.0       0.99      0.98      0.99       121\n",
      "\n",
      "    accuracy                           0.98       188\n",
      "   macro avg       0.98      0.98      0.98       188\n",
      "weighted avg       0.98      0.98      0.98       188\n",
      "\n"
     ]
    }
   ],
   "source": [
    "m =  test(model , train_feature_matrix , train_labels , test_feature_matrix , test_labels)"
   ]
  },
  {
   "cell_type": "code",
   "execution_count": 434,
   "metadata": {},
   "outputs": [],
   "source": [
    "model = nn.Sequential()\n",
    "model.add_module('l1', nn.Linear(30, 100))\n",
    "model.add_module('l2', nn.ReLU())\n",
    "model.add_module('l3', nn.Linear(100, 100))\n",
    "model.add_module('l4', nn.ReLU())\n",
    "model.add_module('l5', nn.Linear(100, 2))\n",
    "model.add_module('l6', nn.Sigmoid())"
   ]
  },
  {
   "cell_type": "code",
   "execution_count": 435,
   "metadata": {},
   "outputs": [
    {
     "ename": "IndexError",
     "evalue": "Dimension out of range (expected to be in range of [-1, 0], but got 1)",
     "output_type": "error",
     "traceback": [
      "\u001b[1;31m---------------------------------------------------------------------------\u001b[0m",
      "\u001b[1;31mIndexError\u001b[0m                                Traceback (most recent call last)",
      "\u001b[1;32m<ipython-input-435-67854e625a34>\u001b[0m in \u001b[0;36m<module>\u001b[1;34m\u001b[0m\n\u001b[1;32m----> 1\u001b[1;33m \u001b[0mm\u001b[0m \u001b[1;33m=\u001b[0m \u001b[0mtest\u001b[0m\u001b[1;33m(\u001b[0m\u001b[0mmodel\u001b[0m \u001b[1;33m,\u001b[0m \u001b[0mtrain_feature_matrix\u001b[0m \u001b[1;33m,\u001b[0m \u001b[0mtrain_labels\u001b[0m \u001b[1;33m,\u001b[0m \u001b[0mtest_feature_matrix\u001b[0m \u001b[1;33m,\u001b[0m \u001b[0mtest_labels\u001b[0m\u001b[1;33m)\u001b[0m\u001b[1;33m\u001b[0m\u001b[1;33m\u001b[0m\u001b[0m\n\u001b[0m",
      "\u001b[1;32m<ipython-input-421-70ec2cf59379>\u001b[0m in \u001b[0;36mtest\u001b[1;34m(model, train_feature_matrix, train_labels, test_feature_matrix, test_labels)\u001b[0m\n\u001b[0;32m      2\u001b[0m     \u001b[0mX_test\u001b[0m \u001b[1;33m=\u001b[0m \u001b[0mtorch\u001b[0m\u001b[1;33m.\u001b[0m\u001b[0mtensor\u001b[0m\u001b[1;33m(\u001b[0m\u001b[0mtest_feature_matrix\u001b[0m\u001b[1;33m,\u001b[0m \u001b[0mdtype\u001b[0m\u001b[1;33m=\u001b[0m\u001b[0mtorch\u001b[0m\u001b[1;33m.\u001b[0m\u001b[0mfloat32\u001b[0m\u001b[1;33m)\u001b[0m\u001b[1;33m\u001b[0m\u001b[1;33m\u001b[0m\u001b[0m\n\u001b[0;32m      3\u001b[0m     \u001b[0my_test\u001b[0m \u001b[1;33m=\u001b[0m \u001b[0mtorch\u001b[0m\u001b[1;33m.\u001b[0m\u001b[0mtensor\u001b[0m\u001b[1;33m(\u001b[0m\u001b[0mtest_labels\u001b[0m\u001b[1;33m,\u001b[0m \u001b[0mdtype\u001b[0m\u001b[1;33m=\u001b[0m\u001b[0mtorch\u001b[0m\u001b[1;33m.\u001b[0m\u001b[0mfloat32\u001b[0m\u001b[1;33m)\u001b[0m\u001b[1;33m\u001b[0m\u001b[1;33m\u001b[0m\u001b[0m\n\u001b[1;32m----> 4\u001b[1;33m     \u001b[0mm\u001b[0m \u001b[1;33m=\u001b[0m \u001b[0mtrain_model\u001b[0m\u001b[1;33m(\u001b[0m\u001b[0mmodel\u001b[0m \u001b[1;33m,\u001b[0m\u001b[0mtrain_feature_matrix\u001b[0m\u001b[1;33m,\u001b[0m \u001b[0mtrain_labels\u001b[0m \u001b[1;33m,\u001b[0m \u001b[0mX_test\u001b[0m \u001b[1;33m,\u001b[0m \u001b[0my_test\u001b[0m \u001b[1;33m)\u001b[0m\u001b[1;33m\u001b[0m\u001b[1;33m\u001b[0m\u001b[0m\n\u001b[0m\u001b[0;32m      5\u001b[0m     \u001b[0mplot_res\u001b[0m\u001b[1;33m(\u001b[0m\u001b[0mm\u001b[0m\u001b[1;33m[\u001b[0m\u001b[1;34m'history'\u001b[0m\u001b[1;33m]\u001b[0m \u001b[1;33m,\u001b[0m \u001b[0mm\u001b[0m\u001b[1;33m[\u001b[0m\u001b[1;34m'test_loss'\u001b[0m\u001b[1;33m]\u001b[0m\u001b[1;33m)\u001b[0m\u001b[1;33m\u001b[0m\u001b[1;33m\u001b[0m\u001b[0m\n\u001b[0;32m      6\u001b[0m     \u001b[0macc\u001b[0m\u001b[1;33m(\u001b[0m\u001b[0mm\u001b[0m\u001b[1;33m[\u001b[0m\u001b[1;34m'model'\u001b[0m\u001b[1;33m]\u001b[0m \u001b[1;33m,\u001b[0m\u001b[0mtest_feature_matrix\u001b[0m \u001b[1;33m,\u001b[0m  \u001b[0mtest_labels\u001b[0m\u001b[1;33m)\u001b[0m\u001b[1;33m\u001b[0m\u001b[1;33m\u001b[0m\u001b[0m\n",
      "\u001b[1;32m<ipython-input-433-12908ef70700>\u001b[0m in \u001b[0;36mtrain_model\u001b[1;34m(model, train_feature_matrix, train_labels, X_test, y_test)\u001b[0m\n\u001b[0;32m     19\u001b[0m         \u001b[1;31m#crossentropy = -(y_batch*y_predicted.log() + (1-y_batch)*torch.log(1-y_predicted))\u001b[0m\u001b[1;33m\u001b[0m\u001b[1;33m\u001b[0m\u001b[1;33m\u001b[0m\u001b[0m\n\u001b[0;32m     20\u001b[0m         \u001b[1;31m#loss = crossentropy.sum().unsqueeze(0)\u001b[0m\u001b[1;33m\u001b[0m\u001b[1;33m\u001b[0m\u001b[1;33m\u001b[0m\u001b[0m\n\u001b[1;32m---> 21\u001b[1;33m         \u001b[0mloss\u001b[0m \u001b[1;33m=\u001b[0m \u001b[0mcriterion\u001b[0m\u001b[1;33m(\u001b[0m\u001b[0my_predicted\u001b[0m\u001b[1;33m,\u001b[0m \u001b[0my_batch\u001b[0m\u001b[1;33m)\u001b[0m\u001b[1;33m.\u001b[0m\u001b[0mitem\u001b[0m\u001b[1;33m(\u001b[0m\u001b[1;33m)\u001b[0m\u001b[1;33m\u001b[0m\u001b[1;33m\u001b[0m\u001b[0m\n\u001b[0m\u001b[0;32m     22\u001b[0m \u001b[1;33m\u001b[0m\u001b[0m\n\u001b[0;32m     23\u001b[0m \u001b[1;33m\u001b[0m\u001b[0m\n",
      "\u001b[1;32mC:\\Apps\\anaconda3\\lib\\site-packages\\torch\\nn\\modules\\module.py\u001b[0m in \u001b[0;36m__call__\u001b[1;34m(self, *input, **kwargs)\u001b[0m\n\u001b[0;32m    545\u001b[0m             \u001b[0mresult\u001b[0m \u001b[1;33m=\u001b[0m \u001b[0mself\u001b[0m\u001b[1;33m.\u001b[0m\u001b[0m_slow_forward\u001b[0m\u001b[1;33m(\u001b[0m\u001b[1;33m*\u001b[0m\u001b[0minput\u001b[0m\u001b[1;33m,\u001b[0m \u001b[1;33m**\u001b[0m\u001b[0mkwargs\u001b[0m\u001b[1;33m)\u001b[0m\u001b[1;33m\u001b[0m\u001b[1;33m\u001b[0m\u001b[0m\n\u001b[0;32m    546\u001b[0m         \u001b[1;32melse\u001b[0m\u001b[1;33m:\u001b[0m\u001b[1;33m\u001b[0m\u001b[1;33m\u001b[0m\u001b[0m\n\u001b[1;32m--> 547\u001b[1;33m             \u001b[0mresult\u001b[0m \u001b[1;33m=\u001b[0m \u001b[0mself\u001b[0m\u001b[1;33m.\u001b[0m\u001b[0mforward\u001b[0m\u001b[1;33m(\u001b[0m\u001b[1;33m*\u001b[0m\u001b[0minput\u001b[0m\u001b[1;33m,\u001b[0m \u001b[1;33m**\u001b[0m\u001b[0mkwargs\u001b[0m\u001b[1;33m)\u001b[0m\u001b[1;33m\u001b[0m\u001b[1;33m\u001b[0m\u001b[0m\n\u001b[0m\u001b[0;32m    548\u001b[0m         \u001b[1;32mfor\u001b[0m \u001b[0mhook\u001b[0m \u001b[1;32min\u001b[0m \u001b[0mself\u001b[0m\u001b[1;33m.\u001b[0m\u001b[0m_forward_hooks\u001b[0m\u001b[1;33m.\u001b[0m\u001b[0mvalues\u001b[0m\u001b[1;33m(\u001b[0m\u001b[1;33m)\u001b[0m\u001b[1;33m:\u001b[0m\u001b[1;33m\u001b[0m\u001b[1;33m\u001b[0m\u001b[0m\n\u001b[0;32m    549\u001b[0m             \u001b[0mhook_result\u001b[0m \u001b[1;33m=\u001b[0m \u001b[0mhook\u001b[0m\u001b[1;33m(\u001b[0m\u001b[0mself\u001b[0m\u001b[1;33m,\u001b[0m \u001b[0minput\u001b[0m\u001b[1;33m,\u001b[0m \u001b[0mresult\u001b[0m\u001b[1;33m)\u001b[0m\u001b[1;33m\u001b[0m\u001b[1;33m\u001b[0m\u001b[0m\n",
      "\u001b[1;32mC:\\Apps\\anaconda3\\lib\\site-packages\\torch\\nn\\modules\\loss.py\u001b[0m in \u001b[0;36mforward\u001b[1;34m(self, input, target)\u001b[0m\n\u001b[0;32m    914\u001b[0m     \u001b[1;32mdef\u001b[0m \u001b[0mforward\u001b[0m\u001b[1;33m(\u001b[0m\u001b[0mself\u001b[0m\u001b[1;33m,\u001b[0m \u001b[0minput\u001b[0m\u001b[1;33m,\u001b[0m \u001b[0mtarget\u001b[0m\u001b[1;33m)\u001b[0m\u001b[1;33m:\u001b[0m\u001b[1;33m\u001b[0m\u001b[1;33m\u001b[0m\u001b[0m\n\u001b[0;32m    915\u001b[0m         return F.cross_entropy(input, target, weight=self.weight,\n\u001b[1;32m--> 916\u001b[1;33m                                ignore_index=self.ignore_index, reduction=self.reduction)\n\u001b[0m\u001b[0;32m    917\u001b[0m \u001b[1;33m\u001b[0m\u001b[0m\n\u001b[0;32m    918\u001b[0m \u001b[1;33m\u001b[0m\u001b[0m\n",
      "\u001b[1;32mC:\\Apps\\anaconda3\\lib\\site-packages\\torch\\nn\\functional.py\u001b[0m in \u001b[0;36mcross_entropy\u001b[1;34m(input, target, weight, size_average, ignore_index, reduce, reduction)\u001b[0m\n\u001b[0;32m   1993\u001b[0m     \u001b[1;32mif\u001b[0m \u001b[0msize_average\u001b[0m \u001b[1;32mis\u001b[0m \u001b[1;32mnot\u001b[0m \u001b[1;32mNone\u001b[0m \u001b[1;32mor\u001b[0m \u001b[0mreduce\u001b[0m \u001b[1;32mis\u001b[0m \u001b[1;32mnot\u001b[0m \u001b[1;32mNone\u001b[0m\u001b[1;33m:\u001b[0m\u001b[1;33m\u001b[0m\u001b[1;33m\u001b[0m\u001b[0m\n\u001b[0;32m   1994\u001b[0m         \u001b[0mreduction\u001b[0m \u001b[1;33m=\u001b[0m \u001b[0m_Reduction\u001b[0m\u001b[1;33m.\u001b[0m\u001b[0mlegacy_get_string\u001b[0m\u001b[1;33m(\u001b[0m\u001b[0msize_average\u001b[0m\u001b[1;33m,\u001b[0m \u001b[0mreduce\u001b[0m\u001b[1;33m)\u001b[0m\u001b[1;33m\u001b[0m\u001b[1;33m\u001b[0m\u001b[0m\n\u001b[1;32m-> 1995\u001b[1;33m     \u001b[1;32mreturn\u001b[0m \u001b[0mnll_loss\u001b[0m\u001b[1;33m(\u001b[0m\u001b[0mlog_softmax\u001b[0m\u001b[1;33m(\u001b[0m\u001b[0minput\u001b[0m\u001b[1;33m,\u001b[0m \u001b[1;36m1\u001b[0m\u001b[1;33m)\u001b[0m\u001b[1;33m,\u001b[0m \u001b[0mtarget\u001b[0m\u001b[1;33m,\u001b[0m \u001b[0mweight\u001b[0m\u001b[1;33m,\u001b[0m \u001b[1;32mNone\u001b[0m\u001b[1;33m,\u001b[0m \u001b[0mignore_index\u001b[0m\u001b[1;33m,\u001b[0m \u001b[1;32mNone\u001b[0m\u001b[1;33m,\u001b[0m \u001b[0mreduction\u001b[0m\u001b[1;33m)\u001b[0m\u001b[1;33m\u001b[0m\u001b[1;33m\u001b[0m\u001b[0m\n\u001b[0m\u001b[0;32m   1996\u001b[0m \u001b[1;33m\u001b[0m\u001b[0m\n\u001b[0;32m   1997\u001b[0m \u001b[1;33m\u001b[0m\u001b[0m\n",
      "\u001b[1;32mC:\\Apps\\anaconda3\\lib\\site-packages\\torch\\nn\\functional.py\u001b[0m in \u001b[0;36mlog_softmax\u001b[1;34m(input, dim, _stacklevel, dtype)\u001b[0m\n\u001b[0;32m   1314\u001b[0m         \u001b[0mdim\u001b[0m \u001b[1;33m=\u001b[0m \u001b[0m_get_softmax_dim\u001b[0m\u001b[1;33m(\u001b[0m\u001b[1;34m'log_softmax'\u001b[0m\u001b[1;33m,\u001b[0m \u001b[0minput\u001b[0m\u001b[1;33m.\u001b[0m\u001b[0mdim\u001b[0m\u001b[1;33m(\u001b[0m\u001b[1;33m)\u001b[0m\u001b[1;33m,\u001b[0m \u001b[0m_stacklevel\u001b[0m\u001b[1;33m)\u001b[0m\u001b[1;33m\u001b[0m\u001b[1;33m\u001b[0m\u001b[0m\n\u001b[0;32m   1315\u001b[0m     \u001b[1;32mif\u001b[0m \u001b[0mdtype\u001b[0m \u001b[1;32mis\u001b[0m \u001b[1;32mNone\u001b[0m\u001b[1;33m:\u001b[0m\u001b[1;33m\u001b[0m\u001b[1;33m\u001b[0m\u001b[0m\n\u001b[1;32m-> 1316\u001b[1;33m         \u001b[0mret\u001b[0m \u001b[1;33m=\u001b[0m \u001b[0minput\u001b[0m\u001b[1;33m.\u001b[0m\u001b[0mlog_softmax\u001b[0m\u001b[1;33m(\u001b[0m\u001b[0mdim\u001b[0m\u001b[1;33m)\u001b[0m\u001b[1;33m\u001b[0m\u001b[1;33m\u001b[0m\u001b[0m\n\u001b[0m\u001b[0;32m   1317\u001b[0m     \u001b[1;32melse\u001b[0m\u001b[1;33m:\u001b[0m\u001b[1;33m\u001b[0m\u001b[1;33m\u001b[0m\u001b[0m\n\u001b[0;32m   1318\u001b[0m         \u001b[0mret\u001b[0m \u001b[1;33m=\u001b[0m \u001b[0minput\u001b[0m\u001b[1;33m.\u001b[0m\u001b[0mlog_softmax\u001b[0m\u001b[1;33m(\u001b[0m\u001b[0mdim\u001b[0m\u001b[1;33m,\u001b[0m \u001b[0mdtype\u001b[0m\u001b[1;33m=\u001b[0m\u001b[0mdtype\u001b[0m\u001b[1;33m)\u001b[0m\u001b[1;33m\u001b[0m\u001b[1;33m\u001b[0m\u001b[0m\n",
      "\u001b[1;31mIndexError\u001b[0m: Dimension out of range (expected to be in range of [-1, 0], but got 1)"
     ]
    }
   ],
   "source": [
    "m = test(model , train_feature_matrix , train_labels , test_feature_matrix , test_labels)"
   ]
  },
  {
   "cell_type": "code",
   "execution_count": 430,
   "metadata": {},
   "outputs": [
    {
     "data": {
      "text/plain": [
       "[array([ nan], dtype=float32),\n",
       " array([ nan], dtype=float32),\n",
       " array([ nan], dtype=float32),\n",
       " array([ nan], dtype=float32),\n",
       " array([ nan], dtype=float32),\n",
       " array([ nan], dtype=float32),\n",
       " array([ nan], dtype=float32),\n",
       " array([ nan], dtype=float32),\n",
       " array([ nan], dtype=float32),\n",
       " array([ nan], dtype=float32),\n",
       " array([ nan], dtype=float32),\n",
       " array([ nan], dtype=float32),\n",
       " array([ nan], dtype=float32),\n",
       " array([ nan], dtype=float32),\n",
       " array([ nan], dtype=float32),\n",
       " array([ nan], dtype=float32),\n",
       " array([ nan], dtype=float32),\n",
       " array([ nan], dtype=float32),\n",
       " array([ nan], dtype=float32),\n",
       " array([ nan], dtype=float32),\n",
       " array([ nan], dtype=float32),\n",
       " array([ nan], dtype=float32),\n",
       " array([ nan], dtype=float32),\n",
       " array([ nan], dtype=float32),\n",
       " array([ nan], dtype=float32),\n",
       " array([ nan], dtype=float32),\n",
       " array([ nan], dtype=float32),\n",
       " array([ nan], dtype=float32),\n",
       " array([ nan], dtype=float32),\n",
       " array([ nan], dtype=float32),\n",
       " array([ nan], dtype=float32),\n",
       " array([ nan], dtype=float32),\n",
       " array([ nan], dtype=float32),\n",
       " array([ nan], dtype=float32),\n",
       " array([ nan], dtype=float32),\n",
       " array([ nan], dtype=float32),\n",
       " array([ nan], dtype=float32),\n",
       " array([ nan], dtype=float32),\n",
       " array([ nan], dtype=float32),\n",
       " array([ nan], dtype=float32),\n",
       " array([ nan], dtype=float32),\n",
       " array([ nan], dtype=float32),\n",
       " array([ nan], dtype=float32),\n",
       " array([ nan], dtype=float32),\n",
       " array([ nan], dtype=float32),\n",
       " array([ nan], dtype=float32),\n",
       " array([ nan], dtype=float32),\n",
       " array([ nan], dtype=float32),\n",
       " array([ nan], dtype=float32),\n",
       " array([ nan], dtype=float32),\n",
       " array([ nan], dtype=float32),\n",
       " array([ nan], dtype=float32),\n",
       " array([ nan], dtype=float32),\n",
       " array([ nan], dtype=float32),\n",
       " array([ nan], dtype=float32),\n",
       " array([ nan], dtype=float32),\n",
       " array([ nan], dtype=float32),\n",
       " array([ nan], dtype=float32),\n",
       " array([ nan], dtype=float32),\n",
       " array([ nan], dtype=float32),\n",
       " array([ nan], dtype=float32),\n",
       " array([ nan], dtype=float32),\n",
       " array([ nan], dtype=float32),\n",
       " array([ nan], dtype=float32),\n",
       " array([ nan], dtype=float32),\n",
       " array([ nan], dtype=float32),\n",
       " array([ nan], dtype=float32),\n",
       " array([ nan], dtype=float32),\n",
       " array([ nan], dtype=float32),\n",
       " array([ nan], dtype=float32),\n",
       " array([ nan], dtype=float32),\n",
       " array([ nan], dtype=float32),\n",
       " array([ nan], dtype=float32),\n",
       " array([ nan], dtype=float32),\n",
       " array([ nan], dtype=float32),\n",
       " array([ nan], dtype=float32),\n",
       " array([ nan], dtype=float32),\n",
       " array([ nan], dtype=float32),\n",
       " array([ nan], dtype=float32),\n",
       " array([ nan], dtype=float32),\n",
       " array([ nan], dtype=float32),\n",
       " array([ nan], dtype=float32),\n",
       " array([ nan], dtype=float32),\n",
       " array([ nan], dtype=float32),\n",
       " array([ nan], dtype=float32),\n",
       " array([ nan], dtype=float32),\n",
       " array([ nan], dtype=float32),\n",
       " array([ nan], dtype=float32),\n",
       " array([ nan], dtype=float32),\n",
       " array([ nan], dtype=float32),\n",
       " array([ nan], dtype=float32),\n",
       " array([ nan], dtype=float32),\n",
       " array([ nan], dtype=float32),\n",
       " array([ nan], dtype=float32),\n",
       " array([ nan], dtype=float32),\n",
       " array([ nan], dtype=float32),\n",
       " array([ nan], dtype=float32),\n",
       " array([ nan], dtype=float32),\n",
       " array([ nan], dtype=float32),\n",
       " array([ nan], dtype=float32),\n",
       " array([ nan], dtype=float32),\n",
       " array([ nan], dtype=float32),\n",
       " array([ nan], dtype=float32),\n",
       " array([ nan], dtype=float32),\n",
       " array([ nan], dtype=float32),\n",
       " array([ nan], dtype=float32),\n",
       " array([ nan], dtype=float32),\n",
       " array([ nan], dtype=float32),\n",
       " array([ nan], dtype=float32),\n",
       " array([ nan], dtype=float32),\n",
       " array([ nan], dtype=float32),\n",
       " array([ nan], dtype=float32),\n",
       " array([ nan], dtype=float32),\n",
       " array([ nan], dtype=float32),\n",
       " array([ nan], dtype=float32),\n",
       " array([ nan], dtype=float32),\n",
       " array([ nan], dtype=float32),\n",
       " array([ nan], dtype=float32),\n",
       " array([ nan], dtype=float32),\n",
       " array([ nan], dtype=float32),\n",
       " array([ nan], dtype=float32),\n",
       " array([ nan], dtype=float32),\n",
       " array([ nan], dtype=float32),\n",
       " array([ nan], dtype=float32),\n",
       " array([ nan], dtype=float32),\n",
       " array([ nan], dtype=float32),\n",
       " array([ nan], dtype=float32),\n",
       " array([ nan], dtype=float32),\n",
       " array([ nan], dtype=float32),\n",
       " array([ nan], dtype=float32),\n",
       " array([ nan], dtype=float32),\n",
       " array([ nan], dtype=float32),\n",
       " array([ nan], dtype=float32),\n",
       " array([ nan], dtype=float32),\n",
       " array([ nan], dtype=float32),\n",
       " array([ nan], dtype=float32),\n",
       " array([ nan], dtype=float32),\n",
       " array([ nan], dtype=float32),\n",
       " array([ nan], dtype=float32),\n",
       " array([ nan], dtype=float32),\n",
       " array([ nan], dtype=float32),\n",
       " array([ nan], dtype=float32),\n",
       " array([ nan], dtype=float32),\n",
       " array([ nan], dtype=float32),\n",
       " array([ nan], dtype=float32),\n",
       " array([ nan], dtype=float32),\n",
       " array([ nan], dtype=float32),\n",
       " array([ nan], dtype=float32),\n",
       " array([ nan], dtype=float32),\n",
       " array([ nan], dtype=float32),\n",
       " array([ nan], dtype=float32),\n",
       " array([ nan], dtype=float32),\n",
       " array([ nan], dtype=float32),\n",
       " array([ nan], dtype=float32),\n",
       " array([ nan], dtype=float32),\n",
       " array([ nan], dtype=float32),\n",
       " array([ nan], dtype=float32),\n",
       " array([ nan], dtype=float32),\n",
       " array([ nan], dtype=float32),\n",
       " array([ nan], dtype=float32),\n",
       " array([ nan], dtype=float32),\n",
       " array([ nan], dtype=float32),\n",
       " array([ nan], dtype=float32),\n",
       " array([ nan], dtype=float32),\n",
       " array([ nan], dtype=float32),\n",
       " array([ nan], dtype=float32),\n",
       " array([ nan], dtype=float32),\n",
       " array([ nan], dtype=float32),\n",
       " array([ nan], dtype=float32),\n",
       " array([ nan], dtype=float32),\n",
       " array([ nan], dtype=float32),\n",
       " array([ nan], dtype=float32),\n",
       " array([ nan], dtype=float32),\n",
       " array([ nan], dtype=float32),\n",
       " array([ nan], dtype=float32),\n",
       " array([ nan], dtype=float32),\n",
       " array([ nan], dtype=float32),\n",
       " array([ nan], dtype=float32),\n",
       " array([ nan], dtype=float32),\n",
       " array([ nan], dtype=float32),\n",
       " array([ nan], dtype=float32),\n",
       " array([ nan], dtype=float32),\n",
       " array([ nan], dtype=float32),\n",
       " array([ nan], dtype=float32),\n",
       " array([ nan], dtype=float32),\n",
       " array([ nan], dtype=float32),\n",
       " array([ nan], dtype=float32),\n",
       " array([ nan], dtype=float32),\n",
       " array([ nan], dtype=float32),\n",
       " array([ nan], dtype=float32),\n",
       " array([ nan], dtype=float32),\n",
       " array([ nan], dtype=float32),\n",
       " array([ nan], dtype=float32),\n",
       " array([ nan], dtype=float32),\n",
       " array([ nan], dtype=float32),\n",
       " array([ nan], dtype=float32),\n",
       " array([ nan], dtype=float32),\n",
       " array([ nan], dtype=float32),\n",
       " array([ nan], dtype=float32),\n",
       " array([ nan], dtype=float32),\n",
       " array([ nan], dtype=float32),\n",
       " array([ nan], dtype=float32),\n",
       " array([ nan], dtype=float32),\n",
       " array([ nan], dtype=float32),\n",
       " array([ nan], dtype=float32),\n",
       " array([ nan], dtype=float32),\n",
       " array([ nan], dtype=float32),\n",
       " array([ nan], dtype=float32),\n",
       " array([ nan], dtype=float32),\n",
       " array([ nan], dtype=float32),\n",
       " array([ nan], dtype=float32),\n",
       " array([ nan], dtype=float32),\n",
       " array([ nan], dtype=float32),\n",
       " array([ nan], dtype=float32),\n",
       " array([ nan], dtype=float32),\n",
       " array([ nan], dtype=float32),\n",
       " array([ nan], dtype=float32),\n",
       " array([ nan], dtype=float32),\n",
       " array([ nan], dtype=float32),\n",
       " array([ nan], dtype=float32),\n",
       " array([ nan], dtype=float32),\n",
       " array([ nan], dtype=float32),\n",
       " array([ nan], dtype=float32),\n",
       " array([ nan], dtype=float32),\n",
       " array([ nan], dtype=float32),\n",
       " array([ nan], dtype=float32),\n",
       " array([ nan], dtype=float32),\n",
       " array([ nan], dtype=float32),\n",
       " array([ nan], dtype=float32),\n",
       " array([ nan], dtype=float32),\n",
       " array([ nan], dtype=float32),\n",
       " array([ nan], dtype=float32),\n",
       " array([ nan], dtype=float32),\n",
       " array([ nan], dtype=float32),\n",
       " array([ nan], dtype=float32),\n",
       " array([ nan], dtype=float32),\n",
       " array([ nan], dtype=float32),\n",
       " array([ nan], dtype=float32),\n",
       " array([ nan], dtype=float32),\n",
       " array([ nan], dtype=float32),\n",
       " array([ nan], dtype=float32),\n",
       " array([ nan], dtype=float32),\n",
       " array([ nan], dtype=float32),\n",
       " array([ nan], dtype=float32),\n",
       " array([ nan], dtype=float32),\n",
       " array([ nan], dtype=float32),\n",
       " array([ nan], dtype=float32),\n",
       " array([ nan], dtype=float32),\n",
       " array([ nan], dtype=float32),\n",
       " array([ nan], dtype=float32),\n",
       " array([ nan], dtype=float32),\n",
       " array([ nan], dtype=float32),\n",
       " array([ nan], dtype=float32),\n",
       " array([ nan], dtype=float32),\n",
       " array([ nan], dtype=float32),\n",
       " array([ nan], dtype=float32),\n",
       " array([ nan], dtype=float32),\n",
       " array([ nan], dtype=float32),\n",
       " array([ nan], dtype=float32),\n",
       " array([ nan], dtype=float32),\n",
       " array([ nan], dtype=float32),\n",
       " array([ nan], dtype=float32),\n",
       " array([ nan], dtype=float32),\n",
       " array([ nan], dtype=float32),\n",
       " array([ nan], dtype=float32),\n",
       " array([ nan], dtype=float32),\n",
       " array([ nan], dtype=float32),\n",
       " array([ nan], dtype=float32),\n",
       " array([ nan], dtype=float32),\n",
       " array([ nan], dtype=float32),\n",
       " array([ nan], dtype=float32),\n",
       " array([ nan], dtype=float32),\n",
       " array([ nan], dtype=float32),\n",
       " array([ nan], dtype=float32),\n",
       " array([ nan], dtype=float32),\n",
       " array([ nan], dtype=float32),\n",
       " array([ nan], dtype=float32),\n",
       " array([ nan], dtype=float32),\n",
       " array([ nan], dtype=float32),\n",
       " array([ nan], dtype=float32),\n",
       " array([ nan], dtype=float32),\n",
       " array([ nan], dtype=float32),\n",
       " array([ nan], dtype=float32),\n",
       " array([ nan], dtype=float32),\n",
       " array([ nan], dtype=float32),\n",
       " array([ nan], dtype=float32),\n",
       " array([ nan], dtype=float32),\n",
       " array([ nan], dtype=float32),\n",
       " array([ nan], dtype=float32),\n",
       " array([ nan], dtype=float32),\n",
       " array([ nan], dtype=float32),\n",
       " array([ nan], dtype=float32),\n",
       " array([ nan], dtype=float32),\n",
       " array([ nan], dtype=float32),\n",
       " array([ nan], dtype=float32),\n",
       " array([ nan], dtype=float32),\n",
       " array([ nan], dtype=float32),\n",
       " array([ nan], dtype=float32),\n",
       " array([ nan], dtype=float32),\n",
       " array([ nan], dtype=float32),\n",
       " array([ nan], dtype=float32),\n",
       " array([ nan], dtype=float32),\n",
       " array([ nan], dtype=float32),\n",
       " array([ nan], dtype=float32),\n",
       " array([ nan], dtype=float32),\n",
       " array([ nan], dtype=float32),\n",
       " array([ nan], dtype=float32),\n",
       " array([ nan], dtype=float32),\n",
       " array([ nan], dtype=float32),\n",
       " array([ nan], dtype=float32),\n",
       " array([ nan], dtype=float32),\n",
       " array([ nan], dtype=float32),\n",
       " array([ nan], dtype=float32),\n",
       " array([ nan], dtype=float32),\n",
       " array([ nan], dtype=float32),\n",
       " array([ nan], dtype=float32),\n",
       " array([ nan], dtype=float32),\n",
       " array([ nan], dtype=float32),\n",
       " array([ nan], dtype=float32),\n",
       " array([ nan], dtype=float32),\n",
       " array([ nan], dtype=float32),\n",
       " array([ nan], dtype=float32),\n",
       " array([ nan], dtype=float32),\n",
       " array([ nan], dtype=float32),\n",
       " array([ nan], dtype=float32),\n",
       " array([ nan], dtype=float32),\n",
       " array([ nan], dtype=float32),\n",
       " array([ nan], dtype=float32),\n",
       " array([ nan], dtype=float32),\n",
       " array([ nan], dtype=float32),\n",
       " array([ nan], dtype=float32),\n",
       " array([ nan], dtype=float32),\n",
       " array([ nan], dtype=float32),\n",
       " array([ nan], dtype=float32),\n",
       " array([ nan], dtype=float32),\n",
       " array([ nan], dtype=float32),\n",
       " array([ nan], dtype=float32),\n",
       " array([ nan], dtype=float32),\n",
       " array([ nan], dtype=float32),\n",
       " array([ nan], dtype=float32),\n",
       " array([ nan], dtype=float32),\n",
       " array([ nan], dtype=float32),\n",
       " array([ nan], dtype=float32),\n",
       " array([ nan], dtype=float32),\n",
       " array([ nan], dtype=float32),\n",
       " array([ nan], dtype=float32),\n",
       " array([ nan], dtype=float32),\n",
       " array([ nan], dtype=float32),\n",
       " array([ nan], dtype=float32),\n",
       " array([ nan], dtype=float32),\n",
       " array([ nan], dtype=float32),\n",
       " array([ nan], dtype=float32),\n",
       " array([ nan], dtype=float32),\n",
       " array([ nan], dtype=float32),\n",
       " array([ nan], dtype=float32),\n",
       " array([ nan], dtype=float32),\n",
       " array([ nan], dtype=float32),\n",
       " array([ nan], dtype=float32),\n",
       " array([ nan], dtype=float32),\n",
       " array([ nan], dtype=float32),\n",
       " array([ nan], dtype=float32),\n",
       " array([ nan], dtype=float32),\n",
       " array([ nan], dtype=float32),\n",
       " array([ nan], dtype=float32),\n",
       " array([ nan], dtype=float32),\n",
       " array([ nan], dtype=float32),\n",
       " array([ nan], dtype=float32),\n",
       " array([ nan], dtype=float32),\n",
       " array([ nan], dtype=float32),\n",
       " array([ nan], dtype=float32),\n",
       " array([ nan], dtype=float32),\n",
       " array([ nan], dtype=float32),\n",
       " array([ nan], dtype=float32),\n",
       " array([ nan], dtype=float32),\n",
       " array([ nan], dtype=float32),\n",
       " array([ nan], dtype=float32),\n",
       " array([ nan], dtype=float32),\n",
       " array([ nan], dtype=float32),\n",
       " array([ nan], dtype=float32),\n",
       " array([ nan], dtype=float32),\n",
       " array([ nan], dtype=float32),\n",
       " array([ nan], dtype=float32),\n",
       " array([ nan], dtype=float32),\n",
       " array([ nan], dtype=float32),\n",
       " array([ nan], dtype=float32),\n",
       " array([ nan], dtype=float32),\n",
       " array([ nan], dtype=float32),\n",
       " array([ nan], dtype=float32),\n",
       " array([ nan], dtype=float32),\n",
       " array([ nan], dtype=float32),\n",
       " array([ nan], dtype=float32),\n",
       " array([ nan], dtype=float32),\n",
       " array([ nan], dtype=float32),\n",
       " array([ nan], dtype=float32),\n",
       " array([ nan], dtype=float32),\n",
       " array([ nan], dtype=float32),\n",
       " array([ nan], dtype=float32),\n",
       " array([ nan], dtype=float32),\n",
       " array([ nan], dtype=float32),\n",
       " array([ nan], dtype=float32),\n",
       " array([ nan], dtype=float32),\n",
       " array([ nan], dtype=float32),\n",
       " array([ nan], dtype=float32),\n",
       " array([ nan], dtype=float32),\n",
       " array([ nan], dtype=float32),\n",
       " array([ nan], dtype=float32),\n",
       " array([ nan], dtype=float32),\n",
       " array([ nan], dtype=float32),\n",
       " array([ nan], dtype=float32),\n",
       " array([ nan], dtype=float32),\n",
       " array([ nan], dtype=float32),\n",
       " array([ nan], dtype=float32),\n",
       " array([ nan], dtype=float32),\n",
       " array([ nan], dtype=float32),\n",
       " array([ nan], dtype=float32),\n",
       " array([ nan], dtype=float32),\n",
       " array([ nan], dtype=float32),\n",
       " array([ nan], dtype=float32),\n",
       " array([ nan], dtype=float32),\n",
       " array([ nan], dtype=float32),\n",
       " array([ nan], dtype=float32),\n",
       " array([ nan], dtype=float32),\n",
       " array([ nan], dtype=float32),\n",
       " array([ nan], dtype=float32),\n",
       " array([ nan], dtype=float32),\n",
       " array([ nan], dtype=float32),\n",
       " array([ nan], dtype=float32),\n",
       " array([ nan], dtype=float32),\n",
       " array([ nan], dtype=float32),\n",
       " array([ nan], dtype=float32),\n",
       " array([ nan], dtype=float32),\n",
       " array([ nan], dtype=float32),\n",
       " array([ nan], dtype=float32),\n",
       " array([ nan], dtype=float32),\n",
       " array([ nan], dtype=float32),\n",
       " array([ nan], dtype=float32),\n",
       " array([ nan], dtype=float32),\n",
       " array([ nan], dtype=float32),\n",
       " array([ nan], dtype=float32),\n",
       " array([ nan], dtype=float32),\n",
       " array([ nan], dtype=float32),\n",
       " array([ nan], dtype=float32),\n",
       " array([ nan], dtype=float32),\n",
       " array([ nan], dtype=float32),\n",
       " array([ nan], dtype=float32),\n",
       " array([ nan], dtype=float32),\n",
       " array([ nan], dtype=float32),\n",
       " array([ nan], dtype=float32),\n",
       " array([ nan], dtype=float32),\n",
       " array([ nan], dtype=float32),\n",
       " array([ nan], dtype=float32),\n",
       " array([ nan], dtype=float32),\n",
       " array([ nan], dtype=float32),\n",
       " array([ nan], dtype=float32),\n",
       " array([ nan], dtype=float32),\n",
       " array([ nan], dtype=float32),\n",
       " array([ nan], dtype=float32),\n",
       " array([ nan], dtype=float32),\n",
       " array([ nan], dtype=float32),\n",
       " array([ nan], dtype=float32),\n",
       " array([ nan], dtype=float32),\n",
       " array([ nan], dtype=float32),\n",
       " array([ nan], dtype=float32),\n",
       " array([ nan], dtype=float32),\n",
       " array([ nan], dtype=float32),\n",
       " array([ nan], dtype=float32),\n",
       " array([ nan], dtype=float32),\n",
       " array([ nan], dtype=float32),\n",
       " array([ nan], dtype=float32),\n",
       " array([ nan], dtype=float32),\n",
       " array([ nan], dtype=float32),\n",
       " array([ nan], dtype=float32),\n",
       " array([ nan], dtype=float32),\n",
       " array([ nan], dtype=float32),\n",
       " array([ nan], dtype=float32),\n",
       " array([ nan], dtype=float32),\n",
       " array([ nan], dtype=float32),\n",
       " array([ nan], dtype=float32),\n",
       " array([ nan], dtype=float32),\n",
       " array([ nan], dtype=float32),\n",
       " array([ nan], dtype=float32),\n",
       " array([ nan], dtype=float32),\n",
       " array([ nan], dtype=float32),\n",
       " array([ nan], dtype=float32),\n",
       " array([ nan], dtype=float32),\n",
       " array([ nan], dtype=float32),\n",
       " array([ nan], dtype=float32),\n",
       " array([ nan], dtype=float32),\n",
       " array([ nan], dtype=float32),\n",
       " array([ nan], dtype=float32),\n",
       " array([ nan], dtype=float32),\n",
       " array([ nan], dtype=float32),\n",
       " array([ nan], dtype=float32),\n",
       " array([ nan], dtype=float32),\n",
       " array([ nan], dtype=float32),\n",
       " array([ nan], dtype=float32),\n",
       " array([ nan], dtype=float32),\n",
       " array([ nan], dtype=float32),\n",
       " array([ nan], dtype=float32),\n",
       " array([ nan], dtype=float32),\n",
       " array([ nan], dtype=float32),\n",
       " array([ nan], dtype=float32),\n",
       " array([ nan], dtype=float32),\n",
       " array([ nan], dtype=float32),\n",
       " array([ nan], dtype=float32),\n",
       " array([ nan], dtype=float32),\n",
       " array([ nan], dtype=float32),\n",
       " array([ nan], dtype=float32),\n",
       " array([ nan], dtype=float32),\n",
       " array([ nan], dtype=float32),\n",
       " array([ nan], dtype=float32),\n",
       " array([ nan], dtype=float32),\n",
       " array([ nan], dtype=float32),\n",
       " array([ nan], dtype=float32),\n",
       " array([ nan], dtype=float32),\n",
       " array([ nan], dtype=float32),\n",
       " array([ nan], dtype=float32),\n",
       " array([ nan], dtype=float32),\n",
       " array([ nan], dtype=float32),\n",
       " array([ nan], dtype=float32),\n",
       " array([ nan], dtype=float32),\n",
       " array([ nan], dtype=float32),\n",
       " array([ nan], dtype=float32),\n",
       " array([ nan], dtype=float32),\n",
       " array([ nan], dtype=float32),\n",
       " array([ nan], dtype=float32),\n",
       " array([ nan], dtype=float32),\n",
       " array([ nan], dtype=float32),\n",
       " array([ nan], dtype=float32),\n",
       " array([ nan], dtype=float32),\n",
       " array([ nan], dtype=float32),\n",
       " array([ nan], dtype=float32),\n",
       " array([ nan], dtype=float32),\n",
       " array([ nan], dtype=float32),\n",
       " array([ nan], dtype=float32),\n",
       " array([ nan], dtype=float32),\n",
       " array([ nan], dtype=float32),\n",
       " array([ nan], dtype=float32),\n",
       " array([ nan], dtype=float32),\n",
       " array([ nan], dtype=float32),\n",
       " array([ nan], dtype=float32),\n",
       " array([ nan], dtype=float32),\n",
       " array([ nan], dtype=float32),\n",
       " array([ nan], dtype=float32),\n",
       " array([ nan], dtype=float32),\n",
       " array([ nan], dtype=float32),\n",
       " array([ nan], dtype=float32),\n",
       " array([ nan], dtype=float32),\n",
       " array([ nan], dtype=float32),\n",
       " array([ nan], dtype=float32),\n",
       " array([ nan], dtype=float32),\n",
       " array([ nan], dtype=float32),\n",
       " array([ nan], dtype=float32),\n",
       " array([ nan], dtype=float32),\n",
       " array([ nan], dtype=float32),\n",
       " array([ nan], dtype=float32),\n",
       " array([ nan], dtype=float32),\n",
       " array([ nan], dtype=float32),\n",
       " array([ nan], dtype=float32),\n",
       " array([ nan], dtype=float32),\n",
       " array([ nan], dtype=float32),\n",
       " array([ nan], dtype=float32),\n",
       " array([ nan], dtype=float32),\n",
       " array([ nan], dtype=float32),\n",
       " array([ nan], dtype=float32),\n",
       " array([ nan], dtype=float32),\n",
       " array([ nan], dtype=float32),\n",
       " array([ nan], dtype=float32),\n",
       " array([ nan], dtype=float32),\n",
       " array([ nan], dtype=float32),\n",
       " array([ nan], dtype=float32),\n",
       " array([ nan], dtype=float32),\n",
       " array([ nan], dtype=float32),\n",
       " array([ nan], dtype=float32),\n",
       " array([ nan], dtype=float32),\n",
       " array([ nan], dtype=float32),\n",
       " array([ nan], dtype=float32),\n",
       " array([ nan], dtype=float32),\n",
       " array([ nan], dtype=float32),\n",
       " array([ nan], dtype=float32),\n",
       " array([ nan], dtype=float32),\n",
       " array([ nan], dtype=float32),\n",
       " array([ nan], dtype=float32),\n",
       " array([ nan], dtype=float32),\n",
       " array([ nan], dtype=float32),\n",
       " array([ nan], dtype=float32),\n",
       " array([ nan], dtype=float32),\n",
       " array([ nan], dtype=float32),\n",
       " array([ nan], dtype=float32),\n",
       " array([ nan], dtype=float32),\n",
       " array([ nan], dtype=float32),\n",
       " array([ nan], dtype=float32),\n",
       " array([ nan], dtype=float32),\n",
       " array([ nan], dtype=float32),\n",
       " array([ nan], dtype=float32),\n",
       " array([ nan], dtype=float32),\n",
       " array([ nan], dtype=float32),\n",
       " array([ nan], dtype=float32),\n",
       " array([ nan], dtype=float32),\n",
       " array([ nan], dtype=float32),\n",
       " array([ nan], dtype=float32),\n",
       " array([ nan], dtype=float32),\n",
       " array([ nan], dtype=float32),\n",
       " array([ nan], dtype=float32),\n",
       " array([ nan], dtype=float32),\n",
       " array([ nan], dtype=float32),\n",
       " array([ nan], dtype=float32),\n",
       " array([ nan], dtype=float32),\n",
       " array([ nan], dtype=float32),\n",
       " array([ nan], dtype=float32),\n",
       " array([ nan], dtype=float32),\n",
       " array([ nan], dtype=float32),\n",
       " array([ nan], dtype=float32),\n",
       " array([ nan], dtype=float32),\n",
       " array([ nan], dtype=float32),\n",
       " array([ nan], dtype=float32),\n",
       " array([ nan], dtype=float32),\n",
       " array([ nan], dtype=float32),\n",
       " array([ nan], dtype=float32),\n",
       " array([ nan], dtype=float32),\n",
       " array([ nan], dtype=float32),\n",
       " array([ nan], dtype=float32),\n",
       " array([ nan], dtype=float32),\n",
       " array([ nan], dtype=float32),\n",
       " array([ nan], dtype=float32),\n",
       " array([ nan], dtype=float32),\n",
       " array([ nan], dtype=float32),\n",
       " array([ nan], dtype=float32),\n",
       " array([ nan], dtype=float32),\n",
       " array([ nan], dtype=float32),\n",
       " array([ nan], dtype=float32),\n",
       " array([ nan], dtype=float32),\n",
       " array([ nan], dtype=float32),\n",
       " array([ nan], dtype=float32),\n",
       " array([ nan], dtype=float32),\n",
       " array([ nan], dtype=float32),\n",
       " array([ nan], dtype=float32),\n",
       " array([ nan], dtype=float32),\n",
       " array([ nan], dtype=float32),\n",
       " array([ nan], dtype=float32),\n",
       " array([ nan], dtype=float32),\n",
       " array([ nan], dtype=float32),\n",
       " array([ nan], dtype=float32),\n",
       " array([ nan], dtype=float32),\n",
       " array([ nan], dtype=float32),\n",
       " array([ nan], dtype=float32),\n",
       " array([ nan], dtype=float32),\n",
       " array([ nan], dtype=float32),\n",
       " array([ nan], dtype=float32),\n",
       " array([ nan], dtype=float32),\n",
       " array([ nan], dtype=float32),\n",
       " array([ nan], dtype=float32),\n",
       " array([ nan], dtype=float32),\n",
       " array([ nan], dtype=float32),\n",
       " array([ nan], dtype=float32),\n",
       " array([ nan], dtype=float32),\n",
       " array([ nan], dtype=float32),\n",
       " array([ nan], dtype=float32),\n",
       " array([ nan], dtype=float32),\n",
       " array([ nan], dtype=float32),\n",
       " array([ nan], dtype=float32),\n",
       " array([ nan], dtype=float32),\n",
       " array([ nan], dtype=float32),\n",
       " array([ nan], dtype=float32),\n",
       " array([ nan], dtype=float32),\n",
       " array([ nan], dtype=float32),\n",
       " array([ nan], dtype=float32),\n",
       " array([ nan], dtype=float32),\n",
       " array([ nan], dtype=float32),\n",
       " array([ nan], dtype=float32),\n",
       " array([ nan], dtype=float32),\n",
       " array([ nan], dtype=float32),\n",
       " array([ nan], dtype=float32),\n",
       " array([ nan], dtype=float32),\n",
       " array([ nan], dtype=float32),\n",
       " array([ nan], dtype=float32),\n",
       " array([ nan], dtype=float32),\n",
       " array([ nan], dtype=float32),\n",
       " array([ nan], dtype=float32),\n",
       " array([ nan], dtype=float32),\n",
       " array([ nan], dtype=float32),\n",
       " array([ nan], dtype=float32),\n",
       " array([ nan], dtype=float32),\n",
       " array([ nan], dtype=float32),\n",
       " array([ nan], dtype=float32),\n",
       " array([ nan], dtype=float32),\n",
       " array([ nan], dtype=float32),\n",
       " array([ nan], dtype=float32),\n",
       " array([ nan], dtype=float32),\n",
       " array([ nan], dtype=float32),\n",
       " array([ nan], dtype=float32),\n",
       " array([ nan], dtype=float32),\n",
       " array([ nan], dtype=float32),\n",
       " array([ nan], dtype=float32),\n",
       " array([ nan], dtype=float32),\n",
       " array([ nan], dtype=float32),\n",
       " array([ nan], dtype=float32),\n",
       " array([ nan], dtype=float32),\n",
       " array([ nan], dtype=float32),\n",
       " array([ nan], dtype=float32),\n",
       " array([ nan], dtype=float32),\n",
       " array([ nan], dtype=float32),\n",
       " array([ nan], dtype=float32),\n",
       " array([ nan], dtype=float32),\n",
       " array([ nan], dtype=float32),\n",
       " array([ nan], dtype=float32),\n",
       " array([ nan], dtype=float32),\n",
       " array([ nan], dtype=float32),\n",
       " array([ nan], dtype=float32),\n",
       " array([ nan], dtype=float32),\n",
       " array([ nan], dtype=float32),\n",
       " array([ nan], dtype=float32),\n",
       " array([ nan], dtype=float32),\n",
       " array([ nan], dtype=float32),\n",
       " array([ nan], dtype=float32),\n",
       " array([ nan], dtype=float32),\n",
       " array([ nan], dtype=float32),\n",
       " array([ nan], dtype=float32),\n",
       " array([ nan], dtype=float32),\n",
       " array([ nan], dtype=float32),\n",
       " array([ nan], dtype=float32),\n",
       " array([ nan], dtype=float32),\n",
       " array([ nan], dtype=float32),\n",
       " array([ nan], dtype=float32),\n",
       " array([ nan], dtype=float32),\n",
       " array([ nan], dtype=float32),\n",
       " array([ nan], dtype=float32),\n",
       " array([ nan], dtype=float32),\n",
       " array([ nan], dtype=float32),\n",
       " array([ nan], dtype=float32),\n",
       " array([ nan], dtype=float32),\n",
       " array([ nan], dtype=float32),\n",
       " array([ nan], dtype=float32),\n",
       " array([ nan], dtype=float32),\n",
       " array([ nan], dtype=float32),\n",
       " array([ nan], dtype=float32),\n",
       " array([ nan], dtype=float32),\n",
       " array([ nan], dtype=float32),\n",
       " array([ nan], dtype=float32),\n",
       " array([ nan], dtype=float32),\n",
       " array([ nan], dtype=float32),\n",
       " array([ nan], dtype=float32),\n",
       " array([ nan], dtype=float32),\n",
       " array([ nan], dtype=float32),\n",
       " array([ nan], dtype=float32),\n",
       " array([ nan], dtype=float32),\n",
       " array([ nan], dtype=float32),\n",
       " array([ nan], dtype=float32),\n",
       " array([ nan], dtype=float32),\n",
       " array([ nan], dtype=float32),\n",
       " array([ nan], dtype=float32),\n",
       " array([ nan], dtype=float32),\n",
       " array([ nan], dtype=float32),\n",
       " array([ nan], dtype=float32),\n",
       " array([ nan], dtype=float32),\n",
       " array([ nan], dtype=float32),\n",
       " array([ nan], dtype=float32),\n",
       " array([ nan], dtype=float32),\n",
       " array([ nan], dtype=float32),\n",
       " array([ nan], dtype=float32),\n",
       " array([ nan], dtype=float32),\n",
       " array([ nan], dtype=float32),\n",
       " array([ nan], dtype=float32),\n",
       " array([ nan], dtype=float32),\n",
       " array([ nan], dtype=float32),\n",
       " array([ nan], dtype=float32),\n",
       " array([ nan], dtype=float32),\n",
       " array([ nan], dtype=float32),\n",
       " array([ nan], dtype=float32),\n",
       " array([ nan], dtype=float32),\n",
       " array([ nan], dtype=float32),\n",
       " array([ nan], dtype=float32),\n",
       " array([ nan], dtype=float32),\n",
       " array([ nan], dtype=float32),\n",
       " array([ nan], dtype=float32),\n",
       " array([ nan], dtype=float32),\n",
       " array([ nan], dtype=float32),\n",
       " array([ nan], dtype=float32),\n",
       " array([ nan], dtype=float32),\n",
       " array([ nan], dtype=float32),\n",
       " array([ nan], dtype=float32),\n",
       " array([ nan], dtype=float32),\n",
       " array([ nan], dtype=float32),\n",
       " array([ nan], dtype=float32),\n",
       " array([ nan], dtype=float32),\n",
       " array([ nan], dtype=float32),\n",
       " array([ nan], dtype=float32),\n",
       " array([ nan], dtype=float32),\n",
       " array([ nan], dtype=float32),\n",
       " array([ nan], dtype=float32),\n",
       " array([ nan], dtype=float32),\n",
       " array([ nan], dtype=float32),\n",
       " array([ nan], dtype=float32),\n",
       " array([ nan], dtype=float32),\n",
       " array([ nan], dtype=float32),\n",
       " array([ nan], dtype=float32),\n",
       " array([ nan], dtype=float32),\n",
       " array([ nan], dtype=float32),\n",
       " array([ nan], dtype=float32),\n",
       " array([ nan], dtype=float32),\n",
       " array([ nan], dtype=float32),\n",
       " array([ nan], dtype=float32),\n",
       " array([ nan], dtype=float32),\n",
       " array([ nan], dtype=float32),\n",
       " array([ nan], dtype=float32),\n",
       " array([ nan], dtype=float32),\n",
       " array([ nan], dtype=float32),\n",
       " array([ nan], dtype=float32),\n",
       " array([ nan], dtype=float32),\n",
       " array([ nan], dtype=float32),\n",
       " array([ nan], dtype=float32),\n",
       " array([ nan], dtype=float32),\n",
       " array([ nan], dtype=float32),\n",
       " array([ nan], dtype=float32),\n",
       " array([ nan], dtype=float32),\n",
       " array([ nan], dtype=float32),\n",
       " array([ nan], dtype=float32),\n",
       " array([ nan], dtype=float32),\n",
       " array([ nan], dtype=float32),\n",
       " array([ nan], dtype=float32),\n",
       " array([ nan], dtype=float32),\n",
       " array([ nan], dtype=float32),\n",
       " array([ nan], dtype=float32),\n",
       " array([ nan], dtype=float32),\n",
       " array([ nan], dtype=float32),\n",
       " array([ nan], dtype=float32),\n",
       " array([ nan], dtype=float32),\n",
       " array([ nan], dtype=float32),\n",
       " array([ nan], dtype=float32),\n",
       " array([ nan], dtype=float32),\n",
       " array([ nan], dtype=float32),\n",
       " array([ nan], dtype=float32),\n",
       " array([ nan], dtype=float32),\n",
       " array([ nan], dtype=float32),\n",
       " array([ nan], dtype=float32),\n",
       " array([ nan], dtype=float32),\n",
       " array([ nan], dtype=float32),\n",
       " array([ nan], dtype=float32),\n",
       " array([ nan], dtype=float32),\n",
       " array([ nan], dtype=float32),\n",
       " array([ nan], dtype=float32),\n",
       " array([ nan], dtype=float32),\n",
       " array([ nan], dtype=float32),\n",
       " array([ nan], dtype=float32),\n",
       " array([ nan], dtype=float32),\n",
       " array([ nan], dtype=float32),\n",
       " array([ nan], dtype=float32),\n",
       " array([ nan], dtype=float32),\n",
       " array([ nan], dtype=float32),\n",
       " array([ nan], dtype=float32),\n",
       " array([ nan], dtype=float32),\n",
       " array([ nan], dtype=float32),\n",
       " array([ nan], dtype=float32),\n",
       " array([ nan], dtype=float32),\n",
       " array([ nan], dtype=float32),\n",
       " array([ nan], dtype=float32),\n",
       " array([ nan], dtype=float32),\n",
       " array([ nan], dtype=float32),\n",
       " array([ nan], dtype=float32),\n",
       " array([ nan], dtype=float32),\n",
       " array([ nan], dtype=float32),\n",
       " array([ nan], dtype=float32),\n",
       " array([ nan], dtype=float32),\n",
       " array([ nan], dtype=float32),\n",
       " array([ nan], dtype=float32),\n",
       " array([ nan], dtype=float32),\n",
       " array([ nan], dtype=float32),\n",
       " array([ nan], dtype=float32),\n",
       " array([ nan], dtype=float32),\n",
       " array([ nan], dtype=float32),\n",
       " array([ nan], dtype=float32),\n",
       " array([ nan], dtype=float32),\n",
       " array([ nan], dtype=float32),\n",
       " array([ nan], dtype=float32),\n",
       " array([ nan], dtype=float32),\n",
       " array([ nan], dtype=float32),\n",
       " array([ nan], dtype=float32),\n",
       " array([ nan], dtype=float32),\n",
       " array([ nan], dtype=float32),\n",
       " array([ nan], dtype=float32),\n",
       " array([ nan], dtype=float32),\n",
       " array([ nan], dtype=float32),\n",
       " array([ nan], dtype=float32),\n",
       " array([ nan], dtype=float32),\n",
       " array([ nan], dtype=float32),\n",
       " array([ nan], dtype=float32),\n",
       " array([ nan], dtype=float32),\n",
       " array([ nan], dtype=float32),\n",
       " array([ nan], dtype=float32),\n",
       " array([ nan], dtype=float32),\n",
       " array([ nan], dtype=float32),\n",
       " array([ nan], dtype=float32),\n",
       " array([ nan], dtype=float32),\n",
       " array([ nan], dtype=float32),\n",
       " array([ nan], dtype=float32),\n",
       " array([ nan], dtype=float32),\n",
       " array([ nan], dtype=float32),\n",
       " array([ nan], dtype=float32),\n",
       " array([ nan], dtype=float32),\n",
       " array([ nan], dtype=float32),\n",
       " array([ nan], dtype=float32),\n",
       " array([ nan], dtype=float32),\n",
       " array([ nan], dtype=float32),\n",
       " array([ nan], dtype=float32),\n",
       " array([ nan], dtype=float32),\n",
       " array([ nan], dtype=float32),\n",
       " array([ nan], dtype=float32),\n",
       " array([ nan], dtype=float32),\n",
       " array([ nan], dtype=float32),\n",
       " array([ nan], dtype=float32),\n",
       " array([ nan], dtype=float32),\n",
       " array([ nan], dtype=float32),\n",
       " array([ nan], dtype=float32),\n",
       " array([ nan], dtype=float32),\n",
       " array([ nan], dtype=float32),\n",
       " array([ nan], dtype=float32),\n",
       " array([ nan], dtype=float32),\n",
       " array([ nan], dtype=float32),\n",
       " array([ nan], dtype=float32),\n",
       " array([ nan], dtype=float32),\n",
       " array([ nan], dtype=float32),\n",
       " array([ nan], dtype=float32),\n",
       " array([ nan], dtype=float32),\n",
       " array([ nan], dtype=float32),\n",
       " array([ nan], dtype=float32),\n",
       " array([ nan], dtype=float32),\n",
       " array([ nan], dtype=float32),\n",
       " array([ nan], dtype=float32),\n",
       " array([ nan], dtype=float32),\n",
       " array([ nan], dtype=float32),\n",
       " array([ nan], dtype=float32),\n",
       " array([ nan], dtype=float32),\n",
       " array([ nan], dtype=float32),\n",
       " array([ nan], dtype=float32),\n",
       " array([ nan], dtype=float32),\n",
       " array([ nan], dtype=float32),\n",
       " array([ nan], dtype=float32),\n",
       " array([ nan], dtype=float32),\n",
       " array([ nan], dtype=float32),\n",
       " array([ nan], dtype=float32),\n",
       " array([ nan], dtype=float32),\n",
       " array([ nan], dtype=float32),\n",
       " array([ nan], dtype=float32),\n",
       " array([ nan], dtype=float32),\n",
       " array([ nan], dtype=float32),\n",
       " array([ nan], dtype=float32),\n",
       " array([ nan], dtype=float32),\n",
       " array([ nan], dtype=float32),\n",
       " array([ nan], dtype=float32),\n",
       " array([ nan], dtype=float32),\n",
       " array([ nan], dtype=float32),\n",
       " array([ nan], dtype=float32),\n",
       " array([ nan], dtype=float32),\n",
       " array([ nan], dtype=float32),\n",
       " array([ nan], dtype=float32),\n",
       " array([ nan], dtype=float32),\n",
       " array([ nan], dtype=float32),\n",
       " array([ nan], dtype=float32),\n",
       " array([ nan], dtype=float32),\n",
       " array([ nan], dtype=float32),\n",
       " array([ nan], dtype=float32),\n",
       " array([ nan], dtype=float32),\n",
       " array([ nan], dtype=float32),\n",
       " array([ nan], dtype=float32),\n",
       " array([ nan], dtype=float32),\n",
       " array([ nan], dtype=float32),\n",
       " array([ nan], dtype=float32),\n",
       " array([ nan], dtype=float32),\n",
       " array([ nan], dtype=float32),\n",
       " array([ nan], dtype=float32),\n",
       " array([ nan], dtype=float32),\n",
       " array([ nan], dtype=float32),\n",
       " array([ nan], dtype=float32),\n",
       " array([ nan], dtype=float32),\n",
       " array([ nan], dtype=float32),\n",
       " array([ nan], dtype=float32),\n",
       " array([ nan], dtype=float32),\n",
       " array([ nan], dtype=float32),\n",
       " array([ nan], dtype=float32),\n",
       " array([ nan], dtype=float32),\n",
       " array([ nan], dtype=float32),\n",
       " array([ nan], dtype=float32),\n",
       " array([ nan], dtype=float32),\n",
       " array([ nan], dtype=float32),\n",
       " array([ nan], dtype=float32),\n",
       " array([ nan], dtype=float32),\n",
       " array([ nan], dtype=float32),\n",
       " array([ nan], dtype=float32),\n",
       " array([ nan], dtype=float32),\n",
       " array([ nan], dtype=float32),\n",
       " array([ nan], dtype=float32),\n",
       " array([ nan], dtype=float32),\n",
       " array([ nan], dtype=float32),\n",
       " array([ nan], dtype=float32),\n",
       " array([ nan], dtype=float32),\n",
       " array([ nan], dtype=float32),\n",
       " array([ nan], dtype=float32),\n",
       " array([ nan], dtype=float32),\n",
       " array([ nan], dtype=float32),\n",
       " array([ nan], dtype=float32)]"
      ]
     },
     "execution_count": 430,
     "metadata": {},
     "output_type": "execute_result"
    }
   ],
   "source": [
    "m['history']"
   ]
  },
  {
   "cell_type": "code",
   "execution_count": 420,
   "metadata": {},
   "outputs": [
    {
     "name": "stdout",
     "output_type": "stream",
     "text": [
      "step #0 | mean loss = 44.503\n",
      "step #200 | mean loss = nan\n",
      "step #400 | mean loss = nan\n",
      "step #600 | mean loss = nan\n",
      "step #800 | mean loss = nan\n"
     ]
    },
    {
     "data": {
      "image/png": "[encoded data removed]",
      "text/plain": [
       "<Figure size 576x360 with 1 Axes>"
      ]
     },
     "metadata": {
      "needs_background": "light"
     },
     "output_type": "display_data"
    },
    {
     "name": "stdout",
     "output_type": "stream",
     "text": [
      "0.356382978723\n",
      "              precision    recall  f1-score   support\n",
      "\n",
      "         0.0       0.36      1.00      0.53        67\n",
      "         1.0       0.00      0.00      0.00       121\n",
      "\n",
      "    accuracy                           0.36       188\n",
      "   macro avg       0.18      0.50      0.26       188\n",
      "weighted avg       0.13      0.36      0.19       188\n",
      "\n"
     ]
    }
   ],
   "source": [
    "model = nn.Sequential()\n",
    "model.add_module('l1', nn.Linear(30, 1000))\n",
    "model.add_module('l2', nn.ReLU())\n",
    "model.add_module('l3', nn.Linear(1000, 1000))\n",
    "model.add_module('l4', nn.ReLU())\n",
    "model.add_module('l5', nn.Linear(1000, 1))\n",
    "model.add_module('l6', nn.Sigmoid())\n",
    "test(model , train_feature_matrix , train_labels , test_feature_matrix , test_labels)"
   ]
  },
  {
   "cell_type": "code",
   "execution_count": null,
   "metadata": {},
   "outputs": [],
   "source": []
  },
  {
   "cell_type": "code",
   "execution_count": null,
   "metadata": {},
   "outputs": [],
   "source": []
  },
  {
   "cell_type": "code",
   "execution_count": null,
   "metadata": {},
   "outputs": [],
   "source": []
  },
  {
   "cell_type": "code",
   "execution_count": null,
   "metadata": {},
   "outputs": [],
   "source": []
  },
  {
   "cell_type": "code",
   "execution_count": null,
   "metadata": {},
   "outputs": [],
   "source": []
  },
  {
   "cell_type": "code",
   "execution_count": null,
   "metadata": {},
   "outputs": [],
   "source": []
  },
  {
   "cell_type": "code",
   "execution_count": 224,
   "metadata": {},
   "outputs": [],
   "source": [
    "b = list(model.parameters())"
   ]
  },
  {
   "cell_type": "code",
   "execution_count": 225,
   "metadata": {},
   "outputs": [],
   "source": [
    "m = torch.distributions.multivariate_normal.MultivariateNormal(torch.zeros(30), torch.eye(30))"
   ]
  },
  {
   "cell_type": "code",
   "execution_count": 226,
   "metadata": {},
   "outputs": [
    {
     "data": {
      "text/plain": [
       "tensor([31.0884], grad_fn=<NegBackward>)"
      ]
     },
     "execution_count": 226,
     "metadata": {},
     "output_type": "execute_result"
    }
   ],
   "source": [
    "-m.log_prob(b[0])"
   ]
  },
  {
   "cell_type": "markdown",
   "metadata": {},
   "source": [
    "## with gausian prior "
   ]
  },
  {
   "cell_type": "code",
   "execution_count": 171,
   "metadata": {},
   "outputs": [],
   "source": [
    "m = torch.distributions.multivariate_normal.MultivariateNormal(torch.zeros(30), torch.eye(30))"
   ]
  },
  {
   "cell_type": "code",
   "execution_count": 175,
   "metadata": {},
   "outputs": [],
   "source": [
    "b = list(model.parameters())\n"
   ]
  },
  {
   "cell_type": "code",
   "execution_count": 173,
   "metadata": {},
   "outputs": [],
   "source": [
    "loss = -m.log_prob(b[0])"
   ]
  },
  {
   "cell_type": "code",
   "execution_count": 174,
   "metadata": {},
   "outputs": [
    {
     "data": {
      "text/plain": [
       "tensor([27.7581], grad_fn=<NegBackward>)"
      ]
     },
     "execution_count": 174,
     "metadata": {},
     "output_type": "execute_result"
    }
   ],
   "source": [
    "loss"
   ]
  },
  {
   "cell_type": "code",
   "execution_count": 176,
   "metadata": {},
   "outputs": [
    {
     "data": {
      "text/plain": [
       "Parameter containing:\n",
       "tensor([[-0.0690,  0.1117, -0.0162, -0.1667, -0.1223, -0.1299,  0.0983,  0.1711,\n",
       "         -0.1453,  0.0642, -0.0090,  0.0148,  0.1152, -0.0996, -0.1726,  0.0297,\n",
       "         -0.1012, -0.0896, -0.0711,  0.1550,  0.1186, -0.1743,  0.1515,  0.0511,\n",
       "          0.0184,  0.1742, -0.0956,  0.0354,  0.0424,  0.1557]],\n",
       "       requires_grad=True)"
      ]
     },
     "execution_count": 176,
     "metadata": {},
     "output_type": "execute_result"
    }
   ],
   "source": [
    "b[0]"
   ]
  },
  {
   "cell_type": "code",
   "execution_count": 324,
   "metadata": {},
   "outputs": [],
   "source": [
    "model_gauss = nn.Sequential()\n",
    "model_gauss.add_module('l1', nn.Linear(30, 1))\n",
    "model_gauss.add_module('l2', nn.Sigmoid())"
   ]
  },
  {
   "cell_type": "code",
   "execution_count": 325,
   "metadata": {},
   "outputs": [],
   "source": [
    "opt = torch.optim.Adam(model_gauss.parameters(), lr=3e-4)"
   ]
  },
  {
   "cell_type": "code",
   "execution_count": 326,
   "metadata": {},
   "outputs": [
    {
     "name": "stdout",
     "output_type": "stream",
     "text": [
      "step #0 | mean loss = 75.245\n",
      "step #200 | mean loss = 57.214\n",
      "step #400 | mean loss = 49.015\n",
      "step #600 | mean loss = 45.815\n",
      "step #800 | mean loss = 41.999\n",
      "step #1000 | mean loss = 40.475\n",
      "step #1200 | mean loss = 38.329\n",
      "step #1400 | mean loss = 39.691\n",
      "step #1600 | mean loss = 37.596\n",
      "step #1800 | mean loss = 37.101\n",
      "step #2000 | mean loss = 36.868\n",
      "step #2200 | mean loss = 37.679\n",
      "step #2400 | mean loss = 37.167\n",
      "step #2600 | mean loss = 36.062\n",
      "step #2800 | mean loss = 36.463\n",
      "step #3000 | mean loss = 36.508\n",
      "step #3200 | mean loss = 35.581\n",
      "step #3400 | mean loss = 38.001\n",
      "step #3600 | mean loss = 36.225\n",
      "step #3800 | mean loss = 35.227\n",
      "step #4000 | mean loss = 35.249\n",
      "step #4200 | mean loss = 35.337\n",
      "step #4400 | mean loss = 34.999\n",
      "step #4600 | mean loss = 35.523\n",
      "step #4800 | mean loss = 34.676\n",
      "step #5000 | mean loss = 36.040\n",
      "step #5200 | mean loss = 34.562\n",
      "step #5400 | mean loss = 35.167\n",
      "step #5600 | mean loss = 35.222\n",
      "step #5800 | mean loss = 35.967\n",
      "step #6000 | mean loss = 35.862\n",
      "step #6200 | mean loss = 36.398\n",
      "step #6400 | mean loss = 35.108\n",
      "step #6600 | mean loss = 34.746\n",
      "step #6800 | mean loss = 35.501\n",
      "step #7000 | mean loss = 35.464\n",
      "step #7200 | mean loss = 35.069\n",
      "step #7400 | mean loss = 34.501\n",
      "step #7600 | mean loss = 34.385\n",
      "step #7800 | mean loss = 35.369\n",
      "step #8000 | mean loss = 34.308\n",
      "step #8200 | mean loss = 35.685\n",
      "step #8400 | mean loss = 35.188\n",
      "step #8600 | mean loss = 34.837\n",
      "step #8800 | mean loss = 35.564\n",
      "step #9000 | mean loss = 35.796\n",
      "step #9200 | mean loss = 35.587\n",
      "step #9400 | mean loss = 34.524\n",
      "step #9600 | mean loss = 33.607\n",
      "step #9800 | mean loss = 34.708\n"
     ]
    }
   ],
   "source": [
    "history_gauss = []\n",
    "test_loss_gauss = []\n",
    "for i in range(10000):\n",
    "    \n",
    "    # sample 256 random images\n",
    "    ix = np.random.randint(0, len(train_feature_matrix), 64)\n",
    "    x_batch = torch.tensor(train_feature_matrix[ix], dtype=torch.float32)\n",
    "    y_batch = torch.tensor(train_labels[ix], dtype=torch.float32)\n",
    "    \n",
    "    # predict probabilities\n",
    "    y_predicted = model_gauss(x_batch)[:,0]\n",
    "    \n",
    "   \n",
    "    \n",
    "    # compute loss on train\n",
    "    crossentropy = -(y_batch*y_predicted.log() + (1-y_batch)*torch.log(1-y_predicted))\n",
    "    loss_data = crossentropy.sum().unsqueeze(0)\n",
    "    \n",
    "    b = list(model_gauss.parameters())\n",
    "    loss_prior = -m.log_prob(b[0])\n",
    "    \n",
    "    \n",
    "    loss = loss_data + loss_prior\n",
    "    \n",
    "    loss.backward()\n",
    "    opt.step()\n",
    "    opt.zero_grad() \n",
    "    \n",
    "    history_gauss.append(loss.data.numpy())\n",
    "    \n",
    "    #loss on test\n",
    "    y_pre = model_gauss(X_test)[:,0]\n",
    "    cros = -(y_test*y_pre.log() + (1-y_test)*torch.log(1-y_pre)).sum().unsqueeze(0).data.numpy()\n",
    "    cros += loss_prior.data.numpy()\n",
    "    test_loss_gauss.append(cros)\n",
    "    if i % 200 == 0:\n",
    "        print(\"step #%i | mean loss = %.3f\" % (i, np.mean(history_gauss[-10:])))"
   ]
  },
  {
   "cell_type": "code",
   "execution_count": 327,
   "metadata": {},
   "outputs": [
    {
     "data": {
      "image/png": "[encoded data removed]",
      "text/plain": [
       "<Figure size 576x360 with 1 Axes>"
      ]
     },
     "metadata": {
      "needs_background": "light"
     },
     "output_type": "display_data"
    }
   ],
   "source": [
    "\n",
    "plt.figure(figsize=(8,5))\n",
    "plt.plot(history_gauss)\n",
    "plt.plot(test_loss_gauss)\n",
    "plt.grid()\n",
    "plt.xlabel('Number of iteration')\n",
    "plt.ylabel('LOSS')\n",
    "plt.show()"
   ]
  },
  {
   "cell_type": "code",
   "execution_count": 328,
   "metadata": {},
   "outputs": [],
   "source": [
    "predicted_y_test_gauss = model_gauss(torch.tensor(test_feature_matrix, dtype=torch.float32))\n",
    "predicted_y_test_gauss = np.array(predicted_y_test_gauss > 0.5).astype('int').reshape(-1)"
   ]
  },
  {
   "cell_type": "code",
   "execution_count": 329,
   "metadata": {},
   "outputs": [
    {
     "name": "stdout",
     "output_type": "stream",
     "text": [
      "0.989361702128\n"
     ]
    }
   ],
   "source": [
    "accuracy = np.mean(predicted_y_test_gauss == test_labels)\n",
    "print(accuracy)"
   ]
  },
  {
   "cell_type": "code",
   "execution_count": 330,
   "metadata": {},
   "outputs": [
    {
     "name": "stdout",
     "output_type": "stream",
     "text": [
      "              precision    recall  f1-score   support\n",
      "\n",
      "         0.0       0.99      0.99      0.99        67\n",
      "         1.0       0.99      0.99      0.99       121\n",
      "\n",
      "    accuracy                           0.99       188\n",
      "   macro avg       0.99      0.99      0.99       188\n",
      "weighted avg       0.99      0.99      0.99       188\n",
      "\n"
     ]
    }
   ],
   "source": [
    "print(classification_report(test_labels , predicted_y_test_gauss))"
   ]
  },
  {
   "cell_type": "markdown",
   "metadata": {},
   "source": [
    "# with exponentional prior"
   ]
  },
  {
   "cell_type": "code",
   "execution_count": 257,
   "metadata": {},
   "outputs": [],
   "source": [
    "E = torch.distributions.exponential.Exponential(1.0)\n",
    "b = list(model.parameters())\n",
    "loss = -E.log_prob(b[0])\n"
   ]
  },
  {
   "cell_type": "code",
   "execution_count": 258,
   "metadata": {},
   "outputs": [
    {
     "data": {
      "text/plain": [
       "tensor([[ 7.9413e-41,  1.0240e-40,  7.7373e-41,  9.0366e-41, -6.0187e-41,\n",
       "         -1.9652e-40,  9.6153e-41,  8.8848e-41, -7.9042e-41, -1.0060e-40,\n",
       "          1.0279e-40,  2.2439e-40,  8.7067e-41,  9.8064e-41,  1.9624e-40,\n",
       "         -5.0754e-41, -1.9324e-41,  1.8031e-41, -2.3200e-41, -8.0823e-41,\n",
       "          8.8514e-41,  1.2141e-40,  9.2008e-41,  8.5636e-41,  8.5950e-41,\n",
       "         -8.6431e-41,  1.0172e-40,  8.8087e-41,  1.0358e-40, -1.4921e-41]],\n",
       "       grad_fn=<NegBackward>)"
      ]
     },
     "execution_count": 258,
     "metadata": {},
     "output_type": "execute_result"
    }
   ],
   "source": [
    "loss"
   ]
  },
  {
   "cell_type": "code",
   "execution_count": 259,
   "metadata": {},
   "outputs": [],
   "source": [
    "G = torch.distributions.gamma.Gamma(30,1)"
   ]
  },
  {
   "cell_type": "code",
   "execution_count": 260,
   "metadata": {},
   "outputs": [],
   "source": [
    "b = list(model.parameters())\n",
    "loss = -G.log_prob(b[0])\n"
   ]
  },
  {
   "cell_type": "code",
   "execution_count": 261,
   "metadata": {},
   "outputs": [
    {
     "data": {
      "text/plain": [
       "tensor([[2748.9407, 2741.5686, 2749.6953, 2745.1936,       nan,       nan,\n",
       "         2743.3933, 2745.6848,       nan,       nan, 2741.4568, 2718.8181,\n",
       "         2746.2722, 2742.8225, 2722.7056,       nan,       nan, 2791.9358,\n",
       "               nan,       nan, 2745.7939, 2736.6294, 2744.6714, 2746.7527,\n",
       "         2746.6465,       nan, 2741.7607, 2745.9343, 2741.2361,       nan]],\n",
       "       grad_fn=<NegBackward>)"
      ]
     },
     "execution_count": 261,
     "metadata": {},
     "output_type": "execute_result"
    }
   ],
   "source": [
    "loss"
   ]
  },
  {
   "cell_type": "markdown",
   "metadata": {},
   "source": [
    "# MNIST"
   ]
  },
  {
   "cell_type": "code",
   "execution_count": 378,
   "metadata": {},
   "outputs": [],
   "source": [
    "data = MNIST('mnist', download=True, train=True)\n",
    "train_data = TensorDataset(data.train_data.view(-1, 28 * 28).float() / 255 )\n",
    "data = MNIST('mnist', download=True, train=False)\n",
    "test_data_raw = TensorDataset(data.test_data.view(-1, 28 * 28).float() / 255)"
   ]
  },
  {
   "cell_type": "code",
   "execution_count": 363,
   "metadata": {},
   "outputs": [],
   "source": [
    "transform = transforms.Compose([\n",
    "transforms.ToTensor(), transforms.Normalize([0.5], [0.5])])"
   ]
  },
  {
   "cell_type": "code",
   "execution_count": 379,
   "metadata": {},
   "outputs": [],
   "source": [
    "trainset = datasets.MNIST('MNIST_data/', download=True, train=True, transform=transform)\n",
    "trainloader = torch.utils.data.DataLoader(train_data, batch_size=4, shuffle=True)"
   ]
  },
  {
   "cell_type": "code",
   "execution_count": 381,
   "metadata": {},
   "outputs": [
    {
     "data": {
      "text/plain": [
       "torch.Size([784])"
      ]
     },
     "execution_count": 381,
     "metadata": {},
     "output_type": "execute_result"
    }
   ],
   "source": [
    "train_data[0][0].size()"
   ]
  },
  {
   "cell_type": "code",
   "execution_count": 380,
   "metadata": {
    "scrolled": true
   },
   "outputs": [
    {
     "ename": "AttributeError",
     "evalue": "'list' object has no attribute 'size'",
     "output_type": "error",
     "traceback": [
      "\u001b[1;31m---------------------------------------------------------------------------\u001b[0m",
      "\u001b[1;31mAttributeError\u001b[0m                            Traceback (most recent call last)",
      "\u001b[1;32m<ipython-input-380-64859ed162bb>\u001b[0m in \u001b[0;36m<module>\u001b[1;34m\u001b[0m\n\u001b[1;32m----> 1\u001b[1;33m \u001b[0mnext\u001b[0m\u001b[1;33m(\u001b[0m\u001b[0miter\u001b[0m\u001b[1;33m(\u001b[0m\u001b[0mtrainloader\u001b[0m\u001b[1;33m)\u001b[0m\u001b[1;33m)\u001b[0m\u001b[1;33m.\u001b[0m\u001b[0msize\u001b[0m\u001b[1;33m(\u001b[0m\u001b[1;33m)\u001b[0m\u001b[1;33m\u001b[0m\u001b[1;33m\u001b[0m\u001b[0m\n\u001b[0m",
      "\u001b[1;31mAttributeError\u001b[0m: 'list' object has no attribute 'size'"
     ]
    }
   ],
   "source": [
    "next(iter(trainloader)).size()"
   ]
  },
  {
   "cell_type": "code",
   "execution_count": 337,
   "metadata": {},
   "outputs": [],
   "source": [
    "digit_size = 14\n",
    "train_data.tensors = (nn.AvgPool2d(2, 2)(train_data.tensors[0].view(-1, 28, 28)).data.view(-1, 196), )\n",
    "test_data_raw.tensors = (nn.AvgPool2d(2, 2)(test_data_raw.tensors[0].view(-1, 28, 28)).data.view(-1, 196), )"
   ]
  },
  {
   "cell_type": "code",
   "execution_count": 348,
   "metadata": {},
   "outputs": [
    {
     "data": {
      "image/png": "[encoded data removed]",
      "text/plain": [
       "<Figure size 864x172.8 with 10 Axes>"
      ]
     },
     "metadata": {
      "needs_background": "light"
     },
     "output_type": "display_data"
    }
   ],
   "source": [
    "from matplotlib import pyplot as plt\n",
    "%matplotlib inline\n",
    "def show_images(x):\n",
    "    plt.figure(figsize=(12, 12 / 10 * (x.shape[0] // 10 + 1)))\n",
    "    x = x.view(-1, digit_size, digit_size)\n",
    "    for i in range(x.shape[0]):\n",
    "        plt.subplot(x.shape[0] // 10 + 1, 10, i + 1)\n",
    "        plt.imshow(x.data[i].numpy(), cmap='Greys_r', vmin=0, vmax=1, interpolation='lanczos')\n",
    "        plt.axis('off')\n",
    "\n",
    "show_images(train_data[:10][0])"
   ]
  },
  {
   "cell_type": "code",
   "execution_count": 353,
   "metadata": {},
   "outputs": [
    {
     "name": "stdout",
     "output_type": "stream",
     "text": [
      "cuda\n"
     ]
    }
   ],
   "source": [
    "\n",
    "device = torch.device('cuda' if torch.cuda.is_available() else 'cpu')\n",
    "print(device)"
   ]
  },
  {
   "cell_type": "code",
   "execution_count": 354,
   "metadata": {},
   "outputs": [
    {
     "data": {
      "text/plain": [
       "Sequential(\n",
       "  (l1): Linear(in_features=196, out_features=200, bias=True)\n",
       "  (l2): Linear(in_features=200, out_features=200, bias=True)\n",
       "  (l3): Linear(in_features=200, out_features=10, bias=True)\n",
       "  (l4): Sigmoid()\n",
       ")"
      ]
     },
     "execution_count": 354,
     "metadata": {},
     "output_type": "execute_result"
    }
   ],
   "source": [
    "model = nn.Sequential()\n",
    "model.add_module('l1', nn.Linear(196, 200))\n",
    "model.add_module('l2', nn.Linear(200, 200))\n",
    "model.add_module('l3', nn.Linear(200, 10))\n",
    "model.add_module('l4', nn.Sigmoid())\n",
    "model.to(device)"
   ]
  },
  {
   "cell_type": "code",
   "execution_count": 355,
   "metadata": {},
   "outputs": [],
   "source": [
    "criterion = nn.CrossEntropyLoss()\n",
    "optimizer = optim.Adam(model.parameters(), lr=3e-4)\n",
    "scheduler = optim.lr_scheduler.StepLR(optimizer, step_size=1, gamma=0.1)"
   ]
  },
  {
   "cell_type": "code",
   "execution_count": 382,
   "metadata": {},
   "outputs": [
    {
     "ename": "ValueError",
     "evalue": "not enough values to unpack (expected 2, got 1)",
     "output_type": "error",
     "traceback": [
      "\u001b[1;31m---------------------------------------------------------------------------\u001b[0m",
      "\u001b[1;31mValueError\u001b[0m                                Traceback (most recent call last)",
      "\u001b[1;32m<ipython-input-382-6f7337e6056f>\u001b[0m in \u001b[0;36m<module>\u001b[1;34m\u001b[0m\n\u001b[0;32m      3\u001b[0m \u001b[0mloss_history\u001b[0m \u001b[1;33m=\u001b[0m \u001b[1;33m[\u001b[0m\u001b[1;33m]\u001b[0m\u001b[1;33m\u001b[0m\u001b[1;33m\u001b[0m\u001b[0m\n\u001b[0;32m      4\u001b[0m \u001b[1;32mfor\u001b[0m \u001b[0mepoch\u001b[0m \u001b[1;32min\u001b[0m \u001b[0mrange\u001b[0m\u001b[1;33m(\u001b[0m\u001b[1;36m1\u001b[0m\u001b[1;33m,\u001b[0m \u001b[1;36m12\u001b[0m\u001b[1;33m)\u001b[0m\u001b[1;33m:\u001b[0m\u001b[1;33m\u001b[0m\u001b[1;33m\u001b[0m\u001b[0m\n\u001b[1;32m----> 5\u001b[1;33m     \u001b[1;32mfor\u001b[0m \u001b[0mbatch_idx\u001b[0m\u001b[1;33m,\u001b[0m \u001b[1;33m(\u001b[0m\u001b[0mdata\u001b[0m\u001b[1;33m,\u001b[0m \u001b[0mtarget\u001b[0m\u001b[1;33m)\u001b[0m \u001b[1;32min\u001b[0m \u001b[0menumerate\u001b[0m\u001b[1;33m(\u001b[0m\u001b[0mtrainloader\u001b[0m\u001b[1;33m)\u001b[0m\u001b[1;33m:\u001b[0m\u001b[1;33m\u001b[0m\u001b[1;33m\u001b[0m\u001b[0m\n\u001b[0m\u001b[0;32m      6\u001b[0m         \u001b[0mdata\u001b[0m\u001b[1;33m,\u001b[0m \u001b[0mtarget\u001b[0m \u001b[1;33m=\u001b[0m \u001b[0mdata\u001b[0m\u001b[1;33m.\u001b[0m\u001b[0mto\u001b[0m\u001b[1;33m(\u001b[0m\u001b[0mdevice\u001b[0m\u001b[1;33m)\u001b[0m\u001b[1;33m,\u001b[0m \u001b[0mtarget\u001b[0m\u001b[1;33m.\u001b[0m\u001b[0mto\u001b[0m\u001b[1;33m(\u001b[0m\u001b[0mdevice\u001b[0m\u001b[1;33m)\u001b[0m\u001b[1;33m\u001b[0m\u001b[1;33m\u001b[0m\u001b[0m\n\u001b[0;32m      7\u001b[0m         \u001b[0moptimizer\u001b[0m\u001b[1;33m.\u001b[0m\u001b[0mzero_grad\u001b[0m\u001b[1;33m(\u001b[0m\u001b[1;33m)\u001b[0m\u001b[1;33m\u001b[0m\u001b[1;33m\u001b[0m\u001b[0m\n",
      "\u001b[1;31mValueError\u001b[0m: not enough values to unpack (expected 2, got 1)"
     ]
    }
   ],
   "source": [
    "model.train()\n",
    "step = 0 \n",
    "loss_history = []\n",
    "for epoch in range(1, 12):\n",
    "    for batch_idx, (data, target) in enumerate(trainloader):\n",
    "        data, target = data.to(device), target.to(device)\n",
    "        optimizer.zero_grad()\n",
    "        output = model(data)\n",
    "        loss = criterion(output, target)\n",
    "        loss.backward()\n",
    "        optimizer.step()\n",
    "        step += 1\n",
    "        loss_history.append(loss.item())\n",
    "        if step % 100  == 0:\n",
    "            print('Train Epoch: {} [{}/{} ({:.0f}%)]\\tLoss: {:.6f} '.format(\n",
    "                epoch, batch_idx * len(data), len(trainloader.dataset),\n",
    "                100. * batch_idx / len(trainloader), loss.item()))\n",
    "    scheduler.step()"
   ]
  },
  {
   "cell_type": "code",
   "execution_count": 351,
   "metadata": {},
   "outputs": [],
   "source": []
  },
  {
   "cell_type": "code",
   "execution_count": 352,
   "metadata": {},
   "outputs": [
    {
     "data": {
      "text/plain": [
       "tensor([0.5243, 0.5347, 0.4802, 0.5251, 0.4815, 0.4942, 0.5105, 0.4837, 0.4932,\n",
       "        0.4759], grad_fn=<SigmoidBackward>)"
      ]
     },
     "execution_count": 352,
     "metadata": {},
     "output_type": "execute_result"
    }
   ],
   "source": []
  },
  {
   "cell_type": "code",
   "execution_count": null,
   "metadata": {},
   "outputs": [],
   "source": []
  },
  {
   "cell_type": "code",
   "execution_count": null,
   "metadata": {},
   "outputs": [],
   "source": []
  },
  {
   "cell_type": "code",
   "execution_count": null,
   "metadata": {},
   "outputs": [],
   "source": []
  },
  {
   "cell_type": "code",
   "execution_count": null,
   "metadata": {},
   "outputs": [],
   "source": []
  },
  {
   "cell_type": "code",
   "execution_count": null,
   "metadata": {},
   "outputs": [],
   "source": []
  },
  {
   "cell_type": "code",
   "execution_count": null,
   "metadata": {},
   "outputs": [],
   "source": []
  },
  {
   "cell_type": "code",
   "execution_count": null,
   "metadata": {},
   "outputs": [],
   "source": []
  },
  {
   "cell_type": "code",
   "execution_count": null,
   "metadata": {},
   "outputs": [],
   "source": []
  },
  {
   "cell_type": "code",
   "execution_count": null,
   "metadata": {},
   "outputs": [],
   "source": []
  }
 ],
 "metadata": {
  "kernelspec": {
   "display_name": "Python 3",
   "language": "python",
   "name": "python3"
  },
  "language_info": {
   "codemirror_mode": {
    "name": "ipython",
    "version": 3
   },
   "file_extension": ".py",
   "mimetype": "text/x-python",
   "name": "python",
   "nbconvert_exporter": "python",
   "pygments_lexer": "ipython3",
   "version": "3.6.8"
  }
 },
 "nbformat": 4,
 "nbformat_minor": 2
}
