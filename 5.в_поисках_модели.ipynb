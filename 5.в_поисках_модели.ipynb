{
 "cells": [
  {
   "cell_type": "code",
   "execution_count": 1,
   "metadata": {},
   "outputs": [],
   "source": [
    "from sklearn.linear_model import LogisticRegression\n",
    "from sklearn.metrics import roc_curve, auc, precision_recall_curve, average_precision_score,classification_report,f1_score\n",
    "from sklearn.model_selection import train_test_split, GridSearchCV\n",
    "import numpy as np\n",
    "import pandas as pd\n",
    "from sklearn.datasets import load_breast_cancer \n",
    "from sklearn.preprocessing import StandardScaler\n",
    "import matplotlib.pyplot as plt \n",
    "\n",
    "import math\n",
    "import torch\n",
    "from torch import nn\n",
    "from torch import optim\n",
    "from torchvision.datasets import MNIST\n",
    "from torch.utils.data import TensorDataset, DataLoader\n",
    "\n",
    "import torch.nn.functional as F\n",
    "\n",
    "from torch.autograd import Variable\n",
    "from torchvision import datasets, transforms\n",
    "import torch.utils.data as utils\n",
    "from torch.optim import Adam "
   ]
  },
  {
   "cell_type": "code",
   "execution_count": 149,
   "metadata": {},
   "outputs": [],
   "source": [
    "trainloader = torch.utils.data.DataLoader(\n",
    "        torch.utils.data.Subset(datasets.MNIST('MNIST_data/', train=True, download=False,\n",
    "                       transform=transforms.Compose([\n",
    "                           transforms.ToTensor(),\n",
    "                           transforms.Normalize((0.1307,), (0.3081,))\n",
    "                       ])) , list(range(0 , 60000 , 110))),\n",
    "        batch_size=16, shuffle=True)\n",
    "test_loader = torch.utils.data.DataLoader(\n",
    "        datasets.MNIST('MNIST_data/', train=False, transform=transforms.Compose([\n",
    "                           transforms.ToTensor(),\n",
    "                           transforms.Normalize((0.1307,), (0.3081,))\n",
    "                       ])),\n",
    "        batch_size=16, shuffle=True)"
   ]
  },
  {
   "cell_type": "code",
   "execution_count": 150,
   "metadata": {},
   "outputs": [
    {
     "data": {
      "text/plain": [
       "560"
      ]
     },
     "execution_count": 150,
     "metadata": {},
     "output_type": "execute_result"
    }
   ],
   "source": [
    "len(trainloader)*16"
   ]
  },
  {
   "cell_type": "code",
   "execution_count": 151,
   "metadata": {},
   "outputs": [
    {
     "data": {
      "text/plain": [
       "10000"
      ]
     },
     "execution_count": 151,
     "metadata": {},
     "output_type": "execute_result"
    }
   ],
   "source": [
    "len(test_loader)*16"
   ]
  },
  {
   "cell_type": "code",
   "execution_count": null,
   "metadata": {},
   "outputs": [],
   "source": []
  },
  {
   "cell_type": "code",
   "execution_count": 152,
   "metadata": {},
   "outputs": [
    {
     "name": "stdout",
     "output_type": "stream",
     "text": [
      "cuda\n"
     ]
    }
   ],
   "source": [
    "device = torch.device('cuda' if torch.cuda.is_available() else 'cpu')\n",
    "print(device)\n",
    "device = torch.device('cpu')"
   ]
  },
  {
   "cell_type": "code",
   "execution_count": 153,
   "metadata": {},
   "outputs": [],
   "source": [
    "def call_pr_loss(a , variance):\n",
    "    k = len(a[0])\n",
    "    l = torch.sum(a**2)/ variance**2 /2/k\n",
    "    return k/2*math.log(2*math.pi) + 0.5*k*math.log(variance) + l"
   ]
  },
  {
   "cell_type": "code",
   "execution_count": 154,
   "metadata": {},
   "outputs": [],
   "source": [
    "def eva(test_loader , model):\n",
    "    model.eval()\n",
    "    test_loss = 0\n",
    "    correct = 0\n",
    "    with torch.no_grad():\n",
    "        for data, target in test_loader:\n",
    "            data, target = data.to(device), target.to(device)\n",
    "            data = data.view(data.size(0), -1)\n",
    "            output = model(data)\n",
    "            test_loss += criterion(output, target).item()  # sum up batch loss\n",
    "            pred = output.argmax(dim=1, keepdim=True)  # get the index of the max log-probability\n",
    "            correct += pred.eq(target.view_as(pred)).sum().item()\n",
    "\n",
    "    test_loss /= len(test_loader.dataset)\n",
    "    \n",
    "    print('\\nTest set: Average loss: {:.4f}, Accuracy: {}/{} ({:.0f}%)\\n'.format(\n",
    "        test_loss, correct, len(test_loader.dataset),\n",
    "        100. * correct / len(test_loader.dataset)))\n",
    "    \n",
    "    return (test_loss ,correct / len(test_loader.dataset) )"
   ]
  },
  {
   "cell_type": "code",
   "execution_count": 179,
   "metadata": {},
   "outputs": [
    {
     "data": {
      "text/plain": [
       "Sequential(\n",
       "  (l1): Linear(in_features=784, out_features=400, bias=True)\n",
       "  (r1): Sigmoid()\n",
       "  (l2): Linear(in_features=400, out_features=400, bias=True)\n",
       "  (r2): Sigmoid()\n",
       "  (l3): Linear(in_features=400, out_features=400, bias=True)\n",
       "  (r3): Sigmoid()\n",
       "  (l4): Linear(in_features=400, out_features=400, bias=True)\n",
       "  (r4): Sigmoid()\n",
       "  (l5): Linear(in_features=400, out_features=400, bias=True)\n",
       "  (r5): Sigmoid()\n",
       "  (lf): Linear(in_features=400, out_features=10, bias=True)\n",
       ")"
      ]
     },
     "execution_count": 179,
     "metadata": {},
     "output_type": "execute_result"
    }
   ],
   "source": [
    "model = nn.Sequential()\n",
    "model.add_module('l1', nn.Linear(784, 400))\n",
    "model.add_module('r1', nn.Sigmoid())\n",
    "model.add_module('l2', nn.Linear(400, 400))\n",
    "model.add_module('r2', nn.Sigmoid())\n",
    "model.add_module('l3', nn.Linear(400, 400))\n",
    "model.add_module('r3', nn.Sigmoid())\n",
    "model.add_module('l4', nn.Linear(400, 400))\n",
    "model.add_module('r4', nn.Sigmoid())\n",
    "model.add_module('l5', nn.Linear(400, 400))\n",
    "model.add_module('r5', nn.Sigmoid())\n",
    "model.add_module('lf', nn.Linear(400, 10))\n",
    "\n",
    "model.to(device)"
   ]
  },
  {
   "cell_type": "code",
   "execution_count": 180,
   "metadata": {},
   "outputs": [],
   "source": [
    "m_200 = 10\n",
    "m_784 = 10\n",
    "NUM_EPOCH = 500"
   ]
  },
  {
   "cell_type": "code",
   "execution_count": 181,
   "metadata": {},
   "outputs": [
    {
     "name": "stdout",
     "output_type": "stream",
     "text": [
      "Train Epoch: 29 [304/546 (54%)]\tLoss: 5763.818359 \n",
      "Train Epoch: 58 [64/546 (11%)]\tLoss: 5763.561523 \n",
      "Train Epoch: 86 [384/546 (69%)]\tLoss: 5763.550293 \n",
      "Train Epoch: 115 [144/546 (26%)]\tLoss: 5763.544434 \n",
      "Train Epoch: 143 [464/546 (83%)]\tLoss: 5763.554199 \n",
      "Train Epoch: 172 [224/546 (40%)]\tLoss: 5763.547852 \n",
      "Train Epoch: 200 [68/546 (97%)]\tLoss: 5763.543945 \n",
      "Train Epoch: 229 [304/546 (54%)]\tLoss: 5763.556641 \n",
      "Train Epoch: 258 [64/546 (11%)]\tLoss: 5763.550781 \n",
      "Train Epoch: 286 [384/546 (69%)]\tLoss: 5763.544922 \n",
      "Train Epoch: 315 [144/546 (26%)]\tLoss: 5763.541504 \n",
      "Train Epoch: 343 [464/546 (83%)]\tLoss: 5763.538574 \n",
      "Train Epoch: 372 [224/546 (40%)]\tLoss: 5763.550293 \n",
      "Train Epoch: 400 [68/546 (97%)]\tLoss: 5763.545410 \n",
      "Train Epoch: 429 [304/546 (54%)]\tLoss: 5763.541992 \n",
      "Train Epoch: 458 [64/546 (11%)]\tLoss: 5763.538574 \n",
      "Train Epoch: 486 [384/546 (69%)]\tLoss: 5763.549316 \n"
     ]
    }
   ],
   "source": [
    "criterion = nn.CrossEntropyLoss()\n",
    "optimizer = optim.Adam(model.parameters(), lr=0.001)\n",
    "#scheduler = optim.lr_scheduler.StepLR(optimizer, step_size=1, gamma=0.1)\n",
    "\n",
    "model.train()\n",
    "step = 0 \n",
    "loss_history = []\n",
    "for epoch in range(1, NUM_EPOCH):\n",
    "    for batch_idx, (data, target) in enumerate(trainloader):\n",
    "        \n",
    "        data, target = data.to(device), target.to(device)\n",
    "        data = data.view(data.size(0), -1)\n",
    "        optimizer.zero_grad()\n",
    "        output = model(data)\n",
    "        loss_0 = criterion(output, target)\n",
    "        loss_1 = call_pr_loss(model.l1.weight , m_784)\n",
    "        loss_2 = call_pr_loss(model.l2.weight , m_200)\n",
    "        loss_3 = call_pr_loss(model.l3.weight , m_200)\n",
    "        loss_4 = call_pr_loss(model.l4.weight , m_200)\n",
    "        loss_5 = call_pr_loss(model.l5.weight , m_200)\n",
    "        loss_f = call_pr_loss(model.lf.weight , m_200)\n",
    "        \n",
    "        \n",
    "        loss = loss_0 + loss_1+ loss_2+ loss_3 +  loss_4 + loss_5 + loss_f\n",
    "        loss.backward()\n",
    "        optimizer.step()\n",
    "        step += 1\n",
    "        loss_history.append(loss.item())\n",
    "        if step % 1000  == 0:\n",
    "            print('Train Epoch: {} [{}/{} ({:.0f}%)]\\tLoss: {:.6f} '.format(\n",
    "                epoch, batch_idx * len(data), len(trainloader.dataset),\n",
    "                100. * batch_idx / len(trainloader), loss.item()))\n"
   ]
  },
  {
   "cell_type": "code",
   "execution_count": 182,
   "metadata": {},
   "outputs": [
    {
     "name": "stdout",
     "output_type": "stream",
     "text": [
      "\n",
      "Test set: Average loss: 0.0741, Accuracy: 8350/10000 (84%)\n",
      "\n"
     ]
    }
   ],
   "source": [
    " c, d = eva(test_loader , model)"
   ]
  },
  {
   "cell_type": "code",
   "execution_count": 183,
   "metadata": {},
   "outputs": [
    {
     "data": {
      "text/plain": [
       "[<matplotlib.lines.Line2D at 0x153be6ff2c8>]"
      ]
     },
     "execution_count": 183,
     "metadata": {},
     "output_type": "execute_result"
    },
    {
     "data": {
      "image/png": "[encoded data removed]",
      "text/plain": [
       "<Figure size 432x288 with 1 Axes>"
      ]
     },
     "metadata": {
      "needs_background": "light"
     },
     "output_type": "display_data"
    }
   ],
   "source": [
    "plt.plot(loss_history)"
   ]
  },
  {
   "cell_type": "code",
   "execution_count": 184,
   "metadata": {},
   "outputs": [
    {
     "data": {
      "text/plain": [
       "Sequential(\n",
       "  (l1): Linear(in_features=784, out_features=400, bias=True)\n",
       "  (r1): Sigmoid()\n",
       "  (l2): Linear(in_features=400, out_features=400, bias=True)\n",
       "  (r2): Sigmoid()\n",
       "  (l3): Linear(in_features=400, out_features=400, bias=True)\n",
       "  (r3): Sigmoid()\n",
       "  (l4): Linear(in_features=400, out_features=400, bias=True)\n",
       "  (r4): Sigmoid()\n",
       "  (l5): Linear(in_features=400, out_features=400, bias=True)\n",
       "  (r5): Sigmoid()\n",
       "  (lf): Linear(in_features=400, out_features=10, bias=True)\n",
       ")"
      ]
     },
     "execution_count": 184,
     "metadata": {},
     "output_type": "execute_result"
    }
   ],
   "source": [
    "model = nn.Sequential()\n",
    "model.add_module('l1', nn.Linear(784, 400))\n",
    "model.add_module('r1', nn.Sigmoid())\n",
    "model.add_module('l2', nn.Linear(400, 400))\n",
    "model.add_module('r2', nn.Sigmoid())\n",
    "model.add_module('l3', nn.Linear(400, 400))\n",
    "model.add_module('r3', nn.Sigmoid())\n",
    "model.add_module('l4', nn.Linear(400, 400))\n",
    "model.add_module('r4', nn.Sigmoid())\n",
    "\n",
    "model.add_module('l5', nn.Linear(400, 400))\n",
    "model.add_module('r5', nn.Sigmoid())\n",
    "\n",
    "model.add_module('lf', nn.Linear(400, 10))\n",
    "\n",
    "model.to(device)"
   ]
  },
  {
   "cell_type": "code",
   "execution_count": 185,
   "metadata": {},
   "outputs": [
    {
     "name": "stdout",
     "output_type": "stream",
     "text": [
      "Train Epoch: 29 [304/546 (54%)]\tLoss: 0.096099 \n",
      "Train Epoch: 58 [64/546 (11%)]\tLoss: 0.010769 \n",
      "Train Epoch: 86 [384/546 (69%)]\tLoss: 0.002144 \n",
      "Train Epoch: 115 [144/546 (26%)]\tLoss: 0.000863 \n",
      "Train Epoch: 143 [464/546 (83%)]\tLoss: 0.000496 \n",
      "Train Epoch: 172 [224/546 (40%)]\tLoss: 0.000164 \n",
      "Train Epoch: 200 [68/546 (97%)]\tLoss: 0.000132 \n",
      "Train Epoch: 229 [304/546 (54%)]\tLoss: 0.000068 \n",
      "Train Epoch: 258 [64/546 (11%)]\tLoss: 0.000027 \n",
      "Train Epoch: 286 [384/546 (69%)]\tLoss: 0.000023 \n",
      "Train Epoch: 315 [144/546 (26%)]\tLoss: 0.000012 \n",
      "Train Epoch: 343 [464/546 (83%)]\tLoss: 0.000006 \n",
      "Train Epoch: 372 [224/546 (40%)]\tLoss: 0.000004 \n",
      "Train Epoch: 400 [68/546 (97%)]\tLoss: 0.000003 \n",
      "Train Epoch: 429 [304/546 (54%)]\tLoss: 0.000002 \n",
      "Train Epoch: 458 [64/546 (11%)]\tLoss: 0.000001 \n",
      "Train Epoch: 486 [384/546 (69%)]\tLoss: 0.000000 \n"
     ]
    }
   ],
   "source": [
    "criterion = nn.CrossEntropyLoss()\n",
    "optimizer = optim.Adam(model.parameters(), lr=0.001)\n",
    "\n",
    "\n",
    "model.train()\n",
    "step = 0 \n",
    "loss_history = []\n",
    "for epoch in range(1, NUM_EPOCH):\n",
    "    for batch_idx, (data, target) in enumerate(trainloader):\n",
    "        \n",
    "        data, target = data.to(device), target.to(device)\n",
    "        data = data.view(data.size(0), -1)\n",
    "        optimizer.zero_grad()\n",
    "        output = model(data)\n",
    "        loss_0 = criterion(output, target)\n",
    "        #loss_1 = call_pr_loss(model.l1.weight , m_784)\n",
    "        #loss_2 = call_pr_loss(model.l2.weight , m_200)\n",
    "        #loss_3 = call_pr_loss(model.l3.weight , m_200)\n",
    "        #loss_4 = call_pr_loss(model.l4.weight , m_200)\n",
    "        #loss_f = call_pr_loss(model.lf.weight , m_200)\n",
    "        \n",
    "        \n",
    "        loss = loss_0# + loss_1+ loss_2+ loss_3 + loss_f\n",
    "        loss.backward()\n",
    "        optimizer.step()\n",
    "        step += 1\n",
    "        loss_history.append(loss.item())\n",
    "        if step % 1000  == 0:\n",
    "            print('Train Epoch: {} [{}/{} ({:.0f}%)]\\tLoss: {:.6f} '.format(\n",
    "                epoch, batch_idx * len(data), len(trainloader.dataset),\n",
    "                100. * batch_idx / len(trainloader), loss.item()))\n",
    "    "
   ]
  },
  {
   "cell_type": "code",
   "execution_count": 186,
   "metadata": {},
   "outputs": [
    {
     "name": "stdout",
     "output_type": "stream",
     "text": [
      "\n",
      "Test set: Average loss: 0.1412, Accuracy: 8300/10000 (83%)\n",
      "\n"
     ]
    }
   ],
   "source": [
    " c, d = eva(test_loader , model)"
   ]
  },
  {
   "cell_type": "code",
   "execution_count": 187,
   "metadata": {},
   "outputs": [
    {
     "data": {
      "text/plain": [
       "[<matplotlib.lines.Line2D at 0x153bba78948>]"
      ]
     },
     "execution_count": 187,
     "metadata": {},
     "output_type": "execute_result"
    },
    {
     "data": {
      "image/png": "[encoded data removed]",
      "text/plain": [
       "<Figure size 432x288 with 1 Axes>"
      ]
     },
     "metadata": {
      "needs_background": "light"
     },
     "output_type": "display_data"
    }
   ],
   "source": [
    "plt.plot(loss_history)"
   ]
  },
  {
   "cell_type": "code",
   "execution_count": null,
   "metadata": {},
   "outputs": [],
   "source": []
  },
  {
   "cell_type": "code",
   "execution_count": 173,
   "metadata": {},
   "outputs": [],
   "source": [
    "m_200 = 5\n",
    "m_784 = 5\n",
    "NUM_EPOCH = 100"
   ]
  },
  {
   "cell_type": "code",
   "execution_count": 174,
   "metadata": {},
   "outputs": [
    {
     "data": {
      "text/plain": [
       "Sequential(\n",
       "  (l1): Linear(in_features=784, out_features=400, bias=True)\n",
       "  (r1): Sigmoid()\n",
       "  (l2): Linear(in_features=400, out_features=400, bias=True)\n",
       "  (r2): Sigmoid()\n",
       "  (l3): Linear(in_features=400, out_features=400, bias=True)\n",
       "  (r3): Sigmoid()\n",
       "  (l4): Linear(in_features=400, out_features=400, bias=True)\n",
       "  (r4): Sigmoid()\n",
       "  (l5): Linear(in_features=400, out_features=400, bias=True)\n",
       "  (r5): Sigmoid()\n",
       "  (lf): Linear(in_features=400, out_features=10, bias=True)\n",
       ")"
      ]
     },
     "execution_count": 174,
     "metadata": {},
     "output_type": "execute_result"
    }
   ],
   "source": [
    "model = nn.Sequential()\n",
    "model.add_module('l1', nn.Linear(784, 400))\n",
    "model.add_module('r1', nn.Sigmoid())\n",
    "model.add_module('l2', nn.Linear(400, 400))\n",
    "model.add_module('r2', nn.Sigmoid())\n",
    "model.add_module('l3', nn.Linear(400, 400))\n",
    "model.add_module('r3', nn.Sigmoid())\n",
    "model.add_module('l4', nn.Linear(400, 400))\n",
    "model.add_module('r4', nn.Sigmoid())\n",
    "\n",
    "model.add_module('l5', nn.Linear(400, 400))\n",
    "model.add_module('r5', nn.Sigmoid())\n",
    "\n",
    "model.add_module('lf', nn.Linear(400, 10))\n",
    "\n",
    "model.to(device)"
   ]
  },
  {
   "cell_type": "code",
   "execution_count": 175,
   "metadata": {},
   "outputs": [
    {
     "name": "stdout",
     "output_type": "stream",
     "text": [
      "Train Epoch: 29 [304/546 (54%)]\tLoss: 4799.506348 \n",
      "Train Epoch: 58 [64/546 (11%)]\tLoss: 4798.965332 \n",
      "Train Epoch: 86 [384/546 (69%)]\tLoss: 4798.770020 \n"
     ]
    }
   ],
   "source": [
    "criterion = nn.CrossEntropyLoss()\n",
    "optimizer = optim.Adam(model.parameters(), lr=0.001)\n",
    "#scheduler = optim.lr_scheduler.StepLR(optimizer, step_size=1, gamma=0.1)\n",
    "\n",
    "model.train()\n",
    "step = 0 \n",
    "loss_history = []\n",
    "for epoch in range(1, NUM_EPOCH):\n",
    "    for batch_idx, (data, target) in enumerate(trainloader):\n",
    "        \n",
    "        data, target = data.to(device), target.to(device)\n",
    "        data = data.view(data.size(0), -1)\n",
    "        optimizer.zero_grad()\n",
    "        output = model(data)\n",
    "        loss_0 = criterion(output, target)\n",
    "        loss_1 = call_pr_loss(model.l1.weight , m_784)\n",
    "        loss_2 = call_pr_loss(model.l2.weight , m_200)\n",
    "        loss_3 = call_pr_loss(model.l3.weight , m_200)\n",
    "        loss_4 = call_pr_loss(model.l4.weight , m_200)\n",
    "        loss_5 = call_pr_loss(model.l5.weight , m_200)\n",
    "        loss_f = call_pr_loss(model.lf.weight , m_200)\n",
    "        \n",
    "        \n",
    "        loss = loss_0 + loss_1+ loss_2+ loss_3 +  loss_4 + loss_5 + loss_f\n",
    "        loss.backward()\n",
    "        optimizer.step()\n",
    "        step += 1\n",
    "        loss_history.append(loss.item())\n",
    "        if step % 1000  == 0:\n",
    "            print('Train Epoch: {} [{}/{} ({:.0f}%)]\\tLoss: {:.6f} '.format(\n",
    "                epoch, batch_idx * len(data), len(trainloader.dataset),\n",
    "                100. * batch_idx / len(trainloader), loss.item()))"
   ]
  },
  {
   "cell_type": "code",
   "execution_count": 176,
   "metadata": {},
   "outputs": [
    {
     "name": "stdout",
     "output_type": "stream",
     "text": [
      "\n",
      "Test set: Average loss: 0.1097, Accuracy: 7172/10000 (72%)\n",
      "\n"
     ]
    }
   ],
   "source": [
    " c, d = eva(test_loader , model)"
   ]
  },
  {
   "cell_type": "code",
   "execution_count": 177,
   "metadata": {},
   "outputs": [
    {
     "data": {
      "text/plain": [
       "[<matplotlib.lines.Line2D at 0x153b20b1d08>]"
      ]
     },
     "execution_count": 177,
     "metadata": {},
     "output_type": "execute_result"
    },
    {
     "data": {
      "image/png": "[encoded data removed]",
      "text/plain": [
       "<Figure size 432x288 with 1 Axes>"
      ]
     },
     "metadata": {
      "needs_background": "light"
     },
     "output_type": "display_data"
    }
   ],
   "source": [
    "plt.plot(loss_history)"
   ]
  },
  {
   "cell_type": "code",
   "execution_count": null,
   "metadata": {},
   "outputs": [],
   "source": []
  },
  {
   "cell_type": "code",
   "execution_count": null,
   "metadata": {},
   "outputs": [],
   "source": []
  },
  {
   "cell_type": "code",
   "execution_count": null,
   "metadata": {},
   "outputs": [],
   "source": []
  },
  {
   "cell_type": "code",
   "execution_count": null,
   "metadata": {},
   "outputs": [],
   "source": []
  },
  {
   "cell_type": "code",
   "execution_count": null,
   "metadata": {},
   "outputs": [],
   "source": []
  },
  {
   "cell_type": "code",
   "execution_count": null,
   "metadata": {},
   "outputs": [],
   "source": []
  },
  {
   "cell_type": "code",
   "execution_count": null,
   "metadata": {},
   "outputs": [],
   "source": []
  },
  {
   "cell_type": "code",
   "execution_count": null,
   "metadata": {},
   "outputs": [],
   "source": []
  }
 ],
 "metadata": {
  "kernelspec": {
   "display_name": "Python 3",
   "language": "python",
   "name": "python3"
  },
  "language_info": {
   "codemirror_mode": {
    "name": "ipython",
    "version": 3
   },
   "file_extension": ".py",
   "mimetype": "text/x-python",
   "name": "python",
   "nbconvert_exporter": "python",
   "pygments_lexer": "ipython3",
   "version": "3.7.6"
  }
 },
 "nbformat": 4,
 "nbformat_minor": 4
}
