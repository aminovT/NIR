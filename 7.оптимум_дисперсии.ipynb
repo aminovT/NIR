{
 "cells": [
  {
   "cell_type": "code",
   "execution_count": 1,
   "metadata": {},
   "outputs": [],
   "source": [
    "from sklearn.linear_model import LogisticRegression\n",
    "from sklearn.metrics import roc_curve, auc, precision_recall_curve, average_precision_score,classification_report,f1_score\n",
    "from sklearn.model_selection import train_test_split, GridSearchCV\n",
    "import numpy as np\n",
    "import pandas as pd\n",
    "from sklearn.datasets import load_breast_cancer \n",
    "from sklearn.preprocessing import StandardScaler\n",
    "import matplotlib.pyplot as plt \n",
    "\n",
    "import math\n",
    "import torch\n",
    "from torch import nn\n",
    "from torch import optim\n",
    "from torchvision.datasets import MNIST\n",
    "from torch.utils.data import TensorDataset, DataLoader\n",
    "\n",
    "import torch.nn.functional as F\n",
    "\n",
    "from torch.autograd import Variable\n",
    "from torchvision import datasets, transforms\n",
    "import torch.utils.data as utils\n",
    "from torch.optim import Adam "
   ]
  },
  {
   "cell_type": "code",
   "execution_count": 15,
   "metadata": {},
   "outputs": [],
   "source": [
    "trainloader = torch.utils.data.DataLoader(\n",
    "        torch.utils.data.Subset(datasets.MNIST('MNIST_data/', train=True, download=False,\n",
    "                       transform=transforms.Compose([\n",
    "                           transforms.ToTensor(),\n",
    "                           \n",
    "                       ])) , list(range(0 , 60000 , 100))),\n",
    "        batch_size=64, shuffle=True)\n",
    "test_loader = torch.utils.data.DataLoader(\n",
    "        datasets.MNIST('MNIST_data/', train=False, transform=transforms.Compose([\n",
    "                           transforms.ToTensor(),\n",
    "                           \n",
    "                       ])),\n",
    "        batch_size=64, shuffle=True)"
   ]
  },
  {
   "cell_type": "code",
   "execution_count": 39,
   "metadata": {},
   "outputs": [
    {
     "data": {
      "text/plain": [
       "15008"
      ]
     },
     "execution_count": 39,
     "metadata": {},
     "output_type": "execute_result"
    }
   ],
   "source": [
    "len(trainloader)*16"
   ]
  },
  {
   "cell_type": "code",
   "execution_count": 18,
   "metadata": {},
   "outputs": [
    {
     "data": {
      "text/plain": [
       "10000"
      ]
     },
     "execution_count": 18,
     "metadata": {},
     "output_type": "execute_result"
    }
   ],
   "source": [
    "len(test_loader.dataset)"
   ]
  },
  {
   "cell_type": "code",
   "execution_count": null,
   "metadata": {},
   "outputs": [],
   "source": []
  },
  {
   "cell_type": "code",
   "execution_count": 6,
   "metadata": {},
   "outputs": [
    {
     "name": "stdout",
     "output_type": "stream",
     "text": [
      "cuda\n"
     ]
    }
   ],
   "source": [
    "device = torch.device('cuda' if torch.cuda.is_available() else 'cpu')\n",
    "print(device)\n",
    "#device = torch.device('cpu')"
   ]
  },
  {
   "cell_type": "code",
   "execution_count": 7,
   "metadata": {},
   "outputs": [],
   "source": [
    "def call_pr_loss(a , variance):\n",
    "    k = len(a[0])\n",
    "    l = torch.sum(a**2)/ variance**2 /2/k\n",
    "    return l  #k/2*math.log(2*math.pi) + 0.5*k*math.log(variance) "
   ]
  },
  {
   "cell_type": "code",
   "execution_count": 9,
   "metadata": {},
   "outputs": [],
   "source": [
    "def eva(test_loader , model):\n",
    "    model.eval()\n",
    "    test_loss = 0\n",
    "    correct = 0\n",
    "    with torch.no_grad():\n",
    "        for data, target in test_loader:\n",
    "            data, target = data.to(device), target.to(device)\n",
    "            data = data.view(data.size(0), -1)\n",
    "            output = model(data)\n",
    "            test_loss += criterion(output, target).item()  # sum up batch loss\n",
    "            pred = output.argmax(dim=1, keepdim=True)  # get the index of the max log-probability\n",
    "            correct += pred.eq(target.view_as(pred)).sum().item()\n",
    "\n",
    "    test_loss /= len(test_loader.dataset)\n",
    "    \n",
    "    print('\\nTest set: Average loss: {:.4f}, Accuracy: {}/{} ({:.0f}%)\\n'.format(\n",
    "        test_loss, correct, len(test_loader.dataset),\n",
    "        100. * correct / len(test_loader.dataset)))\n",
    "    \n",
    "    return (test_loss ,correct / len(test_loader.dataset) )"
   ]
  },
  {
   "cell_type": "code",
   "execution_count": 10,
   "metadata": {},
   "outputs": [],
   "source": [
    "def get_model():\n",
    "    model = nn.Sequential()\n",
    "    model.add_module('l1', nn.Linear(784, 400))\n",
    "    model.add_module('r1', nn.Sigmoid())\n",
    "    model.add_module('l2', nn.Linear(400, 400))\n",
    "    model.add_module('r2', nn.Sigmoid())\n",
    "    model.add_module('l3', nn.Linear(400, 400))\n",
    "    model.add_module('r3', nn.Sigmoid())\n",
    "    model.add_module('l4', nn.Linear(400, 400))\n",
    "    model.add_module('r4', nn.Sigmoid())\n",
    "    model.add_module('l5', nn.Linear(400, 400))\n",
    "    model.add_module('r5', nn.Sigmoid())\n",
    "    model.add_module('lf', nn.Linear(400, 10))\n",
    "\n",
    "    model.to(device)\n",
    "    return model"
   ]
  },
  {
   "cell_type": "code",
   "execution_count": null,
   "metadata": {},
   "outputs": [],
   "source": []
  },
  {
   "cell_type": "code",
   "execution_count": 297,
   "metadata": {},
   "outputs": [],
   "source": [
    "m_200 = 1\n",
    "m_784 = 1\n",
    "NUM_EPOCH = 200\n",
    "model = get_model()"
   ]
  },
  {
   "cell_type": "code",
   "execution_count": 23,
   "metadata": {},
   "outputs": [
    {
     "data": {
      "text/plain": [
       "array([1.00000000e+00, 3.59381366e+00, 1.29154967e+01, 4.64158883e+01,\n",
       "       1.66810054e+02, 5.99484250e+02, 2.15443469e+03, 7.74263683e+03,\n",
       "       2.78255940e+04, 1.00000000e+05])"
      ]
     },
     "execution_count": 23,
     "metadata": {},
     "output_type": "execute_result"
    }
   ],
   "source": [
    "np.logspace(0 , 5 , 10)"
   ]
  },
  {
   "cell_type": "code",
   "execution_count": 24,
   "metadata": {},
   "outputs": [
    {
     "name": "stdout",
     "output_type": "stream",
     "text": [
      "var = 1.0 Train Epoch: 100 [216/600 (90%)]\tLoss: 2.294958 \n",
      "\n",
      "Test set: Average loss: 0.0362, Accuracy: 1028/10000 (10%)\n",
      "\n",
      "var = 3.5938136638046276 Train Epoch: 100 [216/600 (90%)]\tLoss: 2.292208 \n",
      "\n",
      "Test set: Average loss: 0.0362, Accuracy: 1028/10000 (10%)\n",
      "\n",
      "var = 12.91549665014884 Train Epoch: 100 [216/600 (90%)]\tLoss: 0.187644 \n",
      "\n",
      "Test set: Average loss: 0.0290, Accuracy: 7195/10000 (72%)\n",
      "\n",
      "var = 46.4158883361278 Train Epoch: 100 [216/600 (90%)]\tLoss: 0.303501 \n",
      "\n",
      "Test set: Average loss: 0.0242, Accuracy: 7593/10000 (76%)\n",
      "\n",
      "var = 166.81005372000593 Train Epoch: 100 [216/600 (90%)]\tLoss: 0.021097 \n",
      "\n",
      "Test set: Average loss: 0.0240, Accuracy: 7663/10000 (77%)\n",
      "\n",
      "var = 599.4842503189409 Train Epoch: 100 [216/600 (90%)]\tLoss: 0.242127 \n",
      "\n",
      "Test set: Average loss: 0.0233, Accuracy: 7653/10000 (77%)\n",
      "\n",
      "var = 2154.4346900318847 Train Epoch: 100 [216/600 (90%)]\tLoss: 0.145727 \n",
      "\n",
      "Test set: Average loss: 0.0248, Accuracy: 7492/10000 (75%)\n",
      "\n",
      "var = 7742.636826811277 Train Epoch: 100 [216/600 (90%)]\tLoss: 0.167351 \n",
      "\n",
      "Test set: Average loss: 0.0251, Accuracy: 7358/10000 (74%)\n",
      "\n",
      "var = 27825.59402207126 Train Epoch: 100 [216/600 (90%)]\tLoss: 0.298138 \n",
      "\n",
      "Test set: Average loss: 0.0256, Accuracy: 7509/10000 (75%)\n",
      "\n",
      "var = 100000.0 Train Epoch: 100 [216/600 (90%)]\tLoss: 0.029090 \n",
      "\n",
      "Test set: Average loss: 0.0248, Accuracy: 7525/10000 (75%)\n",
      "\n"
     ]
    }
   ],
   "source": [
    "history_acc = []\n",
    "history = []\n",
    "for m_200 in np.logspace(0 , 5 , 10):\n",
    "    NUM_EPOCH = 200\n",
    "    model = get_model()\n",
    "    model.to(device)\n",
    "    criterion = nn.CrossEntropyLoss()\n",
    "    optimizer = optim.Adam(model.parameters(), lr=0.001)\n",
    "    #scheduler = optim.lr_scheduler.StepLR(optimizer, step_size=1, gamma=0.1)\n",
    "\n",
    "    model.train()\n",
    "    step = 0 \n",
    "    loss_history = []\n",
    "    loss_p = []\n",
    "    for epoch in range(1, NUM_EPOCH):\n",
    "        for batch_idx, (data, target) in enumerate(trainloader):\n",
    "\n",
    "            data, target = data.to(device), target.to(device)\n",
    "            data = data.view(data.size(0), -1)\n",
    "            optimizer.zero_grad()\n",
    "            output = model(data)\n",
    "            loss_0 = criterion(output, target)\n",
    "            loss_1 = call_pr_loss(model.l1.weight , m_200)\n",
    "            loss_2 = call_pr_loss(model.l2.weight , m_200)\n",
    "            loss_3 = call_pr_loss(model.l3.weight , m_200)\n",
    "            loss_4 = call_pr_loss(model.l4.weight , m_200)\n",
    "            loss_5 = call_pr_loss(model.l5.weight , m_200)\n",
    "            #loss_f = call_pr_loss(model.lf.weight , m_200)\n",
    "\n",
    "\n",
    "            loss = loss_0 + loss_1+ loss_2+ loss_3 +  loss_4 + loss_5 #+ loss_f\n",
    "            loss.backward()\n",
    "            optimizer.step()\n",
    "            step += 1\n",
    "            loss_history.append(loss.item())\n",
    "            loss_p.append(loss_0.item())\n",
    "            if step % 1000  == 0:\n",
    "                print('var = {} Train Epoch: {} [{}/{} ({:.0f}%)]\\tLoss: {:.6f} '.format(\n",
    "                    m_200,\n",
    "                    epoch, batch_idx * len(data), len(trainloader.dataset),\n",
    "                    100. * batch_idx / len(trainloader), loss.item()))\n",
    "\n",
    "    history_acc.append(eva(test_loader , model))\n",
    "    history.append((loss_history , loss_p))"
   ]
  },
  {
   "cell_type": "code",
   "execution_count": 36,
   "metadata": {},
   "outputs": [],
   "source": [
    "his = []\n",
    "for i in history_acc:\n",
    "    his.append(i[1])"
   ]
  },
  {
   "cell_type": "code",
   "execution_count": 41,
   "metadata": {},
   "outputs": [
    {
     "data": {
      "image/png": "[encoded data removed]",
      "text/plain": [
       "<Figure size 432x288 with 1 Axes>"
      ]
     },
     "metadata": {
      "needs_background": "light"
     },
     "output_type": "display_data"
    }
   ],
   "source": [
    "plt.figure()\n",
    "plt.plot(np.logspace(0 , 5 , 10) , his)\n",
    "plt.grid()\n",
    "plt.show()"
   ]
  },
  {
   "cell_type": "code",
   "execution_count": 42,
   "metadata": {},
   "outputs": [],
   "source": [
    "trainloader = torch.utils.data.DataLoader(\n",
    "        torch.utils.data.Subset(datasets.MNIST('MNIST_data/', train=True, download=False,\n",
    "                       transform=transforms.Compose([\n",
    "                           transforms.ToTensor(),\n",
    "                           \n",
    "                       ])) , list(range(0 , 60000 ))),\n",
    "        batch_size=64, shuffle=True)\n",
    "test_loader = torch.utils.data.DataLoader(\n",
    "        datasets.MNIST('MNIST_data/', train=False, transform=transforms.Compose([\n",
    "                           transforms.ToTensor(),\n",
    "                           \n",
    "                       ])),\n",
    "        batch_size=64, shuffle=True)"
   ]
  },
  {
   "cell_type": "code",
   "execution_count": 43,
   "metadata": {},
   "outputs": [
    {
     "name": "stdout",
     "output_type": "stream",
     "text": [
      "var = 1.0 Train Epoch: 2 [3904/60000 (7%)]\tLoss: 2.334471 \n",
      "var = 1.0 Train Epoch: 3 [7872/60000 (13%)]\tLoss: 2.312900 \n",
      "var = 1.0 Train Epoch: 4 [11840/60000 (20%)]\tLoss: 2.313036 \n",
      "\n",
      "Test set: Average loss: 0.0362, Accuracy: 1135/10000 (11%)\n",
      "\n",
      "var = 3.5938136638046276 Train Epoch: 2 [3904/60000 (7%)]\tLoss: 2.308225 \n",
      "var = 3.5938136638046276 Train Epoch: 3 [7872/60000 (13%)]\tLoss: 2.312685 \n",
      "var = 3.5938136638046276 Train Epoch: 4 [11840/60000 (20%)]\tLoss: 2.307365 \n",
      "\n",
      "Test set: Average loss: 0.0361, Accuracy: 1135/10000 (11%)\n",
      "\n",
      "var = 12.91549665014884 Train Epoch: 2 [3904/60000 (7%)]\tLoss: 0.402448 \n",
      "var = 12.91549665014884 Train Epoch: 3 [7872/60000 (13%)]\tLoss: 0.236617 \n",
      "var = 12.91549665014884 Train Epoch: 4 [11840/60000 (20%)]\tLoss: 0.067637 \n",
      "\n",
      "Test set: Average loss: 0.0024, Accuracy: 9569/10000 (96%)\n",
      "\n",
      "var = 46.4158883361278 Train Epoch: 2 [3904/60000 (7%)]\tLoss: 0.445093 \n",
      "var = 46.4158883361278 Train Epoch: 3 [7872/60000 (13%)]\tLoss: 0.123638 \n",
      "var = 46.4158883361278 Train Epoch: 4 [11840/60000 (20%)]\tLoss: 0.123278 \n",
      "\n",
      "Test set: Average loss: 0.0020, Accuracy: 9645/10000 (96%)\n",
      "\n",
      "var = 166.81005372000593 Train Epoch: 2 [3904/60000 (7%)]\tLoss: 0.399528 \n",
      "var = 166.81005372000593 Train Epoch: 3 [7872/60000 (13%)]\tLoss: 0.280307 \n",
      "var = 166.81005372000593 Train Epoch: 4 [11840/60000 (20%)]\tLoss: 0.043223 \n",
      "\n",
      "Test set: Average loss: 0.0020, Accuracy: 9617/10000 (96%)\n",
      "\n",
      "var = 599.4842503189409 Train Epoch: 2 [3904/60000 (7%)]\tLoss: 0.254924 \n",
      "var = 599.4842503189409 Train Epoch: 3 [7872/60000 (13%)]\tLoss: 0.136364 \n",
      "var = 599.4842503189409 Train Epoch: 4 [11840/60000 (20%)]\tLoss: 0.025149 \n",
      "\n",
      "Test set: Average loss: 0.0019, Accuracy: 9638/10000 (96%)\n",
      "\n",
      "var = 2154.4346900318847 Train Epoch: 2 [3904/60000 (7%)]\tLoss: 0.246700 \n",
      "var = 2154.4346900318847 Train Epoch: 3 [7872/60000 (13%)]\tLoss: 0.175683 \n",
      "var = 2154.4346900318847 Train Epoch: 4 [11840/60000 (20%)]\tLoss: 0.025436 \n",
      "\n",
      "Test set: Average loss: 0.0021, Accuracy: 9609/10000 (96%)\n",
      "\n",
      "var = 7742.636826811277 Train Epoch: 2 [3904/60000 (7%)]\tLoss: 0.278076 \n",
      "var = 7742.636826811277 Train Epoch: 3 [7872/60000 (13%)]\tLoss: 0.254946 \n",
      "var = 7742.636826811277 Train Epoch: 4 [11840/60000 (20%)]\tLoss: 0.142772 \n",
      "\n",
      "Test set: Average loss: 0.0019, Accuracy: 9636/10000 (96%)\n",
      "\n",
      "var = 27825.59402207126 Train Epoch: 2 [3904/60000 (7%)]\tLoss: 0.288693 \n",
      "var = 27825.59402207126 Train Epoch: 3 [7872/60000 (13%)]\tLoss: 0.047692 \n",
      "var = 27825.59402207126 Train Epoch: 4 [11840/60000 (20%)]\tLoss: 0.094542 \n",
      "\n",
      "Test set: Average loss: 0.0018, Accuracy: 9657/10000 (97%)\n",
      "\n",
      "var = 100000.0 Train Epoch: 2 [3904/60000 (7%)]\tLoss: 0.123227 \n",
      "var = 100000.0 Train Epoch: 3 [7872/60000 (13%)]\tLoss: 0.156679 \n",
      "var = 100000.0 Train Epoch: 4 [11840/60000 (20%)]\tLoss: 0.037367 \n",
      "\n",
      "Test set: Average loss: 0.0020, Accuracy: 9635/10000 (96%)\n",
      "\n"
     ]
    }
   ],
   "source": [
    "history_acc = []\n",
    "history = []\n",
    "for m_200 in np.logspace(0 , 5 , 10):\n",
    "    NUM_EPOCH = 5\n",
    "    model = get_model()\n",
    "    model.to(device)\n",
    "    criterion = nn.CrossEntropyLoss()\n",
    "    optimizer = optim.Adam(model.parameters(), lr=0.001)\n",
    "    #scheduler = optim.lr_scheduler.StepLR(optimizer, step_size=1, gamma=0.1)\n",
    "\n",
    "    model.train()\n",
    "    step = 0 \n",
    "    loss_history = []\n",
    "    loss_p = []\n",
    "    for epoch in range(1, NUM_EPOCH):\n",
    "        for batch_idx, (data, target) in enumerate(trainloader):\n",
    "\n",
    "            data, target = data.to(device), target.to(device)\n",
    "            data = data.view(data.size(0), -1)\n",
    "            optimizer.zero_grad()\n",
    "            output = model(data)\n",
    "            loss_0 = criterion(output, target)\n",
    "            loss_1 = call_pr_loss(model.l1.weight , m_200)\n",
    "            loss_2 = call_pr_loss(model.l2.weight , m_200)\n",
    "            loss_3 = call_pr_loss(model.l3.weight , m_200)\n",
    "            loss_4 = call_pr_loss(model.l4.weight , m_200)\n",
    "            loss_5 = call_pr_loss(model.l5.weight , m_200)\n",
    "            #loss_f = call_pr_loss(model.lf.weight , m_200)\n",
    "\n",
    "\n",
    "            loss = loss_0 + loss_1+ loss_2+ loss_3 +  loss_4 + loss_5 #+ loss_f\n",
    "            loss.backward()\n",
    "            optimizer.step()\n",
    "            step += 1\n",
    "            loss_history.append(loss.item())\n",
    "            loss_p.append(loss_0.item())\n",
    "            if step % 1000  == 0:\n",
    "                print('var = {} Train Epoch: {} [{}/{} ({:.0f}%)]\\tLoss: {:.6f} '.format(\n",
    "                    m_200,\n",
    "                    epoch, batch_idx * len(data), len(trainloader.dataset),\n",
    "                    100. * batch_idx / len(trainloader), loss.item()))\n",
    "\n",
    "    history_acc.append(eva(test_loader , model))\n",
    "    history.append((loss_history , loss_p))"
   ]
  },
  {
   "cell_type": "code",
   "execution_count": 44,
   "metadata": {},
   "outputs": [],
   "source": [
    "his = []\n",
    "for i in history_acc:\n",
    "    his.append(i[1])"
   ]
  },
  {
   "cell_type": "code",
   "execution_count": 45,
   "metadata": {},
   "outputs": [
    {
     "data": {
      "image/png": "[encoded data removed]",
      "text/plain": [
       "<Figure size 432x288 with 1 Axes>"
      ]
     },
     "metadata": {
      "needs_background": "light"
     },
     "output_type": "display_data"
    }
   ],
   "source": [
    "plt.figure()\n",
    "plt.plot(np.logspace(0 , 5 , 10) , his)\n",
    "plt.grid()\n",
    "plt.show()"
   ]
  },
  {
   "cell_type": "code",
   "execution_count": null,
   "metadata": {},
   "outputs": [],
   "source": []
  },
  {
   "cell_type": "code",
   "execution_count": null,
   "metadata": {},
   "outputs": [],
   "source": []
  },
  {
   "cell_type": "code",
   "execution_count": null,
   "metadata": {},
   "outputs": [],
   "source": []
  },
  {
   "cell_type": "code",
   "execution_count": null,
   "metadata": {},
   "outputs": [],
   "source": []
  },
  {
   "cell_type": "code",
   "execution_count": null,
   "metadata": {},
   "outputs": [],
   "source": []
  },
  {
   "cell_type": "code",
   "execution_count": null,
   "metadata": {},
   "outputs": [],
   "source": []
  }
 ],
 "metadata": {
  "kernelspec": {
   "display_name": "Python 3",
   "language": "python",
   "name": "python3"
  },
  "language_info": {
   "codemirror_mode": {
    "name": "ipython",
    "version": 3
   },
   "file_extension": ".py",
   "mimetype": "text/x-python",
   "name": "python",
   "nbconvert_exporter": "python",
   "pygments_lexer": "ipython3",
   "version": "3.7.6"
  }
 },
 "nbformat": 4,
 "nbformat_minor": 4
}
