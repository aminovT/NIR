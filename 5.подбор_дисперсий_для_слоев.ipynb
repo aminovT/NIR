{
 "cells": [
  {
   "cell_type": "code",
   "execution_count": 1,
   "metadata": {},
   "outputs": [],
   "source": [
    "from sklearn.linear_model import LogisticRegression\n",
    "from sklearn.metrics import roc_curve, auc, precision_recall_curve, average_precision_score,classification_report,f1_score\n",
    "from sklearn.model_selection import train_test_split, GridSearchCV\n",
    "import numpy as np\n",
    "import pandas as pd\n",
    "from sklearn.datasets import load_breast_cancer \n",
    "from sklearn.preprocessing import StandardScaler\n",
    "import matplotlib.pyplot as plt \n",
    "\n",
    "import math\n",
    "import torch\n",
    "from torch import nn\n",
    "from torch import optim\n",
    "from torchvision.datasets import MNIST\n",
    "from torch.utils.data import TensorDataset, DataLoader\n",
    "\n",
    "import torch.nn.functional as F\n",
    "\n",
    "from torch.autograd import Variable\n",
    "from torchvision import datasets, transforms\n",
    "import torch.utils.data as utils\n",
    "from torch.optim import Adam "
   ]
  },
  {
   "cell_type": "code",
   "execution_count": 2,
   "metadata": {},
   "outputs": [],
   "source": [
    "trainloader = torch.utils.data.DataLoader(\n",
    "        datasets.MNIST('MNIST_data/', train=True, download=True,\n",
    "                       transform=transforms.Compose([\n",
    "                           transforms.ToTensor(),\n",
    "                           transforms.Normalize((0.1307,), (0.3081,))\n",
    "                       ])),\n",
    "        batch_size=16, shuffle=True)\n",
    "test_loader = torch.utils.data.DataLoader(\n",
    "        datasets.MNIST('MNIST_data/', train=False, transform=transforms.Compose([\n",
    "                           transforms.ToTensor(),\n",
    "                           transforms.Normalize((0.1307,), (0.3081,))\n",
    "                       ])),\n",
    "        batch_size=16, shuffle=True)"
   ]
  },
  {
   "cell_type": "code",
   "execution_count": 3,
   "metadata": {},
   "outputs": [
    {
     "name": "stdout",
     "output_type": "stream",
     "text": [
      "cuda\n"
     ]
    }
   ],
   "source": [
    "device = torch.device('cuda' if torch.cuda.is_available() else 'cpu')\n",
    "print(device)\n",
    "device = torch.device('cpu')"
   ]
  },
  {
   "cell_type": "code",
   "execution_count": 4,
   "metadata": {},
   "outputs": [],
   "source": [
    "def call_pr_loss(a , variance):\n",
    "    k = len(a[0])\n",
    "    l = torch.sum(a**2)/ variance**2 /2/k\n",
    "    return k/2*math.log(2*math.pi) + 0.5*k*math.log(variance) + l"
   ]
  },
  {
   "cell_type": "code",
   "execution_count": 24,
   "metadata": {},
   "outputs": [],
   "source": [
    "def get_model():\n",
    "    model = nn.Sequential()\n",
    "    model.add_module('l1', nn.Linear(784, 200))\n",
    "    model.add_module('r1', nn.Sigmoid())\n",
    "    model.add_module('l2', nn.Linear(200, 200))\n",
    "    model.add_module('r2', nn.Sigmoid())\n",
    "    model.add_module('l3', nn.Linear(200, 200))\n",
    "    model.add_module('r3', nn.Sigmoid())\n",
    "\n",
    "    model.add_module('lf', nn.Linear(200, 10))\n",
    "\n",
    "    model.to(device)\n",
    "    return model"
   ]
  },
  {
   "cell_type": "code",
   "execution_count": 14,
   "metadata": {},
   "outputs": [],
   "source": [
    "def eva(test_loader , model):\n",
    "    model.eval()\n",
    "    test_loss = 0\n",
    "    correct = 0\n",
    "    with torch.no_grad():\n",
    "        for data, target in test_loader:\n",
    "            data, target = data.to(device), target.to(device)\n",
    "            data = data.view(data.size(0), -1)\n",
    "            output = model(data)\n",
    "            test_loss += criterion(output, target).item()  # sum up batch loss\n",
    "            pred = output.argmax(dim=1, keepdim=True)  # get the index of the max log-probability\n",
    "            correct += pred.eq(target.view_as(pred)).sum().item()\n",
    "\n",
    "    test_loss /= len(test_loader.dataset)\n",
    "    \n",
    "    print('\\nTest set: Average loss: {:.4f}, Accuracy: {}/{} ({:.0f}%)\\n'.format(\n",
    "        test_loss, correct, len(test_loader.dataset),\n",
    "        100. * correct / len(test_loader.dataset)))\n",
    "    \n",
    "    return (test_loss ,correct / len(test_loader.dataset) )"
   ]
  },
  {
   "cell_type": "code",
   "execution_count": 17,
   "metadata": {},
   "outputs": [],
   "source": [
    "m_200 = 1\n",
    "m_784 = 1"
   ]
  },
  {
   "cell_type": "code",
   "execution_count": 18,
   "metadata": {},
   "outputs": [
    {
     "name": "stdout",
     "output_type": "stream",
     "text": [
      "Train Epoch: 1 [15984/60000 (27%)]\tLoss: 1273.077637 \n",
      "Train Epoch: 1 [31984/60000 (53%)]\tLoss: 1272.683472 \n",
      "Train Epoch: 1 [47984/60000 (80%)]\tLoss: 1272.713135 \n",
      "Train Epoch: 2 [3984/60000 (7%)]\tLoss: 1272.667969 \n",
      "Train Epoch: 2 [19984/60000 (33%)]\tLoss: 1272.524658 \n",
      "Train Epoch: 2 [35984/60000 (60%)]\tLoss: 1272.529053 \n",
      "Train Epoch: 2 [51984/60000 (87%)]\tLoss: 1272.564453 \n",
      "Train Epoch: 3 [7984/60000 (13%)]\tLoss: 1272.808716 \n",
      "Train Epoch: 3 [23984/60000 (40%)]\tLoss: 1272.771606 \n",
      "Train Epoch: 3 [39984/60000 (67%)]\tLoss: 1272.528442 \n",
      "Train Epoch: 3 [55984/60000 (93%)]\tLoss: 1272.982666 \n",
      "Train Epoch: 4 [11984/60000 (20%)]\tLoss: 1272.658691 \n",
      "Train Epoch: 4 [27984/60000 (47%)]\tLoss: 1272.611694 \n",
      "Train Epoch: 4 [43984/60000 (73%)]\tLoss: 1272.553955 \n",
      "Train Epoch: 4 [59984/60000 (100%)]\tLoss: 1272.542480 \n",
      "Train Epoch: 5 [15984/60000 (27%)]\tLoss: 1272.583862 \n",
      "Train Epoch: 5 [31984/60000 (53%)]\tLoss: 1272.491699 \n",
      "Train Epoch: 5 [47984/60000 (80%)]\tLoss: 1272.529297 \n",
      "Train Epoch: 6 [3984/60000 (7%)]\tLoss: 1272.567993 \n",
      "Train Epoch: 6 [19984/60000 (33%)]\tLoss: 1272.479858 \n",
      "Train Epoch: 6 [35984/60000 (60%)]\tLoss: 1272.612305 \n",
      "Train Epoch: 6 [51984/60000 (87%)]\tLoss: 1272.738403 \n"
     ]
    }
   ],
   "source": [
    "criterion = nn.CrossEntropyLoss()\n",
    "optimizer = optim.Adam(model.parameters(), lr=0.001)\n",
    "scheduler = optim.lr_scheduler.StepLR(optimizer, step_size=1, gamma=0.1)\n",
    "\n",
    "model.train()\n",
    "step = 0 \n",
    "loss_history = []\n",
    "for epoch in range(1, 7):\n",
    "    for batch_idx, (data, target) in enumerate(trainloader):\n",
    "        \n",
    "        data, target = data.to(device), target.to(device)\n",
    "        data = data.view(data.size(0), -1)\n",
    "        optimizer.zero_grad()\n",
    "        output = model(data)\n",
    "        loss_0 = criterion(output, target)\n",
    "        loss_1 = call_pr_loss(model.l1.weight , m_784)\n",
    "        loss_2 = call_pr_loss(model.l2.weight , m_200)\n",
    "        loss_3 = call_pr_loss(model.l3.weight , m_200)\n",
    "        #loss_4 = call_pr_loss(model.l4.weight , m_200)\n",
    "        loss_f = call_pr_loss(model.lf.weight , m_200)\n",
    "        \n",
    "        \n",
    "        loss = loss_0 + loss_1+ loss_2+ loss_3 + loss_f\n",
    "        loss.backward()\n",
    "        optimizer.step()\n",
    "        step += 1\n",
    "        loss_history.append(loss.item())\n",
    "        if step % 1000  == 0:\n",
    "            print('Train Epoch: {} [{}/{} ({:.0f}%)]\\tLoss: {:.6f} '.format(\n",
    "                epoch, batch_idx * len(data), len(trainloader.dataset),\n",
    "                100. * batch_idx / len(trainloader), loss.item()))\n",
    "    scheduler.step()"
   ]
  },
  {
   "cell_type": "code",
   "execution_count": 20,
   "metadata": {},
   "outputs": [
    {
     "name": "stdout",
     "output_type": "stream",
     "text": [
      "\n",
      "Test set: Average loss: 0.0220, Accuracy: 9161/10000 (92%)\n",
      "\n"
     ]
    }
   ],
   "source": [
    " c, d = eva(test_loader , model)"
   ]
  },
  {
   "cell_type": "code",
   "execution_count": 13,
   "metadata": {},
   "outputs": [
    {
     "data": {
      "text/plain": [
       "[<matplotlib.lines.Line2D at 0x1a6e9151fc8>]"
      ]
     },
     "execution_count": 13,
     "metadata": {},
     "output_type": "execute_result"
    },
    {
     "data": {
      "image/png": "[encoded data removed]",
      "text/plain": [
       "<Figure size 432x288 with 1 Axes>"
      ]
     },
     "metadata": {
      "needs_background": "light"
     },
     "output_type": "display_data"
    }
   ],
   "source": [
    "plt.plot(loss_history)"
   ]
  },
  {
   "cell_type": "markdown",
   "metadata": {},
   "source": [
    "# проверка гипотез"
   ]
  },
  {
   "cell_type": "markdown",
   "metadata": {},
   "source": [
    "## 1. увеличиваем дисперсию с номером слоя\n",
    "\n",
    "для этого введем на который будем умножать дисперсию слоя"
   ]
  },
  {
   "cell_type": "code",
   "execution_count": 21,
   "metadata": {},
   "outputs": [],
   "source": [
    "weight = [1,2,3,4,5]"
   ]
  },
  {
   "cell_type": "code",
   "execution_count": 25,
   "metadata": {},
   "outputs": [],
   "source": [
    "model = get_model()"
   ]
  },
  {
   "cell_type": "code",
   "execution_count": 27,
   "metadata": {},
   "outputs": [
    {
     "name": "stdout",
     "output_type": "stream",
     "text": [
      "Train Epoch: 1 [15984/60000 (27%)]\tLoss: 1590.065430 \n",
      "Train Epoch: 1 [31984/60000 (53%)]\tLoss: 1590.333984 \n",
      "Train Epoch: 1 [47984/60000 (80%)]\tLoss: 1589.946411 \n",
      "Train Epoch: 2 [3984/60000 (7%)]\tLoss: 1590.177856 \n",
      "Train Epoch: 2 [19984/60000 (33%)]\tLoss: 1590.312012 \n",
      "Train Epoch: 2 [35984/60000 (60%)]\tLoss: 1590.057007 \n",
      "Train Epoch: 2 [51984/60000 (87%)]\tLoss: 1589.971436 \n",
      "Train Epoch: 3 [7984/60000 (13%)]\tLoss: 1590.025391 \n",
      "Train Epoch: 3 [23984/60000 (40%)]\tLoss: 1589.879883 \n",
      "Train Epoch: 3 [39984/60000 (67%)]\tLoss: 1590.156616 \n",
      "Train Epoch: 3 [55984/60000 (93%)]\tLoss: 1589.914673 \n",
      "Train Epoch: 4 [11984/60000 (20%)]\tLoss: 1590.164429 \n",
      "Train Epoch: 4 [27984/60000 (47%)]\tLoss: 1589.908325 \n",
      "Train Epoch: 4 [43984/60000 (73%)]\tLoss: 1589.944092 \n",
      "Train Epoch: 4 [59984/60000 (100%)]\tLoss: 1589.983154 \n",
      "Train Epoch: 5 [15984/60000 (27%)]\tLoss: 1589.859131 \n",
      "Train Epoch: 5 [31984/60000 (53%)]\tLoss: 1590.236694 \n",
      "Train Epoch: 5 [47984/60000 (80%)]\tLoss: 1589.918213 \n",
      "Train Epoch: 6 [3984/60000 (7%)]\tLoss: 1589.866455 \n",
      "Train Epoch: 6 [19984/60000 (33%)]\tLoss: 1589.901245 \n",
      "Train Epoch: 6 [35984/60000 (60%)]\tLoss: 1590.014160 \n",
      "Train Epoch: 6 [51984/60000 (87%)]\tLoss: 1590.140259 \n"
     ]
    }
   ],
   "source": [
    "criterion = nn.CrossEntropyLoss()\n",
    "optimizer = optim.Adam(model.parameters(), lr=0.001)\n",
    "#scheduler = optim.lr_scheduler.StepLR(optimizer, step_size=1, gamma=0.1)\n",
    "\n",
    "model.train()\n",
    "step = 0 \n",
    "loss_history = []\n",
    "for epoch in range(1, 7):\n",
    "    for batch_idx, (data, target) in enumerate(trainloader):\n",
    "        \n",
    "        data, target = data.to(device), target.to(device)\n",
    "        data = data.view(data.size(0), -1)\n",
    "        optimizer.zero_grad()\n",
    "        output = model(data)\n",
    "        loss_0 = criterion(output, target)\n",
    "        loss_1 = call_pr_loss(model.l1.weight , m_784*weight[0])\n",
    "        loss_2 = call_pr_loss(model.l2.weight , m_200*weight[1])\n",
    "        loss_3 = call_pr_loss(model.l3.weight , m_200*weight[2])\n",
    "        #loss_4 = call_pr_loss(model.l4.weight , m_200)\n",
    "        loss_f = call_pr_loss(model.lf.weight , m_200*weight[3])\n",
    "        \n",
    "        \n",
    "        loss = loss_0 + loss_1+ loss_2+ loss_3 + loss_f\n",
    "        loss.backward()\n",
    "        optimizer.step()\n",
    "        step += 1\n",
    "        loss_history.append(loss.item())\n",
    "        if step % 1000  == 0:\n",
    "            print('Train Epoch: {} [{}/{} ({:.0f}%)]\\tLoss: {:.6f} '.format(\n",
    "                epoch, batch_idx * len(data), len(trainloader.dataset),\n",
    "                100. * batch_idx / len(trainloader), loss.item()))"
   ]
  },
  {
   "cell_type": "code",
   "execution_count": 28,
   "metadata": {},
   "outputs": [
    {
     "name": "stdout",
     "output_type": "stream",
     "text": [
      "\n",
      "Test set: Average loss: 0.0088, Accuracy: 9564/10000 (96%)\n",
      "\n"
     ]
    }
   ],
   "source": [
    " c, d = eva(test_loader , model)"
   ]
  },
  {
   "cell_type": "code",
   "execution_count": 29,
   "metadata": {},
   "outputs": [
    {
     "data": {
      "text/plain": [
       "[<matplotlib.lines.Line2D at 0x1a6e5a2cf08>]"
      ]
     },
     "execution_count": 29,
     "metadata": {},
     "output_type": "execute_result"
    },
    {
     "data": {
      "image/png": "[encoded data removed]",
      "text/plain": [
       "<Figure size 432x288 with 1 Axes>"
      ]
     },
     "metadata": {
      "needs_background": "light"
     },
     "output_type": "display_data"
    }
   ],
   "source": [
    "plt.plot(loss_history)"
   ]
  },
  {
   "cell_type": "markdown",
   "metadata": {},
   "source": [
    "## уменьшение дисперсии от большой к малой (линейное)"
   ]
  },
  {
   "cell_type": "code",
   "execution_count": 35,
   "metadata": {},
   "outputs": [],
   "source": [
    "weight = [5,4,3,2,1]\n",
    "model = get_model()\n"
   ]
  },
  {
   "cell_type": "code",
   "execution_count": 36,
   "metadata": {},
   "outputs": [
    {
     "name": "stdout",
     "output_type": "stream",
     "text": [
      "Train Epoch: 1 [15984/60000 (27%)]\tLoss: 2220.861816 \n",
      "Train Epoch: 1 [31984/60000 (53%)]\tLoss: 2220.879639 \n",
      "Train Epoch: 1 [47984/60000 (80%)]\tLoss: 2220.714844 \n",
      "Train Epoch: 2 [3984/60000 (7%)]\tLoss: 2220.708496 \n",
      "Train Epoch: 2 [19984/60000 (33%)]\tLoss: 2220.852295 \n",
      "Train Epoch: 2 [35984/60000 (60%)]\tLoss: 2220.690918 \n",
      "Train Epoch: 2 [51984/60000 (87%)]\tLoss: 2220.866455 \n",
      "Train Epoch: 3 [7984/60000 (13%)]\tLoss: 2220.907715 \n",
      "Train Epoch: 3 [23984/60000 (40%)]\tLoss: 2220.683350 \n",
      "Train Epoch: 3 [39984/60000 (67%)]\tLoss: 2220.945557 \n",
      "Train Epoch: 3 [55984/60000 (93%)]\tLoss: 2220.720947 \n",
      "Train Epoch: 4 [11984/60000 (20%)]\tLoss: 2220.713867 \n",
      "Train Epoch: 4 [27984/60000 (47%)]\tLoss: 2220.739990 \n",
      "Train Epoch: 4 [43984/60000 (73%)]\tLoss: 2220.800537 \n",
      "Train Epoch: 4 [59984/60000 (100%)]\tLoss: 2220.780029 \n",
      "Train Epoch: 5 [15984/60000 (27%)]\tLoss: 2220.749268 \n",
      "Train Epoch: 5 [31984/60000 (53%)]\tLoss: 2220.703613 \n",
      "Train Epoch: 5 [47984/60000 (80%)]\tLoss: 2220.674805 \n",
      "Train Epoch: 6 [3984/60000 (7%)]\tLoss: 2220.712158 \n",
      "Train Epoch: 6 [19984/60000 (33%)]\tLoss: 2220.890869 \n",
      "Train Epoch: 6 [35984/60000 (60%)]\tLoss: 2220.715088 \n",
      "Train Epoch: 6 [51984/60000 (87%)]\tLoss: 2220.698975 \n"
     ]
    }
   ],
   "source": [
    "criterion = nn.CrossEntropyLoss()\n",
    "optimizer = optim.Adam(model.parameters(), lr=0.001)\n",
    "#scheduler = optim.lr_scheduler.StepLR(optimizer, step_size=1, gamma=0.1)\n",
    "\n",
    "model.train()\n",
    "step = 0 \n",
    "loss_history = []\n",
    "for epoch in range(1, 7):\n",
    "    for batch_idx, (data, target) in enumerate(trainloader):\n",
    "        \n",
    "        data, target = data.to(device), target.to(device)\n",
    "        data = data.view(data.size(0), -1)\n",
    "        optimizer.zero_grad()\n",
    "        output = model(data)\n",
    "        loss_0 = criterion(output, target)\n",
    "        loss_1 = call_pr_loss(model.l1.weight , m_784*weight[0])\n",
    "        loss_2 = call_pr_loss(model.l2.weight , m_200*weight[1])\n",
    "        loss_3 = call_pr_loss(model.l3.weight , m_200*weight[2])\n",
    "        #loss_4 = call_pr_loss(model.l4.weight , m_200)\n",
    "        loss_f = call_pr_loss(model.lf.weight , m_200*weight[3])\n",
    "        \n",
    "        \n",
    "        loss = loss_0 + loss_1+ loss_2+ loss_3 + loss_f\n",
    "        loss.backward()\n",
    "        optimizer.step()\n",
    "        step += 1\n",
    "        loss_history.append(loss.item())\n",
    "        if step % 1000  == 0:\n",
    "            print('Train Epoch: {} [{}/{} ({:.0f}%)]\\tLoss: {:.6f} '.format(\n",
    "                epoch, batch_idx * len(data), len(trainloader.dataset),\n",
    "                100. * batch_idx / len(trainloader), loss.item()))"
   ]
  },
  {
   "cell_type": "code",
   "execution_count": 37,
   "metadata": {},
   "outputs": [
    {
     "name": "stdout",
     "output_type": "stream",
     "text": [
      "\n",
      "Test set: Average loss: 0.0066, Accuracy: 9688/10000 (97%)\n",
      "\n"
     ]
    }
   ],
   "source": [
    " c, d = eva(test_loader , model)"
   ]
  },
  {
   "cell_type": "code",
   "execution_count": 38,
   "metadata": {},
   "outputs": [
    {
     "data": {
      "text/plain": [
       "[<matplotlib.lines.Line2D at 0x1a6f4708b08>]"
      ]
     },
     "execution_count": 38,
     "metadata": {},
     "output_type": "execute_result"
    },
    {
     "data": {
      "image/png": "[encoded data removed]",
      "text/plain": [
       "<Figure size 432x288 with 1 Axes>"
      ]
     },
     "metadata": {
      "needs_background": "light"
     },
     "output_type": "display_data"
    }
   ],
   "source": [
    "plt.plot(loss_history)"
   ]
  },
  {
   "cell_type": "markdown",
   "metadata": {},
   "source": [
    "## уменьшение дисперсии от большой к малой (экспоненциальное)"
   ]
  },
  {
   "cell_type": "code",
   "execution_count": 39,
   "metadata": {},
   "outputs": [],
   "source": [
    "weight = [16,8,4,2,1]\n",
    "model = get_model()"
   ]
  },
  {
   "cell_type": "code",
   "execution_count": 40,
   "metadata": {},
   "outputs": [
    {
     "name": "stdout",
     "output_type": "stream",
     "text": [
      "Train Epoch: 1 [15984/60000 (27%)]\tLoss: 2774.781982 \n",
      "Train Epoch: 1 [31984/60000 (53%)]\tLoss: 2774.658936 \n",
      "Train Epoch: 1 [47984/60000 (80%)]\tLoss: 2774.721191 \n",
      "Train Epoch: 2 [3984/60000 (7%)]\tLoss: 2774.899414 \n",
      "Train Epoch: 2 [19984/60000 (33%)]\tLoss: 2775.143311 \n",
      "Train Epoch: 2 [35984/60000 (60%)]\tLoss: 2774.683838 \n",
      "Train Epoch: 2 [51984/60000 (87%)]\tLoss: 2774.675049 \n",
      "Train Epoch: 3 [7984/60000 (13%)]\tLoss: 2774.729736 \n",
      "Train Epoch: 3 [23984/60000 (40%)]\tLoss: 2774.647461 \n",
      "Train Epoch: 3 [39984/60000 (67%)]\tLoss: 2774.647949 \n",
      "Train Epoch: 3 [55984/60000 (93%)]\tLoss: 2774.646240 \n",
      "Train Epoch: 4 [11984/60000 (20%)]\tLoss: 2774.696289 \n",
      "Train Epoch: 4 [27984/60000 (47%)]\tLoss: 2774.674805 \n",
      "Train Epoch: 4 [43984/60000 (73%)]\tLoss: 2774.787109 \n",
      "Train Epoch: 4 [59984/60000 (100%)]\tLoss: 2774.662109 \n",
      "Train Epoch: 5 [15984/60000 (27%)]\tLoss: 2774.655762 \n",
      "Train Epoch: 5 [31984/60000 (53%)]\tLoss: 2774.836426 \n",
      "Train Epoch: 5 [47984/60000 (80%)]\tLoss: 2774.733887 \n",
      "Train Epoch: 6 [3984/60000 (7%)]\tLoss: 2774.779541 \n",
      "Train Epoch: 6 [19984/60000 (33%)]\tLoss: 2774.640625 \n",
      "Train Epoch: 6 [35984/60000 (60%)]\tLoss: 2774.764648 \n",
      "Train Epoch: 6 [51984/60000 (87%)]\tLoss: 2774.664062 \n"
     ]
    }
   ],
   "source": [
    "criterion = nn.CrossEntropyLoss()\n",
    "optimizer = optim.Adam(model.parameters(), lr=0.001)\n",
    "#scheduler = optim.lr_scheduler.StepLR(optimizer, step_size=1, gamma=0.1)\n",
    "\n",
    "model.train()\n",
    "step = 0 \n",
    "loss_history = []\n",
    "for epoch in range(1, 7):\n",
    "    for batch_idx, (data, target) in enumerate(trainloader):\n",
    "        \n",
    "        data, target = data.to(device), target.to(device)\n",
    "        data = data.view(data.size(0), -1)\n",
    "        optimizer.zero_grad()\n",
    "        output = model(data)\n",
    "        loss_0 = criterion(output, target)\n",
    "        loss_1 = call_pr_loss(model.l1.weight , m_784*weight[0])\n",
    "        loss_2 = call_pr_loss(model.l2.weight , m_200*weight[1])\n",
    "        loss_3 = call_pr_loss(model.l3.weight , m_200*weight[2])\n",
    "        #loss_4 = call_pr_loss(model.l4.weight , m_200)\n",
    "        loss_f = call_pr_loss(model.lf.weight , m_200*weight[3])\n",
    "        \n",
    "        \n",
    "        loss = loss_0 + loss_1+ loss_2+ loss_3 + loss_f\n",
    "        loss.backward()\n",
    "        optimizer.step()\n",
    "        step += 1\n",
    "        loss_history.append(loss.item())\n",
    "        if step % 1000  == 0:\n",
    "            print('Train Epoch: {} [{}/{} ({:.0f}%)]\\tLoss: {:.6f} '.format(\n",
    "                epoch, batch_idx * len(data), len(trainloader.dataset),\n",
    "                100. * batch_idx / len(trainloader), loss.item()))"
   ]
  },
  {
   "cell_type": "code",
   "execution_count": 41,
   "metadata": {},
   "outputs": [
    {
     "name": "stdout",
     "output_type": "stream",
     "text": [
      "\n",
      "Test set: Average loss: 0.0061, Accuracy: 9706/10000 (97%)\n",
      "\n"
     ]
    }
   ],
   "source": [
    " c, d = eva(test_loader , model)"
   ]
  },
  {
   "cell_type": "code",
   "execution_count": 42,
   "metadata": {},
   "outputs": [
    {
     "data": {
      "text/plain": [
       "[<matplotlib.lines.Line2D at 0x1a6f4802c88>]"
      ]
     },
     "execution_count": 42,
     "metadata": {},
     "output_type": "execute_result"
    },
    {
     "data": {
      "image/png": "[encoded data removed]",
      "text/plain": [
       "<Figure size 432x288 with 1 Axes>"
      ]
     },
     "metadata": {
      "needs_background": "light"
     },
     "output_type": "display_data"
    }
   ],
   "source": [
    "plt.plot(loss_history)"
   ]
  },
  {
   "cell_type": "markdown",
   "metadata": {},
   "source": [
    "видим что значения дисперсий слишком большие для этой модели "
   ]
  },
  {
   "cell_type": "markdown",
   "metadata": {},
   "source": [
    "## without prior"
   ]
  },
  {
   "cell_type": "code",
   "execution_count": 43,
   "metadata": {},
   "outputs": [],
   "source": [
    "model = get_model()"
   ]
  },
  {
   "cell_type": "code",
   "execution_count": 44,
   "metadata": {},
   "outputs": [
    {
     "name": "stdout",
     "output_type": "stream",
     "text": [
      "Train Epoch: 1 [15984/60000 (27%)]\tLoss: 0.481881 \n",
      "Train Epoch: 1 [31984/60000 (53%)]\tLoss: 0.152889 \n",
      "Train Epoch: 1 [47984/60000 (80%)]\tLoss: 0.172863 \n",
      "Train Epoch: 2 [3984/60000 (7%)]\tLoss: 0.425005 \n",
      "Train Epoch: 2 [19984/60000 (33%)]\tLoss: 0.008543 \n",
      "Train Epoch: 2 [35984/60000 (60%)]\tLoss: 0.126606 \n",
      "Train Epoch: 2 [51984/60000 (87%)]\tLoss: 0.027704 \n",
      "Train Epoch: 3 [7984/60000 (13%)]\tLoss: 0.002404 \n",
      "Train Epoch: 3 [23984/60000 (40%)]\tLoss: 0.002706 \n",
      "Train Epoch: 3 [39984/60000 (67%)]\tLoss: 0.293016 \n",
      "Train Epoch: 3 [55984/60000 (93%)]\tLoss: 0.007404 \n",
      "Train Epoch: 4 [11984/60000 (20%)]\tLoss: 0.071859 \n",
      "Train Epoch: 4 [27984/60000 (47%)]\tLoss: 0.230536 \n",
      "Train Epoch: 4 [43984/60000 (73%)]\tLoss: 0.003542 \n",
      "Train Epoch: 4 [59984/60000 (100%)]\tLoss: 0.007056 \n",
      "Train Epoch: 5 [15984/60000 (27%)]\tLoss: 0.000631 \n",
      "Train Epoch: 5 [31984/60000 (53%)]\tLoss: 0.037436 \n",
      "Train Epoch: 5 [47984/60000 (80%)]\tLoss: 0.025768 \n",
      "Train Epoch: 6 [3984/60000 (7%)]\tLoss: 0.292954 \n",
      "Train Epoch: 6 [19984/60000 (33%)]\tLoss: 0.000907 \n",
      "Train Epoch: 6 [35984/60000 (60%)]\tLoss: 0.109163 \n",
      "Train Epoch: 6 [51984/60000 (87%)]\tLoss: 0.003610 \n"
     ]
    }
   ],
   "source": [
    "criterion = nn.CrossEntropyLoss()\n",
    "optimizer = optim.Adam(model.parameters(), lr=0.001)\n",
    "#scheduler = optim.lr_scheduler.StepLR(optimizer, step_size=1, gamma=0.1)\n",
    "\n",
    "model.train()\n",
    "step = 0 \n",
    "loss_history = []\n",
    "for epoch in range(1, 7):\n",
    "    for batch_idx, (data, target) in enumerate(trainloader):\n",
    "        \n",
    "        data, target = data.to(device), target.to(device)\n",
    "        data = data.view(data.size(0), -1)\n",
    "        optimizer.zero_grad()\n",
    "        output = model(data)\n",
    "        loss_0 = criterion(output, target)\n",
    "        #loss_1 = call_pr_loss(model.l1.weight , m_784*weight[0])\n",
    "        #loss_2 = call_pr_loss(model.l2.weight , m_200*weight[1])\n",
    "        #loss_3 = call_pr_loss(model.l3.weight , m_200*weight[2])\n",
    "        #loss_4 = call_pr_loss(model.l4.weight , m_200)\n",
    "        #loss_f = call_pr_loss(model.lf.weight , m_200*weight[3])\n",
    "        \n",
    "        \n",
    "        loss = loss_0 #+ loss_1+ loss_2+ loss_3 + loss_f\n",
    "        loss.backward()\n",
    "        optimizer.step()\n",
    "        step += 1\n",
    "        loss_history.append(loss.item())\n",
    "        if step % 1000  == 0:\n",
    "            print('Train Epoch: {} [{}/{} ({:.0f}%)]\\tLoss: {:.6f} '.format(\n",
    "                epoch, batch_idx * len(data), len(trainloader.dataset),\n",
    "                100. * batch_idx / len(trainloader), loss.item()))"
   ]
  },
  {
   "cell_type": "code",
   "execution_count": 45,
   "metadata": {},
   "outputs": [
    {
     "name": "stdout",
     "output_type": "stream",
     "text": [
      "\n",
      "Test set: Average loss: 0.0058, Accuracy: 9744/10000 (97%)\n",
      "\n"
     ]
    }
   ],
   "source": [
    " c, d = eva(test_loader , model)"
   ]
  },
  {
   "cell_type": "markdown",
   "metadata": {},
   "source": [
    "нужно уменьшить дисперсию для того чтобы разница была более явная\n"
   ]
  },
  {
   "cell_type": "code",
   "execution_count": 46,
   "metadata": {},
   "outputs": [],
   "source": [
    "weight = [1,4/5,3/5,2/5,1/5]\n",
    "model = get_model()"
   ]
  },
  {
   "cell_type": "code",
   "execution_count": 47,
   "metadata": {},
   "outputs": [
    {
     "name": "stdout",
     "output_type": "stream",
     "text": [
      "Train Epoch: 1 [15984/60000 (27%)]\tLoss: 1108.557617 \n",
      "Train Epoch: 1 [31984/60000 (53%)]\tLoss: 1108.452881 \n",
      "Train Epoch: 1 [47984/60000 (80%)]\tLoss: 1108.558228 \n",
      "Train Epoch: 2 [3984/60000 (7%)]\tLoss: 1108.469604 \n",
      "Train Epoch: 2 [19984/60000 (33%)]\tLoss: 1108.351074 \n",
      "Train Epoch: 2 [35984/60000 (60%)]\tLoss: 1108.154419 \n",
      "Train Epoch: 2 [51984/60000 (87%)]\tLoss: 1108.403809 \n",
      "Train Epoch: 3 [7984/60000 (13%)]\tLoss: 1108.217407 \n",
      "Train Epoch: 3 [23984/60000 (40%)]\tLoss: 1108.872803 \n",
      "Train Epoch: 3 [39984/60000 (67%)]\tLoss: 1108.042236 \n",
      "Train Epoch: 3 [55984/60000 (93%)]\tLoss: 1108.133179 \n",
      "Train Epoch: 4 [11984/60000 (20%)]\tLoss: 1108.174683 \n",
      "Train Epoch: 4 [27984/60000 (47%)]\tLoss: 1108.126953 \n",
      "Train Epoch: 4 [43984/60000 (73%)]\tLoss: 1108.376953 \n",
      "Train Epoch: 4 [59984/60000 (100%)]\tLoss: 1108.320557 \n",
      "Train Epoch: 5 [15984/60000 (27%)]\tLoss: 1108.564453 \n",
      "Train Epoch: 5 [31984/60000 (53%)]\tLoss: 1108.277344 \n",
      "Train Epoch: 5 [47984/60000 (80%)]\tLoss: 1108.158691 \n",
      "Train Epoch: 6 [3984/60000 (7%)]\tLoss: 1108.262451 \n",
      "Train Epoch: 6 [19984/60000 (33%)]\tLoss: 1108.491943 \n",
      "Train Epoch: 6 [35984/60000 (60%)]\tLoss: 1108.506470 \n",
      "Train Epoch: 6 [51984/60000 (87%)]\tLoss: 1108.192139 \n"
     ]
    }
   ],
   "source": [
    "criterion = nn.CrossEntropyLoss()\n",
    "optimizer = optim.Adam(model.parameters(), lr=0.001)\n",
    "#scheduler = optim.lr_scheduler.StepLR(optimizer, step_size=1, gamma=0.1)\n",
    "\n",
    "model.train()\n",
    "step = 0 \n",
    "loss_history = []\n",
    "for epoch in range(1, 7):\n",
    "    for batch_idx, (data, target) in enumerate(trainloader):\n",
    "        \n",
    "        data, target = data.to(device), target.to(device)\n",
    "        data = data.view(data.size(0), -1)\n",
    "        optimizer.zero_grad()\n",
    "        output = model(data)\n",
    "        loss_0 = criterion(output, target)\n",
    "        loss_1 = call_pr_loss(model.l1.weight , m_784*weight[0])\n",
    "        loss_2 = call_pr_loss(model.l2.weight , m_200*weight[1])\n",
    "        loss_3 = call_pr_loss(model.l3.weight , m_200*weight[2])\n",
    "        #loss_4 = call_pr_loss(model.l4.weight , m_200)\n",
    "        loss_f = call_pr_loss(model.lf.weight , m_200*weight[3])\n",
    "        \n",
    "        \n",
    "        loss = loss_0 + loss_1+ loss_2+ loss_3 + loss_f\n",
    "        loss.backward()\n",
    "        optimizer.step()\n",
    "        step += 1\n",
    "        loss_history.append(loss.item())\n",
    "        if step % 1000  == 0:\n",
    "            print('Train Epoch: {} [{}/{} ({:.0f}%)]\\tLoss: {:.6f} '.format(\n",
    "                epoch, batch_idx * len(data), len(trainloader.dataset),\n",
    "                100. * batch_idx / len(trainloader), loss.item()))"
   ]
  },
  {
   "cell_type": "code",
   "execution_count": 48,
   "metadata": {},
   "outputs": [
    {
     "name": "stdout",
     "output_type": "stream",
     "text": [
      "\n",
      "Test set: Average loss: 0.0607, Accuracy: 7338/10000 (73%)\n",
      "\n"
     ]
    }
   ],
   "source": [
    " c, d = eva(test_loader , model)"
   ]
  },
  {
   "cell_type": "code",
   "execution_count": 49,
   "metadata": {},
   "outputs": [],
   "source": [
    "weight = [1,8/16,4/16,2/16,1/16]\n",
    "model = get_model()"
   ]
  },
  {
   "cell_type": "code",
   "execution_count": 50,
   "metadata": {},
   "outputs": [
    {
     "name": "stdout",
     "output_type": "stream",
     "text": [
      "Train Epoch: 1 [15984/60000 (27%)]\tLoss: 858.147339 \n",
      "Train Epoch: 1 [31984/60000 (53%)]\tLoss: 858.197937 \n",
      "Train Epoch: 1 [47984/60000 (80%)]\tLoss: 858.192078 \n",
      "Train Epoch: 2 [3984/60000 (7%)]\tLoss: 858.266174 \n",
      "Train Epoch: 2 [19984/60000 (33%)]\tLoss: 858.241333 \n",
      "Train Epoch: 2 [35984/60000 (60%)]\tLoss: 858.207336 \n",
      "Train Epoch: 2 [51984/60000 (87%)]\tLoss: 858.226807 \n",
      "Train Epoch: 3 [7984/60000 (13%)]\tLoss: 858.270142 \n",
      "Train Epoch: 3 [23984/60000 (40%)]\tLoss: 858.214905 \n",
      "Train Epoch: 3 [39984/60000 (67%)]\tLoss: 858.229126 \n",
      "Train Epoch: 3 [55984/60000 (93%)]\tLoss: 858.233826 \n",
      "Train Epoch: 4 [11984/60000 (20%)]\tLoss: 858.210449 \n",
      "Train Epoch: 4 [27984/60000 (47%)]\tLoss: 858.243469 \n",
      "Train Epoch: 4 [43984/60000 (73%)]\tLoss: 858.209351 \n",
      "Train Epoch: 4 [59984/60000 (100%)]\tLoss: 858.213867 \n",
      "Train Epoch: 5 [15984/60000 (27%)]\tLoss: 858.253052 \n",
      "Train Epoch: 5 [31984/60000 (53%)]\tLoss: 858.254028 \n",
      "Train Epoch: 5 [47984/60000 (80%)]\tLoss: 858.228149 \n",
      "Train Epoch: 6 [3984/60000 (7%)]\tLoss: 858.241211 \n",
      "Train Epoch: 6 [19984/60000 (33%)]\tLoss: 858.236633 \n",
      "Train Epoch: 6 [35984/60000 (60%)]\tLoss: 858.218079 \n",
      "Train Epoch: 6 [51984/60000 (87%)]\tLoss: 858.232666 \n"
     ]
    }
   ],
   "source": [
    "criterion = nn.CrossEntropyLoss()\n",
    "optimizer = optim.Adam(model.parameters(), lr=0.001)\n",
    "#scheduler = optim.lr_scheduler.StepLR(optimizer, step_size=1, gamma=0.1)\n",
    "\n",
    "model.train()\n",
    "step = 0 \n",
    "loss_history = []\n",
    "for epoch in range(1, 7):\n",
    "    for batch_idx, (data, target) in enumerate(trainloader):\n",
    "        \n",
    "        data, target = data.to(device), target.to(device)\n",
    "        data = data.view(data.size(0), -1)\n",
    "        optimizer.zero_grad()\n",
    "        output = model(data)\n",
    "        loss_0 = criterion(output, target)\n",
    "        loss_1 = call_pr_loss(model.l1.weight , m_784*weight[0])\n",
    "        loss_2 = call_pr_loss(model.l2.weight , m_200*weight[1])\n",
    "        loss_3 = call_pr_loss(model.l3.weight , m_200*weight[2])\n",
    "        #loss_4 = call_pr_loss(model.l4.weight , m_200)\n",
    "        loss_f = call_pr_loss(model.lf.weight , m_200*weight[3])\n",
    "        \n",
    "        \n",
    "        loss = loss_0 + loss_1+ loss_2+ loss_3 + loss_f\n",
    "        loss.backward()\n",
    "        optimizer.step()\n",
    "        step += 1\n",
    "        loss_history.append(loss.item())\n",
    "        if step % 1000  == 0:\n",
    "            print('Train Epoch: {} [{}/{} ({:.0f}%)]\\tLoss: {:.6f} '.format(\n",
    "                epoch, batch_idx * len(data), len(trainloader.dataset),\n",
    "                100. * batch_idx / len(trainloader), loss.item()))"
   ]
  },
  {
   "cell_type": "code",
   "execution_count": 51,
   "metadata": {},
   "outputs": [
    {
     "name": "stdout",
     "output_type": "stream",
     "text": [
      "\n",
      "Test set: Average loss: 0.1438, Accuracy: 1135/10000 (11%)\n",
      "\n"
     ]
    }
   ],
   "source": [
    " c, d = eva(test_loader , model)"
   ]
  },
  {
   "cell_type": "code",
   "execution_count": null,
   "metadata": {},
   "outputs": [],
   "source": []
  }
 ],
 "metadata": {
  "kernelspec": {
   "display_name": "Python 3",
   "language": "python",
   "name": "python3"
  },
  "language_info": {
   "codemirror_mode": {
    "name": "ipython",
    "version": 3
   },
   "file_extension": ".py",
   "mimetype": "text/x-python",
   "name": "python",
   "nbconvert_exporter": "python",
   "pygments_lexer": "ipython3",
   "version": "3.7.6"
  }
 },
 "nbformat": 4,
 "nbformat_minor": 4
}
